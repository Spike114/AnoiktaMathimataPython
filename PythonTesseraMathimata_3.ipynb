{
 "cells": [
  {
   "cell_type": "markdown",
   "metadata": {},
   "source": [
    "# PYTHON ΣΕ ΤΕΣΣΕΡΑ ΜΑΘΗΜΑΤΑ"
   ]
  },
  {
   "cell_type": "markdown",
   "metadata": {},
   "source": [
    "# ΜΑΘΗΜΑ 3: Πλειάδες και Λεξικά"
   ]
  },
  {
   "cell_type": "markdown",
   "metadata": {},
   "source": [
    "[3.1 Πλειάδες](#3.1)\n",
    "* [Θέσεις/δείκτες](#3.1.1)\n",
    "* [Έλεγχοι διάταξης και συμμετοχής](#3.1.2)\n",
    "* [Αναλλοίωτα Στοιχεία](#3.1.3)\n",
    "* [Προσθέσεις, επαναλήψεις](#3.1.4)\n",
    "* [Ταξινόμηση με sorted](#3.1.5)\n",
    "* [Ταυτόχρονη καταχώρηση τιμών σε πολλές μεταβλητές](#3.1.6)\n",
    "\n",
    "[3.2 Λεξικά](#3.2)\n",
    "* [Έλεγχοι διάταξης και συμμετοχής](#3.2.1)\n",
    "* [Λίστες κλειδιών-τιμών](#3.2.2)\n",
    "* [Μετατροπή λιστών πλειάδων σε λεξικά](#3.2.3)\n",
    "* [Πρόσβαση](#3.2.4)\n",
    "* [get](#3.2.5)\n",
    "* [Τροποποιήσεις](#3.2.6)"
   ]
  },
  {
   "cell_type": "markdown",
   "metadata": {},
   "source": [
    "<a id='3.1'></a>\n",
    "## 3.1 Πλειάδες"
   ]
  },
  {
   "cell_type": "markdown",
   "metadata": {},
   "source": [
    "### Πλειάδα (tuple) = 'συλλογή' στοιχείων/αντικειμένων, που  είναι:\n",
    "* **Διατεταγμένη** (τα στοιχεία μιας πλειάδας έχουν μια συγκεκριμένη σειρά, κρατούν θέσεις/δείκτες)\n",
    "* **Αμετάβλητη** (τα στοιχεία μιας πλειάδας ΔΕΝ μπορούν να αλλάξουν!)\n",
    "\n",
    "Επιπλέον, τα στοιχεία μιας πλειάδας μπορούν να είναι:\n",
    "* **Πολλαπλά** (δηλαδή, το ίδιο στοιχείο μπορεί να επαναλαμβάνεται μέσα σε μια πλειάδα)\n",
    "* **Δεδομένα διάφορων τύπων**:\n",
    "    - αριθμοί - ακέραιοι ή πραγματικοί \n",
    "    - συμβολοσειρές\n",
    "    - λίστες, σύνολα, πλειάδες, λεξικά\n",
    "    \n",
    "### Μια πλειάδα γράφεται ως tuple = (element1, element2, ..., elementn) ή (και χωρίς παρενθέσεις)  element1, element2, ..., elementn\n",
    "* **Άδεια πλειάδα**: **empty_tuple = ( )** ή **empty_tuple = tuple()**\n",
    "* **Πλειάδα με ένα (μοναδικό) στοιχείο**: **tuple1elem = (element,)** ή **tuple1elem = element,**\n",
    "* **Μήκος πλειάδας**: **len(tuple)** = το πλήθος των στοιχείων της πλειάδας tuple"
   ]
  },
  {
   "cell_type": "code",
   "execution_count": 21,
   "metadata": {
    "collapsed": false
   },
   "outputs": [
    {
     "name": "stdout",
     "output_type": "stream",
     "text": [
      "('g', 7, 'g') <type 'tuple'>\n",
      "('g', 7, 'g') <type 'tuple'>\n",
      "True\n"
     ]
    },
    {
     "data": {
      "text/plain": [
       "True"
      ]
     },
     "execution_count": 21,
     "metadata": {},
     "output_type": "execute_result"
    }
   ],
   "source": [
    "tup = ('g',7,'g')\n",
    "print tup, type(tup)\n",
    "\n",
    "tup1 = ('G',)  # OXI ('G') xwris to ','\n",
    "\n",
    "tupz = 'g',7,'g'\n",
    "print tupz, type(tupz)\n",
    "\n",
    "tup1z = 'G',\n",
    "\n",
    "print tup == tupz\n",
    "tup1 == tup1z"
   ]
  },
  {
   "cell_type": "markdown",
   "metadata": {},
   "source": [
    "<a id='3.1.1'></a>\n",
    "### Θέσεις/δείκτες"
   ]
  },
  {
   "cell_type": "code",
   "execution_count": 25,
   "metadata": {
    "collapsed": false
   },
   "outputs": [
    {
     "name": "stdout",
     "output_type": "stream",
     "text": [
      "[0, 1, 2, 3, 4, 5]\n",
      "[0, 10, 2, 3, 4, 5]\n",
      "1\n"
     ]
    }
   ],
   "source": [
    "li = range(6)\n",
    "tu = tuple(li)\n",
    "print li\n",
    "li[1] = 10\n",
    "print li\n",
    "print tu[1]\n",
    "# tu[1] = 100"
   ]
  },
  {
   "cell_type": "code",
   "execution_count": 28,
   "metadata": {
    "collapsed": false
   },
   "outputs": [
    {
     "name": "stdout",
     "output_type": "stream",
     "text": [
      "0\n"
     ]
    },
    {
     "data": {
      "text/plain": [
       "1"
      ]
     },
     "execution_count": 28,
     "metadata": {},
     "output_type": "execute_result"
    }
   ],
   "source": [
    "# Ypostirizetai to index stis pleiades \n",
    "# (alla gia tin thesi tis prwtis emfanisis)\n",
    "\n",
    "xx = 21, 'a', 3, 21, 'a', 'a'\n",
    "print xx.index(21)\n",
    "xx.index('a')"
   ]
  },
  {
   "cell_type": "code",
   "execution_count": 29,
   "metadata": {
    "collapsed": false
   },
   "outputs": [
    {
     "name": "stdout",
     "output_type": "stream",
     "text": [
      "2\n"
     ]
    },
    {
     "data": {
      "text/plain": [
       "3"
      ]
     },
     "execution_count": 29,
     "metadata": {},
     "output_type": "execute_result"
    }
   ],
   "source": [
    "# Ypostirizetai to count stis pleiades \n",
    "\n",
    "print xx.count(21)\n",
    "xx.count('a')"
   ]
  },
  {
   "cell_type": "markdown",
   "metadata": {},
   "source": [
    "<a id='3.1.2'></a>\n",
    "### Έλεγχοι διάταξης και συμμετοχής"
   ]
  },
  {
   "cell_type": "code",
   "execution_count": 30,
   "metadata": {
    "collapsed": false
   },
   "outputs": [
    {
     "data": {
      "text/plain": [
       "False"
      ]
     },
     "execution_count": 30,
     "metadata": {},
     "output_type": "execute_result"
    }
   ],
   "source": [
    "xx = 21, 'a', 3, 21, 'a', 'a'\n",
    "xy = 'a', 3, 21, 'a', 21, 'a'\n",
    "\n",
    "xy == xx"
   ]
  },
  {
   "cell_type": "code",
   "execution_count": 32,
   "metadata": {
    "collapsed": false
   },
   "outputs": [
    {
     "name": "stdout",
     "output_type": "stream",
     "text": [
      "True\n"
     ]
    },
    {
     "data": {
      "text/plain": [
       "False"
      ]
     },
     "execution_count": 32,
     "metadata": {},
     "output_type": "execute_result"
    }
   ],
   "source": [
    "print 21 in xx\n",
    "210 in xx"
   ]
  },
  {
   "cell_type": "markdown",
   "metadata": {},
   "source": [
    "<a id='3.1.3'></a>\n",
    "### Αναλλοίωτα στοιχεία"
   ]
  },
  {
   "cell_type": "code",
   "execution_count": 35,
   "metadata": {
    "collapsed": false
   },
   "outputs": [
    {
     "name": "stdout",
     "output_type": "stream",
     "text": [
      "3\n"
     ]
    }
   ],
   "source": [
    "print xx[2]\n",
    "# xx[2] = 33"
   ]
  },
  {
   "cell_type": "markdown",
   "metadata": {},
   "source": [
    "<a id='3.1.4'></a>\n",
    "### Προσθέσεις και επαναλήψεις"
   ]
  },
  {
   "cell_type": "code",
   "execution_count": 40,
   "metadata": {
    "collapsed": false
   },
   "outputs": [
    {
     "name": "stdout",
     "output_type": "stream",
     "text": [
      "(21, 'a', 3, 21, 'a', 'a', 'k', 'o')\n",
      "(21, 'a', 3, 21, 'a', 'a', 'k')\n"
     ]
    },
    {
     "data": {
      "text/plain": [
       "('k', 'o', 'k', 'o', 'k', 'o', 'k', 'o', 'k', 'o')"
      ]
     },
     "execution_count": 40,
     "metadata": {},
     "output_type": "execute_result"
    }
   ],
   "source": [
    "print xx + ('k','o')\n",
    "print xx + ('k',)\n",
    "('k','o')*5"
   ]
  },
  {
   "cell_type": "markdown",
   "metadata": {},
   "source": [
    "<a id='3.1.5'></a>\n",
    "### Ταξινόμηση με sorted"
   ]
  },
  {
   "cell_type": "code",
   "execution_count": 43,
   "metadata": {
    "collapsed": false
   },
   "outputs": [
    {
     "data": {
      "text/plain": [
       "[3, 21, 21, 'A', 'a', 'b']"
      ]
     },
     "execution_count": 43,
     "metadata": {},
     "output_type": "execute_result"
    }
   ],
   "source": [
    "xxx = (21, 'b', 3, 21, 'a', 'A')\n",
    "sorted(xxx)"
   ]
  },
  {
   "cell_type": "code",
   "execution_count": 45,
   "metadata": {
    "collapsed": false
   },
   "outputs": [],
   "source": [
    "# xxx.sort()"
   ]
  },
  {
   "cell_type": "markdown",
   "metadata": {},
   "source": [
    "#### Εφαρμογή ταξινόμησης σε λίστες με στοιχεία πλειάδες"
   ]
  },
  {
   "cell_type": "code",
   "execution_count": 47,
   "metadata": {
    "collapsed": false
   },
   "outputs": [
    {
     "data": {
      "text/plain": [
       "[(3, 2, 1), (5,), (10, 20), ('a', 100)]"
      ]
     },
     "execution_count": 47,
     "metadata": {},
     "output_type": "execute_result"
    }
   ],
   "source": [
    "ff = [(10,20),('a',100),(3,2,1),(5,)]\n",
    "sorted(ff)"
   ]
  },
  {
   "cell_type": "markdown",
   "metadata": {},
   "source": [
    "\n",
    "<a id='3.1.6'></a>\n",
    "### Ταυτόχρονη καταχώρηση τιμών σε πολλές μεταβλητές"
   ]
  },
  {
   "cell_type": "code",
   "execution_count": 51,
   "metadata": {
    "collapsed": false
   },
   "outputs": [
    {
     "name": "stdout",
     "output_type": "stream",
     "text": [
      "23:34 1.78 70\n",
      "23:34 70 1.78\n",
      "10 30\n",
      "30 10\n"
     ]
    }
   ],
   "source": [
    "# time = '23:34'\n",
    "# hight = 1.78\n",
    "# weight = 70\n",
    "\n",
    "time, height, weight = '23:34', 1.78, 70\n",
    "print time, height, weight\n",
    "\n",
    "weight, height = height, weight\n",
    "print time, height, weight\n",
    "\n",
    "x, y = 10, 30\n",
    "print x, y\n",
    "x, y = y, x\n",
    "print x, y"
   ]
  },
  {
   "cell_type": "markdown",
   "metadata": {},
   "source": [
    "<a id='3.2'></a>\n",
    "## 3.2 Λεξικά"
   ]
  },
  {
   "cell_type": "markdown",
   "metadata": {},
   "source": [
    "### Λεξικό (dictionary) = 'συλλογή' στοιχείων/αντικειμένων, που  είναι:\n",
    "* **Ζευγάρια** (πλειάδες δυο στοιχείων): τα πρώτα ονομάζονται **κλειδιά** (**keys**) και τα δεύτερα ονομάζονται **τιμές** (**values**). \n",
    "* **Χωρίς διάταξη** (τα στοιχεία του λεξικού ΔΕΝ έχουν καμία σειρά, δεν κρατούν θέσεις/δείκτες)\n",
    "* **Μεταβλητά** (τα στοιχεία ενός λεξικού μπορούν να αλλάξουν: να προστεθούν, να αφαιρεθούν ή να αντικατασταθούν)\n",
    "\n",
    "Επιπλέον, τα **κλειδιά** ενός λεξικού πρέπει να είναι:\n",
    "* **Μοναδικά** (δηλαδή, το ίδιο κλειδί ΔΕΝ μπορεί να επαναλαμβάνεται μέσα σε ένα λεξικό)\n",
    "* **Δεδομένα μόνο των εξής τύπων**:\n",
    "    - αριθμοί - ακέραιοι ή πραγματικοί \n",
    "    - συμβολοσειρές\n",
    "    - πλειάδες\n",
    "    \n",
    "ενώ οι **τιμές** ενός λεξικού μπορούν να είναι:\n",
    "* **Επαναλαμβανόμενες/Πολλαπλές** (δηλαδή, η ίδια τιμή μπορεί να καταχωρείται σε περισσότερα του ενός κλειδιά)\n",
    "* **Δεδομένα διάφορων τύπων**:\n",
    "    - αριθμοί - ακέραιοι ή πραγματικοί \n",
    "    - συμβολοσειρές\n",
    "    - λίστες, σύνολα, πλειάδες, λεξικά\n",
    "    \n",
    "### Ένα λεξικό γράφεται ως dictionary = {key1:value1, key2:value2, ..., keyn:valuen} ή dictionary = dict(((key1,value1), (key2,value2), ..., (keyn,valuen))) ή dictionary = dict(key1=value1, key2=value2, ..., keyn=valuen)\n",
    "* **Άδειο λεξικό**: **empty_dictionary = { }** ή **empty_list = dict()**\n",
    "* **Μήκος λεξικού**: **len(dictionary)** = το πλήθος των στοιχείων του λεξικού dictionary"
   ]
  },
  {
   "cell_type": "code",
   "execution_count": 69,
   "metadata": {
    "collapsed": false
   },
   "outputs": [
    {
     "name": "stdout",
     "output_type": "stream",
     "text": [
      "True True True\n"
     ]
    }
   ],
   "source": [
    "ddd1 = {'Mary':19,'Jane':16,'John':20}\n",
    "ddd2 = dict((('Mary',19),('Jane',16),('John',20)))\n",
    "ddd3 = dict(Mary=19,Jane=16,John=20)\n",
    "\n",
    "print ddd1 == ddd2, ddd2 == ddd3, ddd1 == ddd3"
   ]
  },
  {
   "cell_type": "markdown",
   "metadata": {},
   "source": [
    "<a id='3.2.1'></a>\n",
    "### Έλεγχοι διάταξης και συμμετοχής"
   ]
  },
  {
   "cell_type": "code",
   "execution_count": null,
   "metadata": {
    "collapsed": true
   },
   "outputs": [],
   "source": []
  },
  {
   "cell_type": "markdown",
   "metadata": {},
   "source": [
    "<a id='3.2.2'></a>\n",
    "### Λίστες κλειδιών-τιμών"
   ]
  },
  {
   "cell_type": "code",
   "execution_count": null,
   "metadata": {
    "collapsed": true
   },
   "outputs": [],
   "source": []
  },
  {
   "cell_type": "markdown",
   "metadata": {},
   "source": [
    "<a id='3.2.3'></a>\n",
    "### Μετατροπή λιστών πλειάδων σε λεξικά"
   ]
  },
  {
   "cell_type": "code",
   "execution_count": null,
   "metadata": {
    "collapsed": true
   },
   "outputs": [],
   "source": []
  },
  {
   "cell_type": "markdown",
   "metadata": {},
   "source": [
    "<a id='3.2.4'></a>\n",
    "### Πρόσβαση"
   ]
  },
  {
   "cell_type": "code",
   "execution_count": null,
   "metadata": {
    "collapsed": true
   },
   "outputs": [],
   "source": []
  },
  {
   "cell_type": "markdown",
   "metadata": {},
   "source": [
    "<a id='3.2.5'></a>\n",
    "### get"
   ]
  },
  {
   "cell_type": "code",
   "execution_count": null,
   "metadata": {
    "collapsed": true
   },
   "outputs": [],
   "source": []
  },
  {
   "cell_type": "markdown",
   "metadata": {},
   "source": [
    "<a id='3.2.6'></a>\n",
    "### Τροποποιήσεις"
   ]
  },
  {
   "cell_type": "code",
   "execution_count": null,
   "metadata": {
    "collapsed": true
   },
   "outputs": [],
   "source": []
  },
  {
   "cell_type": "code",
   "execution_count": null,
   "metadata": {
    "collapsed": true
   },
   "outputs": [],
   "source": []
  }
 ],
 "metadata": {
  "kernelspec": {
   "display_name": "Python 2",
   "language": "python",
   "name": "python2"
  },
  "language_info": {
   "codemirror_mode": {
    "name": "ipython",
    "version": 2
   },
   "file_extension": ".py",
   "mimetype": "text/x-python",
   "name": "python",
   "nbconvert_exporter": "python",
   "pygments_lexer": "ipython2",
   "version": "2.7.11"
  }
 },
 "nbformat": 4,
 "nbformat_minor": 0
}
