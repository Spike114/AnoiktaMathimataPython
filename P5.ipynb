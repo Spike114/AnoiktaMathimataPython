{
 "cells": [
  {
   "cell_type": "markdown",
   "metadata": {},
   "source": [
    "# 5. ΣΥΜΒΟΛΟΣΕΙΡΕΣ ΚΑΙ ΚΕΙΜΕΝΟ"
   ]
  },
  {
   "cell_type": "markdown",
   "metadata": {},
   "source": [
    "[5.1 Έξοδος Δεδομένων με την Εντολή print](#5.1)\n",
    "\n",
    "[5.2 Είσοδος Δεδομένων με τις Συναρτήσεις raw_input και input](#5.2)\n",
    "\n",
    "[5.3 Μήκος Συμβολοσειράς και Πρόσβαση στα Στοιχεία της](#5.3)\n",
    "\n",
    "[5.4 Τελεστές σε Συμβολοσειρές](#5.4)\n",
    "\n",
    "[5.5 Μορφοποίηση Συμβολοσειρών](#5.5)\n",
    "\n",
    "[5.6 Ενσωματωμένες Μέθοδοι Συμβολοσειρών](#5.6)\n",
    "\n",
    "[5.7 Άνοιγμα-Κλείσιμο Αρχείων Κειμένου](#5.7)\n",
    "\n",
    "[5.8 Διάβασμα-Γράψιμο Αρχείων Κειμένου](#5.8)\n",
    "\n",
    "[5.9 Διαχείριση Αρχείων-Καταλόγων στον Υπολογιστή](#5.9)"
   ]
  },
  {
   "cell_type": "markdown",
   "metadata": {
    "collapsed": true
   },
   "source": [
    "<a id='5.1'></a>\n",
    "## 5.1 Έξοδος Δεδομένων με την Εντολή print"
   ]
  },
  {
   "cell_type": "markdown",
   "metadata": {},
   "source": [
    "Η εκτύπωση είναι της μορφής:\n",
    "\n",
    "print a, b, c, d\n",
    "\n",
    "όπου τα a, b, c, d είναι συμβολοσειρές (ή μεταβλητές), χωρισμένες με κόμματα (,). Για τη μορφοτύπηση (formatting) των τιμών μεταβλητών μέσα σε συμβολοσειρές θα δούμε πιο κάτω.\n",
    "\n",
    "ΚΑΘΕ ΣΥΜΒΟΛΟΣΕΙΡΑ ΠΡΕΠΕΙ ΝΑ ΠΕΡΚΛΕΙΕΤΑΙ ΜΕ ΕΙΣΑΓΩΓΙΚΑ ΤΟΥ ΙΔΙΟΥ ΤΥΠΟΥ ('.' ή \".\" ή '''.''' κλπ.) ΟΤΑΝ ΜΕΣΑ ΣΤΗ ΣΥΜΒΟΛΟΣΕΙΡΑ ΕίΤΕ ΔΕΝ ΥΠΑΡΧΟΥΝ ΕΙΣΑΓΩΓΙΚΑ 'Η ΤΑ ΠΕΡΙΕΧ¨ΟΜΕΝΑ ΕΙΣΑΓΩΓΙΚΑ ΕΙΝΑΙ ΕΜΦΩΛΙΑΣΜΕΝΑ ΣΕ ΔΙΑΦΟΡΕΤΙΚΟΥΣ ΤΥΠΟΥΣ ΤΟ ΚΑΘΕΝΑ."
   ]
  },
  {
   "cell_type": "code",
   "execution_count": 31,
   "metadata": {
    "collapsed": false
   },
   "outputs": [
    {
     "name": "stdout",
     "output_type": "stream",
     "text": [
      "Python is really a great language, right?\n",
      "Python is really a great language, right?\n",
      "Python is really a great language, right?\n",
      "Python is really a great language, isn't it? No, it's not! I'm kiddin'\n",
      "Python is really a great language, isn't it?\n",
      "Someone said: 'Python is really a great language, isn't it?'\n"
     ]
    }
   ],
   "source": [
    "print 'Python is really a great language, right?'\n",
    "print \"Python is really a great language, right?\"\n",
    "print 'Python is really a great language,', 'right?'\n",
    "print 'Python is really a great language,', \"isn't it? No, it's not! I'm kiddin'\"\n",
    "q = \"isn't it?\"\n",
    "print 'Python is really a great language,', q\n",
    "print \"Someone said: 'Python is really a great language, isn't it?'\""
   ]
  },
  {
   "cell_type": "code",
   "execution_count": 2,
   "metadata": {
    "collapsed": false
   },
   "outputs": [
    {
     "ename": "SyntaxError",
     "evalue": "invalid syntax (<ipython-input-2-e237e10e22b6>, line 1)",
     "output_type": "error",
     "traceback": [
      "\u001b[0;36m  File \u001b[0;32m\"<ipython-input-2-e237e10e22b6>\"\u001b[0;36m, line \u001b[0;32m1\u001b[0m\n\u001b[0;31m    print 'Python is really a great language,', 'isn't it?'\u001b[0m\n\u001b[0m                                                     ^\u001b[0m\n\u001b[0;31mSyntaxError\u001b[0m\u001b[0;31m:\u001b[0m invalid syntax\n"
     ]
    }
   ],
   "source": [
    "print 'Python is really a great language,', 'isn't it?'"
   ]
  },
  {
   "cell_type": "markdown",
   "metadata": {},
   "source": [
    "Φυσικά, η εντολή print τυπώνει και αριθμούς ή και αριθμητικές πράξεις (όπως είδαμε ως τώρα):"
   ]
  },
  {
   "cell_type": "code",
   "execution_count": 1,
   "metadata": {
    "collapsed": false
   },
   "outputs": [
    {
     "name": "stdout",
     "output_type": "stream",
     "text": [
      "1.2 1000\n",
      "19.0\n",
      "1001.2\n",
      "1001.2\n"
     ]
    }
   ],
   "source": [
    "k = 1.2\n",
    "l = 10**3\n",
    "print k, l\n",
    "print 17. + 2\n",
    "print k + l\n",
    "m = k + l\n",
    "print m"
   ]
  },
  {
   "cell_type": "markdown",
   "metadata": {},
   "source": [
    "### Η διαφορά μεταξύ εκτέλεσης (run) και εκτύπωσης (print)"
   ]
  },
  {
   "cell_type": "code",
   "execution_count": 10,
   "metadata": {
    "collapsed": false
   },
   "outputs": [
    {
     "data": {
      "text/plain": [
       "'Hellow World!'"
      ]
     },
     "execution_count": 10,
     "metadata": {},
     "output_type": "execute_result"
    }
   ],
   "source": [
    "'Hellow World!'"
   ]
  },
  {
   "cell_type": "code",
   "execution_count": 6,
   "metadata": {
    "collapsed": false
   },
   "outputs": [
    {
     "data": {
      "text/plain": [
       "str"
      ]
     },
     "execution_count": 6,
     "metadata": {},
     "output_type": "execute_result"
    }
   ],
   "source": [
    "type('Hellow World!')"
   ]
  },
  {
   "cell_type": "code",
   "execution_count": 11,
   "metadata": {
    "collapsed": false
   },
   "outputs": [
    {
     "data": {
      "text/plain": [
       "('Hellow World!', 56)"
      ]
     },
     "execution_count": 11,
     "metadata": {},
     "output_type": "execute_result"
    }
   ],
   "source": [
    "'Hellow World!', 56"
   ]
  },
  {
   "cell_type": "code",
   "execution_count": 14,
   "metadata": {
    "collapsed": false
   },
   "outputs": [
    {
     "data": {
      "text/plain": [
       "tuple"
      ]
     },
     "execution_count": 14,
     "metadata": {},
     "output_type": "execute_result"
    }
   ],
   "source": [
    "type(('Hellow World!', 56))"
   ]
  },
  {
   "cell_type": "markdown",
   "metadata": {},
   "source": [
    "Οι **tuples** (**πλειάδες**) είναι μια από τις σημαντικές **δομές δεδομένων** που έχει η Python και θα ασχοληθούμε με αυτές στη συνέχεια του μαθήματος."
   ]
  },
  {
   "cell_type": "code",
   "execution_count": 2,
   "metadata": {
    "collapsed": false
   },
   "outputs": [
    {
     "name": "stdout",
     "output_type": "stream",
     "text": [
      "Hellow World!\n"
     ]
    }
   ],
   "source": [
    "print 'Hellow World!'"
   ]
  },
  {
   "cell_type": "code",
   "execution_count": 12,
   "metadata": {
    "collapsed": false
   },
   "outputs": [
    {
     "name": "stdout",
     "output_type": "stream",
     "text": [
      "Hellow World! 56\n"
     ]
    }
   ],
   "source": [
    "print 'Hellow World!', 56"
   ]
  },
  {
   "cell_type": "code",
   "execution_count": 3,
   "metadata": {
    "collapsed": false
   },
   "outputs": [
    {
     "name": "stdout",
     "output_type": "stream",
     "text": [
      "Hellow World!\n"
     ]
    }
   ],
   "source": [
    "s = 'Hellow World!'\n",
    "print s"
   ]
  },
  {
   "cell_type": "code",
   "execution_count": 7,
   "metadata": {
    "collapsed": false
   },
   "outputs": [
    {
     "data": {
      "text/plain": [
       "str"
      ]
     },
     "execution_count": 7,
     "metadata": {},
     "output_type": "execute_result"
    }
   ],
   "source": [
    "type(s)"
   ]
  },
  {
   "cell_type": "code",
   "execution_count": 8,
   "metadata": {
    "collapsed": false
   },
   "outputs": [
    {
     "name": "stdout",
     "output_type": "stream",
     "text": [
      "<type 'str'>\n"
     ]
    }
   ],
   "source": [
    "print type(s)"
   ]
  },
  {
   "cell_type": "markdown",
   "metadata": {},
   "source": [
    "<a id='5.2'></a>\n",
    "## 5.2 Είσοδος Δεδομένων με τις Συναρτήσεις raw_input και input"
   ]
  },
  {
   "cell_type": "markdown",
   "metadata": {},
   "source": [
    "### Το raw_input δέχεται ως είσοδο δεδομένα οποιουδήποτε τύπου, αλλά τα βγάζει στην έξοδο μόνο ως συμβολοσειρές"
   ]
  },
  {
   "cell_type": "code",
   "execution_count": 11,
   "metadata": {
    "collapsed": false
   },
   "outputs": [
    {
     "name": "stdout",
     "output_type": "stream",
     "text": [
      "Enter your input: Hello World!\n",
      "Printing the received input as: Hello World!\n",
      "The received input is of <type 'str'>\n"
     ]
    }
   ],
   "source": [
    "s = raw_input(\"Enter your input: \")\n",
    "print \"Printing the received input as:\", s\n",
    "print 'The received input is of', type(s)"
   ]
  },
  {
   "cell_type": "code",
   "execution_count": 12,
   "metadata": {
    "collapsed": false
   },
   "outputs": [
    {
     "name": "stdout",
     "output_type": "stream",
     "text": [
      "Enter your input: 123\n",
      "Printing the received input as: 123\n",
      "The received input is of <type 'str'>\n"
     ]
    }
   ],
   "source": [
    "s = raw_input(\"Enter your input: \")\n",
    "print \"Printing the received input as:\", s\n",
    "print 'The received input is of', type(s)"
   ]
  },
  {
   "cell_type": "code",
   "execution_count": 13,
   "metadata": {
    "collapsed": false
   },
   "outputs": [
    {
     "name": "stdout",
     "output_type": "stream",
     "text": [
      "Enter your input: [1,2,3,3]\n",
      "Printing the received input as: [1,2,3,3]\n",
      "The received input is of <type 'str'>\n"
     ]
    }
   ],
   "source": [
    "s = raw_input(\"Enter your input: \")\n",
    "print \"Printing the received input as:\", s\n",
    "print 'The received input is of', type(s)"
   ]
  },
  {
   "cell_type": "markdown",
   "metadata": {},
   "source": [
    "### Το input δέχεται ως είσοδο δεδομένα οποιουδήποτε τύπου και τα βγάζει στην έξοδο στον τύπο που είναι (εκτός αν τα εισερχόμενα δεδομένα δεν έχουν ορισθεί)"
   ]
  },
  {
   "cell_type": "code",
   "execution_count": 14,
   "metadata": {
    "collapsed": false
   },
   "outputs": [
    {
     "name": "stdout",
     "output_type": "stream",
     "text": [
      "Enter your input: 'Hello, World!'\n",
      "Printing the received input as: Hello, World!\n",
      "The received input is of <type 'str'>\n"
     ]
    }
   ],
   "source": [
    "s = input(\"Enter your input: \")\n",
    "print \"Printing the received input as:\", s\n",
    "print 'The received input is of', type(s)"
   ]
  },
  {
   "cell_type": "code",
   "execution_count": 15,
   "metadata": {
    "collapsed": false
   },
   "outputs": [
    {
     "name": "stdout",
     "output_type": "stream",
     "text": [
      "Enter your input: 123.45\n",
      "Printing the received input as: 123.45\n",
      "The received input is of <type 'float'>\n"
     ]
    }
   ],
   "source": [
    "s = input(\"Enter your input: \")\n",
    "print \"Printing the received input as:\", s\n",
    "print 'The received input is of', type(s)"
   ]
  },
  {
   "cell_type": "code",
   "execution_count": 16,
   "metadata": {
    "collapsed": false
   },
   "outputs": [
    {
     "name": "stdout",
     "output_type": "stream",
     "text": [
      "Enter your input: [1,2,3,2,3]\n",
      "Printing the received input as: [1, 2, 3, 2, 3]\n",
      "The received input is of <type 'list'>\n"
     ]
    }
   ],
   "source": [
    "s = input(\"Enter your input: \")\n",
    "print \"Printing the received input as:\", s\n",
    "print 'The received input is of', type(s)"
   ]
  },
  {
   "cell_type": "code",
   "execution_count": 17,
   "metadata": {
    "collapsed": false
   },
   "outputs": [
    {
     "name": "stdout",
     "output_type": "stream",
     "text": [
      "Enter your input: Hello World!\n"
     ]
    },
    {
     "ename": "SyntaxError",
     "evalue": "invalid syntax (<string>, line 1)",
     "output_type": "error",
     "traceback": [
      "\u001b[0;36m  File \u001b[0;32m\"<string>\"\u001b[0;36m, line \u001b[0;32m1\u001b[0m\n\u001b[0;31m    Hello World!\u001b[0m\n\u001b[0m              ^\u001b[0m\n\u001b[0;31mSyntaxError\u001b[0m\u001b[0;31m:\u001b[0m invalid syntax\n"
     ]
    }
   ],
   "source": [
    "s = input(\"Enter your input: \")\n",
    "print \"Printing the received input as:\", s\n",
    "print 'The received input is of', type(s)"
   ]
  },
  {
   "cell_type": "markdown",
   "metadata": {},
   "source": [
    "<a id='5.3'></a>\n",
    "## 5.3 Μήκος Συμβολοσειράς και Πρόσβαση στα Στοιχεία της"
   ]
  },
  {
   "cell_type": "markdown",
   "metadata": {},
   "source": [
    "Αν s είναι μια συμβολοσειρά, ο **τύπος** της, που είναι προφανώς str, βρίσκεται με την εντολή type(s). \n",
    "\n",
    "Το **μήκος** της s, που ορίζεται ως το συνολικό πλήθος των στοιχείων της s, υπολογίζεται από την εντολή len(s).\n",
    "<p/>\n",
    "\n",
    "<font color=blue>**Η ΑΡΙΘΜΗΣΗ ΣΤΗΝ PYTHON ΑΡΧΙΖΕΙ ΑΠΟ ΤΟ 0!**</font>\n",
    "\n",
    "Το πρώτο στοιχείο της s είναι το s[0]\n",
    "\n",
    "Το δεύτερο στοιχείο της s είναι το s[1]\n",
    "\n",
    "Το τρίτο στοιχείο της s είναι το s[2]\n",
    "\n",
    "κ.ο.κ.\n",
    "\n",
    "Το τελευταίο στοιχείο της s είναι το s[-1]\n",
    "\n",
    "Το πρότελευταιο στοιχείο της s είναι το s[-2]\n",
    "\n",
    "Το δεύτερο από το τέλος στοιχείο της s είναι το s[-3]\n",
    "\n",
    "κ.ο.κ.\n",
    "\n",
    "ΔΙΑΦΟΡΕΤΙΚΑ: Το τελευταίο στοιχείο της s είναι το s[len(s)-1]"
   ]
  },
  {
   "cell_type": "code",
   "execution_count": 40,
   "metadata": {
    "collapsed": false
   },
   "outputs": [
    {
     "name": "stdout",
     "output_type": "stream",
     "text": [
      "The string salut is the sentence:\n",
      "Pws se lene?\n",
      "The type of the string salut is <type 'str'>\n",
      "The length of the string salut is 12\n",
      "The first element of the string salut is P\n",
      "The fifth element of the string salut is s\n",
      "The seventh element of the string salut is  \n",
      "The last element of the string salut is ?\n",
      "The first before the last element of the string salut is e\n",
      "The second before the last element of the string salut is n\n",
      "Otherwise computed, the last element of the string salut is ?\n"
     ]
    }
   ],
   "source": [
    "salut = \"Pws se lene?\"\n",
    "print 'The string salut is the sentence:'\n",
    "print salut\n",
    "print 'The type of the string salut is', type(salut)\n",
    "print 'The length of the string salut is', len(salut)\n",
    "print 'The first element of the string salut is', salut[0]\n",
    "print 'The fifth element of the string salut is', salut[4]\n",
    "print 'The seventh element of the string salut is', salut[6]\n",
    "print 'The last element of the string salut is', salut[-1]\n",
    "print 'The first before the last element of the string salut is', salut[-2]\n",
    "print 'The second before the last element of the string salut is', salut[-3]\n",
    "print 'Otherwise computed, the last element of the string salut is', salut[len(salut)-1]"
   ]
  },
  {
   "cell_type": "markdown",
   "metadata": {
    "collapsed": true
   },
   "source": [
    "<a id='5.4'></a>\n",
    "## 5.4 Τελεστές σε Συμβολοσειρές"
   ]
  },
  {
   "cell_type": "markdown",
   "metadata": {},
   "source": [
    "* **Συνένωση: +**\n",
    "* **Επανάληψη: ***\n",
    "* **Τεμαχισμοί (Slicing): [ : ]**\n",
    "* **Συγκατάταξη (Membership): in, notin**"
   ]
  },
  {
   "cell_type": "markdown",
   "metadata": {},
   "source": [
    "### Συνένωση: +"
   ]
  },
  {
   "cell_type": "code",
   "execution_count": 28,
   "metadata": {
    "collapsed": false
   },
   "outputs": [
    {
     "name": "stdout",
     "output_type": "stream",
     "text": [
      "HelloWorld\n",
      "\n",
      "The concatenation of str(3) and str(7) is 37\n",
      "The concatenation of str(3) and str(7) is of type <type 'str'>\n",
      "While the addition of 3 and 7 (as numbers) is 10\n",
      "Of course, the addition of 3 and 7 (as numbers) is of type <type 'int'>\n"
     ]
    }
   ],
   "source": [
    "s, t = 'Hello', 'World'\n",
    "print s + t\n",
    "print\n",
    "\n",
    "n, m = 3, 7\n",
    "k = str(n) + str(m)\n",
    "l = m + n\n",
    "print 'The concatenation of str(3) and str(7) is', k\n",
    "print 'The concatenation of str(3) and str(7) is of type', type(k)\n",
    "print  'While the addition of 3 and 7 (as numbers) is', l\n",
    "print 'Of course, the addition of 3 and 7 (as numbers) is of type', type(l)"
   ]
  },
  {
   "cell_type": "markdown",
   "metadata": {},
   "source": [
    "### Επανάληψη: *"
   ]
  },
  {
   "cell_type": "code",
   "execution_count": 34,
   "metadata": {
    "collapsed": false
   },
   "outputs": [
    {
     "name": "stdout",
     "output_type": "stream",
     "text": [
      "HelloHelloHello\n",
      "The repetition of string s for three times is of type <type 'str'>\n",
      "\n",
      "37373737\n",
      "40\n"
     ]
    }
   ],
   "source": [
    "print s*3\n",
    "print 'The repetition of string s for three times is of type', type(s*3)\n",
    "print\n",
    "\n",
    "print k*4\n",
    "print l*4"
   ]
  },
  {
   "cell_type": "markdown",
   "metadata": {},
   "source": [
    "**ΠΡΟΣΟΧΗ**: Το συνδετικό * της επανάληψης συμβολοσειρών πρέπει να μπαίνει μεταξύ της συμβολοσειράς και ενός ακέραιου αριθμού (ώστε να επαναλαμβάνει τη συμβολοσειρά τόσες φορές όσες δείχνει ο αριθμός)!"
   ]
  },
  {
   "cell_type": "code",
   "execution_count": 33,
   "metadata": {
    "collapsed": false
   },
   "outputs": [
    {
     "ename": "TypeError",
     "evalue": "can't multiply sequence by non-int of type 'str'",
     "output_type": "error",
     "traceback": [
      "\u001b[0;31m---------------------------------------------------------------------------\u001b[0m",
      "\u001b[0;31mTypeError\u001b[0m                                 Traceback (most recent call last)",
      "\u001b[0;32m<ipython-input-33-783752479b82>\u001b[0m in \u001b[0;36m<module>\u001b[0;34m()\u001b[0m\n\u001b[0;32m----> 1\u001b[0;31m \u001b[0;32mprint\u001b[0m \u001b[0ms\u001b[0m\u001b[0;34m*\u001b[0m\u001b[0ms\u001b[0m\u001b[0;34m\u001b[0m\u001b[0m\n\u001b[0m",
      "\u001b[0;31mTypeError\u001b[0m: can't multiply sequence by non-int of type 'str'"
     ]
    }
   ],
   "source": [
    "print s*s"
   ]
  },
  {
   "cell_type": "code",
   "execution_count": 36,
   "metadata": {
    "collapsed": false
   },
   "outputs": [
    {
     "ename": "TypeError",
     "evalue": "can't multiply sequence by non-int of type 'float'",
     "output_type": "error",
     "traceback": [
      "\u001b[0;31m---------------------------------------------------------------------------\u001b[0m",
      "\u001b[0;31mTypeError\u001b[0m                                 Traceback (most recent call last)",
      "\u001b[0;32m<ipython-input-36-f4a0f7abc1be>\u001b[0m in \u001b[0;36m<module>\u001b[0;34m()\u001b[0m\n\u001b[0;32m----> 1\u001b[0;31m \u001b[0;32mprint\u001b[0m \u001b[0ms\u001b[0m\u001b[0;34m*\u001b[0m\u001b[0;36m2.3\u001b[0m\u001b[0;34m\u001b[0m\u001b[0m\n\u001b[0m",
      "\u001b[0;31mTypeError\u001b[0m: can't multiply sequence by non-int of type 'float'"
     ]
    }
   ],
   "source": [
    "print s*2.0"
   ]
  },
  {
   "cell_type": "markdown",
   "metadata": {},
   "source": [
    "### Τεμαχισμοί (Slicing): [ : ]"
   ]
  },
  {
   "cell_type": "markdown",
   "metadata": {},
   "source": [
    "**ΤΕΜΑΧΙΣΜΟΙ** σε υποσυμβολοσειρές:\n",
    "\n",
    "Το κομμάτι των στοιχείων της συμβολοσειράς μεταξύ των θέσεων i και j είναι s[i:j]\n",
    "\n",
    "Το κομμάτι των στοιχείων της συμβολοσειράς μεταξύ των θέσεων i και j ανά k στοιχεία είναι s[i:j:k]\n",
    "\n",
    "Το κομμάτι των στοιχείων της συμβολοσειράς από την θέση i ως το τέλος είναι s[i:]\n",
    "\n",
    "Το κομμάτι των στοιχείων της συμβολοσειράς από την αρχή ως την θέση θέση i είναι s[:i]\n",
    "\n",
    "Έτσι ολόκληρη η συμβολοσειρά ανακτάται ως s[:]"
   ]
  },
  {
   "cell_type": "code",
   "execution_count": 43,
   "metadata": {
    "collapsed": false
   },
   "outputs": [
    {
     "name": "stdout",
     "output_type": "stream",
     "text": [
      "The string salut is the sentence:\n",
      "Pws se lene?\n",
      "\n",
      " se lene\n",
      "see\n",
      "e lene?\n",
      "Pws s\n",
      "Pws se lene?\n"
     ]
    }
   ],
   "source": [
    "salut = \"Pws se lene?\"\n",
    "print 'The string salut is the sentence:'\n",
    "print salut\n",
    "print\n",
    "\n",
    "print salut[3:11]\n",
    "print salut[2:11:3]\n",
    "print salut[5:]\n",
    "print salut[:5]\n",
    "print salut[:]"
   ]
  },
  {
   "cell_type": "markdown",
   "metadata": {},
   "source": [
    "### Συγκατάταξη (Membership): in, not in"
   ]
  },
  {
   "cell_type": "code",
   "execution_count": 78,
   "metadata": {
    "collapsed": false
   },
   "outputs": [
    {
     "name": "stdout",
     "output_type": "stream",
     "text": [
      "'s' in salut is True\n",
      "'j' in salut is False\n",
      "'k' in salut is False\n",
      "'j' or 'k' in salut is False\n",
      "'j' or 'k' not in salut is True\n",
      "'len' is in salut True\n",
      "'wle' is in salut True\n",
      "'wle' is not in salut False\n"
     ]
    }
   ],
   "source": [
    "print \"'s' in salut is\", 's' in salut\n",
    "print \"'j' in salut is\", 'j' in salut\n",
    "print \"'k' in salut is\", 'k' in salut\n",
    "print \"'j' or 'k' in salut is\", ('j' or 'k') in salut\n",
    "print \"'j' or 'k' not in salut is\", ('j' or 'k') not in salut\n",
    "print \"'len' is in salut\", 'len' in salut\n",
    "print \"'wle' is in salut\", 'wle' not in salut\n",
    "print \"'wle' is not in salut\", 'wle' in salut"
   ]
  },
  {
   "cell_type": "markdown",
   "metadata": {},
   "source": [
    "<a id='5.5'></a>\n",
    "## 5.5 Μορφοποίηση Συμβολοσειρών"
   ]
  },
  {
   "cell_type": "markdown",
   "metadata": {},
   "source": [
    "Η **μορφοποίηση (formatting)** συμβολοσειρών γίνεται με σύμβολα της μορφής %-, τα κυριότερα των οποίων είναι τα εξής:\n",
    "\n",
    "* **%s**: για συμβολοσειρές (ή σύμβολα)\n",
    "* **%i**: για ακέραιους\n",
    "* **%f**: για μη ακέραιους πραγματικούς αριθμούς"
   ]
  },
  {
   "cell_type": "code",
   "execution_count": 90,
   "metadata": {
    "collapsed": false
   },
   "outputs": [
    {
     "name": "stdout",
     "output_type": "stream",
     "text": [
      "The name of my father is Andreas\n",
      "The names of my parents are Andreas and Chrysi\n",
      "The third letter (character) in the word 'Thomas' is 'o'\n",
      "The word 'Thomas' has '6' letters (characters)\n",
      "Dividing 3 by 2 gives 1.500000\n",
      "2**10 = 1024 and 3 / 2 = 1.500000\n"
     ]
    }
   ],
   "source": [
    "print 'The name of my father is %s' %'Andreas'\n",
    "print 'The names of my parents are %s and %s' %('Andreas','Chrysi')\n",
    "name = 'Thomas'\n",
    "index = 2\n",
    "print \"The third letter (character) in the word '%s' is '%s'\" %(name,name[index])\n",
    "print \"The word '%s' has '%i' letters (characters)\" %(name,len(name))\n",
    "i = 3\n",
    "j = 2\n",
    "print 'Dividing %i by %i gives %f' %(i,j,i/float(j))\n",
    "print '2**10 = %i and %i / %i = %f' % (2**10, i, j, i/float(j))"
   ]
  },
  {
   "cell_type": "markdown",
   "metadata": {},
   "source": [
    "**Μορφοποίηση χώρου εκτύπωσης και ακρίβειας (δεκαδικά ψηφία μετά την υποδιαστολή)**"
   ]
  },
  {
   "cell_type": "code",
   "execution_count": 101,
   "metadata": {
    "collapsed": false
   },
   "outputs": [
    {
     "name": "stdout",
     "output_type": "stream",
     "text": [
      "  3.141593\n",
      "3.141593  \n",
      "3.14\n",
      "      3.14\n",
      "3.14\n",
      "Guido\n",
      "Guido\n"
     ]
    }
   ],
   "source": [
    "from math import pi \n",
    "\n",
    "print '%10f' % pi   # Τυπώνει τον αριθμό π μέσα σε 10 διαστήματα στοιχίζοντας από δεξιά (default), \n",
    "                    # οπότε, επειδή ο αριθμός καταλαμβάνει 8 διαστήματα (6 δεκαδικά), \n",
    "                    # τα 2 πρώτα διαστήματα από αριστερά είναι κενά\n",
    "print '%-10f' % pi  # Τυπώνει τον αριθμό π μέσα σε 10 διαστήματα στοιχίζοντας από αριστερά,\n",
    "                    # οπότε το π εμφανίζεται και με τα 6 δεκαδικά (και περισσεύουν 2 κενά δεξιά του)\n",
    "print '%-4.2f' % pi # Τυπώνει τον αριθμό π με ακρίβεια 2 δεκαδικών μέσα σε 4 διαστήματα στοιχίζοντας από αριστερά\n",
    "print '%10.2f' % pi # Τυπώνει τον αριθμό π με ακρίβεια 2 δεκαδικών ψηφίων μέσα σε 10 διαστήματα στοιχίζοντας από δεξιά (default)\n",
    "print '%.2f' % pi   # Τυπώνει τον αριθμό π με ακρίβεια 2 δεκαδικών ψηφίων στοιχίζοντας από αριστερά \n",
    "                    # σε όσα διαστήματα χρειασθούν\n",
    "print '%.5s' % 'Guido van Rossum'      # Ουσιαστικά τυπώνει τα 5 πρώτα γράμματα (χαρακτήρες) της συμβολοσειράς\n",
    "print '%.*s' % (5, 'Guido van Rossum') # Χρήση του * για να ληφθεί το όρισμα από πλειάδα"
   ]
  },
  {
   "cell_type": "markdown",
   "metadata": {},
   "source": [
    "**Στοίχιση Στηλών**:\n",
    "\n",
    "* Η εισαγωγή \"\\t\" (tab) σε μια συμβολοσειρά βάζει τα τμήματά της σε προκαθορισμένες θέσεις.<br/>\n",
    "* Η αλλαγή γραμμής γίνεται με το \"\\n\""
   ]
  },
  {
   "cell_type": "code",
   "execution_count": 91,
   "metadata": {
    "collapsed": false
   },
   "outputs": [
    {
     "name": "stdout",
     "output_type": "stream",
     "text": [
      "Students \tage \tgender \tnationality\n",
      "John \t23 \tmale \tBritish\n",
      "Maria \t25 \tfemale \tGreek\n"
     ]
    }
   ],
   "source": [
    "head = 'Students \\tage \\tgender \\tnationality'\n",
    "line1 = 'John \\t23 \\tmale \\tBritish'\n",
    "line2 = 'Maria \\t25 \\tfemale \\tGreek'\n",
    "print head \n",
    "print line1 \n",
    "print line2"
   ]
  },
  {
   "cell_type": "markdown",
   "metadata": {},
   "source": [
    "Η προηγούμενη μορφοποίηση είναι λάθος. Για να διορθωθεί, προσθέτουμε ένα ακόμη tab σε 2 γραμμές."
   ]
  },
  {
   "cell_type": "code",
   "execution_count": 92,
   "metadata": {
    "collapsed": false
   },
   "outputs": [
    {
     "name": "stdout",
     "output_type": "stream",
     "text": [
      "Students \tage \tgender \tnationality\n",
      "John \t \t23 \tmale \tBritish\n",
      "Maria \t \t25 \tfemale \tGreek\n"
     ]
    }
   ],
   "source": [
    "head = 'Students \\tage \\tgender \\tnationality'\n",
    "line1 = 'John \\t \\t23 \\tmale \\tBritish'\n",
    "line2 = 'Maria \\t \\t25 \\tfemale \\tGreek'\n",
    "print head \n",
    "print line1 \n",
    "print line2"
   ]
  },
  {
   "cell_type": "markdown",
   "metadata": {},
   "source": [
    "Ένα άλλο παράδειγμα λάθους μορφοποίησης είναι ο εξής πίνακας που συνοψίζει τα αποτελέσματα ενός απλού βρόχου (while):"
   ]
  },
  {
   "cell_type": "code",
   "execution_count": 93,
   "metadata": {
    "collapsed": false
   },
   "outputs": [
    {
     "name": "stdout",
     "output_type": "stream",
     "text": [
      "i\ti**2\ti**3\ti**5\ti**10\ti**20\n",
      "1 \t1 \t1 \t1 \t1 \t1\n",
      "2 \t4 \t8 \t32 \t1024 \t1048576\n",
      "3 \t9 \t27 \t243 \t59049 \t3486784401\n",
      "4 \t16 \t64 \t1024 \t1048576 \t1099511627776\n",
      "5 \t25 \t125 \t3125 \t9765625 \t95367431640625\n",
      "6 \t36 \t216 \t7776 \t60466176 \t3656158440062976\n",
      "7 \t49 \t343 \t16807 \t282475249 \t79792266297612001\n",
      "8 \t64 \t512 \t32768 \t1073741824 \t1152921504606846976\n",
      "9 \t81 \t729 \t59049 \t3486784401 \t12157665459056928801\n",
      "10 \t100 \t1000 \t100000 \t10000000000 \t100000000000000000000\n"
     ]
    }
   ],
   "source": [
    "i = 1\n",
    "print 'i\\ti**2\\ti**3\\ti**5\\ti**10\\ti**20'\n",
    "while i <= 10:\n",
    "    print i, '\\t', i**2, '\\t', i**3, '\\t', i**5, '\\t', i**10, '\\t', i**20\n",
    "    i += 1"
   ]
  },
  {
   "cell_type": "markdown",
   "metadata": {},
   "source": [
    "Η διόρθωση της στοίχισης του προηγούμενου πίνακα γίνεται ως εξής:"
   ]
  },
  {
   "cell_type": "code",
   "execution_count": 95,
   "metadata": {
    "collapsed": false
   },
   "outputs": [
    {
     "name": "stdout",
     "output_type": "stream",
     "text": [
      "i   i**2 i**3  i**5    i**10        i**20          \n",
      "1   1    1     1       1            1              \n",
      "2   4    8     32      1024         1048576        \n",
      "3   9    27    243     59049        3486784401     \n",
      "4   16   64    1024    1048576      1099511627776  \n",
      "5   25   125   3125    9765625      95367431640625 \n",
      "6   36   216   7776    60466176     3656158440062976\n",
      "7   49   343   16807   282475249    79792266297612001\n",
      "8   64   512   32768   1073741824   1152921504606846976\n",
      "9   81   729   59049   3486784401   12157665459056928801\n",
      "10  100  1000  100000  10000000000  100000000000000000000\n"
     ]
    }
   ],
   "source": [
    "i = 1\n",
    "print '%-4s%-5s%-6s%-8s%-13s%-15s' % \\\n",
    "      ('i', 'i**2', 'i**3', 'i**5', 'i**10', 'i**20')\n",
    "while i <= 10:\n",
    "    print '%-4i%-5i%-6i%-8i%-13i%-15i' % (i, i**2, i**3, i**5, i**10, i**20)\n",
    "    i += 1"
   ]
  },
  {
   "cell_type": "markdown",
   "metadata": {},
   "source": [
    "<a id='5.6'></a>\n",
    "## 5.6 Ενσωματωμένες Μέθοδοι Συμβολοσειρών"
   ]
  },
  {
   "cell_type": "code",
   "execution_count": null,
   "metadata": {
    "collapsed": true
   },
   "outputs": [],
   "source": []
  },
  {
   "cell_type": "markdown",
   "metadata": {
    "collapsed": true
   },
   "source": [
    "<a id='5.7'></a>\n",
    "## 5.7 Άνοιγμα-Κλείσιμο Αρχείων Κειμένου"
   ]
  },
  {
   "cell_type": "markdown",
   "metadata": {},
   "source": [
    "<a id='5.8'></a>\n",
    "## 5.8 Διάβασμα-Γράψιμο Αρχείων Κειμένου"
   ]
  },
  {
   "cell_type": "markdown",
   "metadata": {},
   "source": [
    "<a id='5.9'></a>\n",
    "## 5.9 Διαχείριση Αρχείων-Καταλόγων στον Υπολογιστή"
   ]
  },
  {
   "cell_type": "code",
   "execution_count": null,
   "metadata": {
    "collapsed": true
   },
   "outputs": [],
   "source": []
  }
 ],
 "metadata": {
  "kernelspec": {
   "display_name": "Python 2",
   "language": "python",
   "name": "python2"
  },
  "language_info": {
   "codemirror_mode": {
    "name": "ipython",
    "version": 2
   },
   "file_extension": ".py",
   "mimetype": "text/x-python",
   "name": "python",
   "nbconvert_exporter": "python",
   "pygments_lexer": "ipython2",
   "version": "2.7.10"
  }
 },
 "nbformat": 4,
 "nbformat_minor": 0
}
