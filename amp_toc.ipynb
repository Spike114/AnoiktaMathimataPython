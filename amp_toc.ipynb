{
 "cells": [
  {
   "cell_type": "markdown",
   "metadata": {},
   "source": [
    "# ΑΝΟΙΚΤΑ ΜΑΘΗΜΑΤΑ PYTHON\n",
    "## _Χειμερινό εξάμηνο 2015-16_\n",
    "<br />\n",
    "### _Συγγραφέας_: [Μωυσής Α. Μπουντουρίδης](https://plus.google.com/+MosesBoudourides/about)\n",
    "### _Τεχνική υποστήριξη_: [Σέργιος Θ. Λένης](https://plus.google.com/104763562732733359391/about)\n",
    "#### [Τμήμα Μαθηματικών, Πανεπιστήμιο Πάτρας](http://www.math.upatras.gr/)\n",
    "<br />"
   ]
  },
  {
   "cell_type": "markdown",
   "metadata": {},
   "source": [
    "<br />\n",
    "# ΠΕΡΙΕΧΟΜΕΝΑ  \n",
    "<br />\n",
    "\n",
    "## I. _Βασική Python_\n",
    "<br />\n",
    "### 1. [Προσανατολισμός](P1.ipynb)\n",
    "### 2. [Βασική Σύνταξη](P2.ipynb)\n",
    "### 3. [Μεταβλητές, Εκφράσεις, Δηλώσεις](P3.ipynb)\n",
    "### 4. [Βασικοί Τελεστές](P4.ipynb)\n",
    "### 5. [Συμβολοσειρές και Κείμενο](P5.ipynb)\n",
    "### 6. [Γενικά για Δομές Δεδομένων](P6.ipynb)\n",
    "### 7. Βρόχοι\n",
    "### 8. Συναρτήσεις\n",
    "### 9. Λίστες \n",
    "### 10. Πλειάδες (Tuples)\n",
    "### 11. Λεξικά\n",
    "### 12. Σύνολα\n",
    "### 13. Γραφικές Παραστάσεις\n",
    "### 14. Λίγη Στατιστική\n",
    "<br />\n",
    "## II. _Python Ενδιάμεσου Επιπέδου_\n",
    "<br />\n",
    "### 13. Μονάδες (Modules)\n",
    "### 14. Εξαιρέσεις"
   ]
  },
  {
   "cell_type": "code",
   "execution_count": null,
   "metadata": {
    "collapsed": true
   },
   "outputs": [],
   "source": []
  },
  {
   "cell_type": "code",
   "execution_count": null,
   "metadata": {
    "collapsed": true
   },
   "outputs": [],
   "source": []
  }
 ],
 "metadata": {
  "kernelspec": {
   "display_name": "Python 2",
   "language": "python",
   "name": "python2"
  },
  "language_info": {
   "codemirror_mode": {
    "name": "ipython",
    "version": 2
   },
   "file_extension": ".py",
   "mimetype": "text/x-python",
   "name": "python",
   "nbconvert_exporter": "python",
   "pygments_lexer": "ipython2",
   "version": "2.7.10"
  }
 },
 "nbformat": 4,
 "nbformat_minor": 0
}
