{
 "cells": [
  {
   "cell_type": "markdown",
   "metadata": {},
   "source": [
    "# PYTHON ΣΕ ΤΕΣΣΕΡΑ ΜΑΘΗΜΑΤΑ"
   ]
  },
  {
   "cell_type": "markdown",
   "metadata": {},
   "source": [
    "# ΜΑΘΗΜΑ 1: Αριθμοί και Συμβολοσειρές"
   ]
  },
  {
   "cell_type": "markdown",
   "metadata": {},
   "source": [
    "[1.1 Κύριοι Τύποι Δεδομένων](#1.1)\n",
    "\n",
    "[1.2 Αριθμητικές Πράξεις](#1.2)\n",
    "\n",
    "[1.3 Πράξεις σε Συμβολοσειρές](#1.3)"
   ]
  },
  {
   "cell_type": "markdown",
   "metadata": {},
   "source": [
    "<a id='1.1'></a>\n",
    "## 1.1 Κύριοι Τύποι Δεδομένων"
   ]
  },
  {
   "cell_type": "markdown",
   "metadata": {},
   "source": [
    "Οι κύριοι τύποι δεδομένων είναι οι εξής 5:\n",
    "* **int, ακέραιοι αριθμοί**\n",
    "* **float, πραγματικοί μη ακέραιοι αριθμοί**\n",
    "* **str, συμβολοσειρές (λέξεις, προτάσεις κλπ.)**\n",
    "* **bool, τιμές αλήθειας, True, False**\n",
    "* **None**"
   ]
  },
  {
   "cell_type": "code",
   "execution_count": 9,
   "metadata": {
    "collapsed": false
   },
   "outputs": [
    {
     "name": "stdout",
     "output_type": "stream",
     "text": [
      "122 23.789 Tom's car False None False None\n",
      "<type 'int'> <type 'float'> <type 'str'> <type 'bool'> <type 'NoneType'> <type 'str'> <type 'str'>\n",
      "True\n",
      "False\n",
      "False\n",
      "False\n",
      "False\n",
      "False\n",
      "True\n",
      "False\n"
     ]
    }
   ],
   "source": [
    "x = 122\n",
    "y = 23.789\n",
    "z = \"Tom's car\"\n",
    "w = False\n",
    "n = None\n",
    "w1 = 'False'\n",
    "n1 = 'None'\n",
    "\n",
    "print x, y, z, w, n, w1, n1\n",
    "print type(x), type(y), type(z), type(w), type(n), type(w1), type(n1)\n",
    "\n",
    "# Έλεγχος τύπου\n",
    "print isinstance(x,int)\n",
    "print isinstance(x,float)\n",
    "print isinstance(x,str)\n",
    "print isinstance(x,bool)\n",
    "print isinstance(z,int)\n",
    "print isinstance(z,float)\n",
    "print isinstance(z,str)\n",
    "print isinstance(z,bool)"
   ]
  },
  {
   "cell_type": "code",
   "execution_count": 14,
   "metadata": {
    "collapsed": false
   },
   "outputs": [
    {
     "name": "stdout",
     "output_type": "stream",
     "text": [
      "122.0\n",
      "23\n",
      "122\n",
      "<type 'int'>\n",
      "<type 'str'>\n"
     ]
    },
    {
     "data": {
      "text/plain": [
       "False"
      ]
     },
     "execution_count": 14,
     "metadata": {},
     "output_type": "execute_result"
    }
   ],
   "source": [
    "# Μετατροπές μεταξύ τύπων\n",
    "\n",
    "print float(x)\n",
    "print int(y)\n",
    "print str(x)\n",
    "x1 = str(x)\n",
    "print type(x)\n",
    "print type(x1)\n",
    "x == x1"
   ]
  },
  {
   "cell_type": "code",
   "execution_count": 20,
   "metadata": {
    "collapsed": false
   },
   "outputs": [
    {
     "name": "stdout",
     "output_type": "stream",
     "text": [
      "True\n",
      "True\n",
      "True\n",
      "True\n",
      "False\n",
      "False\n",
      "False\n"
     ]
    }
   ],
   "source": [
    "print bool(10)\n",
    "print bool(10.2)\n",
    "print bool('abc')\n",
    "print bool(x)\n",
    "print bool(0)\n",
    "print bool()\n",
    "print bool('')\n",
    "# bool(k)"
   ]
  },
  {
   "cell_type": "markdown",
   "metadata": {},
   "source": [
    "**Οι τιμές bool για μη μηδενικούς αριθμούς ή μη κενές συμβολοσειρές ή ήδη κατοχηρωμένες μεταβλητές είναι True, ενώ για το μηδέν ή για κενές συμβολοσειρές είναι False.**"
   ]
  },
  {
   "cell_type": "markdown",
   "metadata": {},
   "source": [
    "<a id='1.2'></a>\n",
    "## 1.2 Αριθμητικές Πράξεις"
   ]
  },
  {
   "cell_type": "markdown",
   "metadata": {},
   "source": [
    "**Πρόσθεση/αφαίρεση αριθμών** (+/-)\n",
    "\n",
    "**Πολλαπλασιασμός αριθμών** (*)\n",
    "\n",
    "**Ύψωση σε δύναμη** (**)\n",
    "\n",
    "**Ακέραιη διαίρεση - πηλίκο** (/)\n",
    "\n",
    "**Πραγματική διαίρεση** (./ ή /. ή float/)\n",
    "\n",
    "**Ακέραιη διαίρεση - υπόλοιπο** (%)"
   ]
  },
  {
   "cell_type": "code",
   "execution_count": 21,
   "metadata": {
    "collapsed": false
   },
   "outputs": [
    {
     "name": "stdout",
     "output_type": "stream",
     "text": [
      "15.6\n",
      "-22.2\n",
      "335.0\n",
      "17\n",
      "17.8 17.8 17.8 17.8 17.8 17.8\n",
      "4\n"
     ]
    }
   ],
   "source": [
    "print 4 + 11.6\n",
    "print 7.8 - 30\n",
    "print 67*5.\n",
    "print 89/5\n",
    "print 89/5., 89./5, 89./5., float(89)/5, 89/float(5), float(89)/float(5)\n",
    "print 89%5"
   ]
  },
  {
   "cell_type": "markdown",
   "metadata": {},
   "source": [
    "<a id='1.3'></a>\n",
    "## 1.3 Πράξεις σε Συμβολοσειρές"
   ]
  },
  {
   "cell_type": "markdown",
   "metadata": {},
   "source": [
    "* ** Μια συμβολοσειρά περιέχει στοιχεία/χαρακτήρες, που είναι γράμματα, μικρά ή κεφαλαία, σημεία στίξης και άλλα σύμβολα (π.χ., το κενό-space) κλπ. ή και αριθμούς.**\n",
    "* **Κάθε συμβολοσειρά περικλείεται μέσα σε εισγωγικά, μονά (') ή διπλά (''), αλλά τηρουμένης της αντιστοιχίας τους.**\n",
    "* **Το μήκος μιας συμβολοσειράς είναι το πλήθος των στοιχείων/χαρακτήρων της και υπολογίζεται με το len**"
   ]
  },
  {
   "cell_type": "code",
   "execution_count": 24,
   "metadata": {
    "collapsed": false
   },
   "outputs": [
    {
     "name": "stdout",
     "output_type": "stream",
     "text": [
      "<type 'str'> <type 'str'> <type 'str'> <type 'str'> <type 'str'>\n",
      "15 43 0 2 4\n"
     ]
    }
   ],
   "source": [
    "s = 'I like you! :-)'\n",
    "t = \"Tom likes Mary's dog which is 5.6 years old\"\n",
    "n = ''\n",
    "n1 = '  '\n",
    "i = '3.14'\n",
    "print type(s), type(t), type(n), type(n1), type(i)\n",
    "print len(s), len(t), len(n), len(n1), len(i)"
   ]
  },
  {
   "cell_type": "markdown",
   "metadata": {},
   "source": [
    "### Πρόσβαση σε στοιχεία συμβλοσειρές - Τεμαχισμοί (Slices)"
   ]
  },
  {
   "cell_type": "code",
   "execution_count": 61,
   "metadata": {
    "collapsed": false
   },
   "outputs": [
    {
     "name": "stdout",
     "output_type": "stream",
     "text": [
      "I\n",
      "k\n",
      ")\n",
      "like you! :-\n",
      "leo \n",
      "4\n",
      "ike you! :-)\n",
      "I like y\n",
      "I like you! :-)\n"
     ]
    }
   ],
   "source": [
    "print s[0]  # το [0] δίνει πρόσβαση στο στοιχείο στη θέση/δείκτη 0 (ΠΡΩΤΟ στοιχείο)\n",
    "print s[4]  # το [4] δίνει πρόσβαση στο στοιχείο στη θέση/δείκτη 4 (ΠΕΜΠΤΟ στοιχείο)\n",
    "print s[-1]  # το [-1] δίνει πρόσβαση στο ΤΕΛΕΥΤΑΙΟ στοιχείο\n",
    "print s[2:14]  # το [2:14] δίνει πρόσβαση στο slice από τη θέση/δείκτη 2 ως τη θέση/δείκτη 13 \n",
    "# (το ΤΡΙΤΟ ως το ΔΕΚΑΤΟ ΤΕΤΑΡΤΟ στοιχείο\n",
    "print s[2:14:3] # το [2:14] δίνει πρόσβαση στο slice από τη θέση/δείκτη 2 ως τη θέση/δείκτη 13 \n",
    "# ΑΝΑ 3 ΣΤΟΙΧΕΙΑ\n",
    "print len(s[2:14:3])\n",
    "print s[3:] # το [3:] δίνει τα στοιχεία από την θέση 2 ως το τέλος\n",
    "print s[:8] # το [:8] δίνει τα στοιχεία από την αρχή ως τη θέση 7\n",
    "print s[:] # το [:] δίνει όλα τα στοιχεία"
   ]
  },
  {
   "cell_type": "markdown",
   "metadata": {},
   "source": [
    "### Μετατροπή σε κεφαλαία/μικρά με τα upper, lower, capitalize"
   ]
  },
  {
   "cell_type": "code",
   "execution_count": 34,
   "metadata": {
    "collapsed": false
   },
   "outputs": [
    {
     "name": "stdout",
     "output_type": "stream",
     "text": [
      "I LIKE YOU! :-)\n",
      "What is this?\n"
     ]
    }
   ],
   "source": [
    "print s.upper()       # Τα κάνει όλα κεφαλαία\n",
    "ss = 'what is this?'\n",
    "print ss.capitalize() # Κάνει κεφαλαίο μόνο το πρώτο"
   ]
  },
  {
   "cell_type": "code",
   "execution_count": 38,
   "metadata": {
    "collapsed": false
   },
   "outputs": [
    {
     "name": "stdout",
     "output_type": "stream",
     "text": [
      "I LIKE YOU! :-)\n",
      "i like you! :-)\n",
      "I like you! :-)\n"
     ]
    }
   ],
   "source": [
    "scap = s.upper()  \n",
    "print scap\n",
    "print scap.lower()\n",
    "print scap.lower().capitalize()"
   ]
  },
  {
   "cell_type": "markdown",
   "metadata": {},
   "source": [
    "### Μέτρηση συχνότητας εμφάνισης και εύρεση ενός συμβόλου σε μια μια συμβολοσειρά με το count"
   ]
  },
  {
   "cell_type": "code",
   "execution_count": 41,
   "metadata": {
    "collapsed": false
   },
   "outputs": [
    {
     "name": "stdout",
     "output_type": "stream",
     "text": [
      "4 2 4 0 12 0\n"
     ]
    }
   ],
   "source": [
    "f = 'Mississippi'\n",
    "print f.count('s'), f.count('p'), f.count('i'), f.count(' '), f.count(''), f.count('q')"
   ]
  },
  {
   "cell_type": "code",
   "execution_count": 44,
   "metadata": {
    "collapsed": false
   },
   "outputs": [
    {
     "name": "stdout",
     "output_type": "stream",
     "text": [
      "2\n",
      "6\n"
     ]
    }
   ],
   "source": [
    "print f.find('s') # Βρίσκει την θέση/δείκτη της ΠΡΩΤΗΣ ΦΟΡΑΣ ΑΠΟ ΑΡΙΣΤΕΡΑ που συναντά το 's'\n",
    "print f.rfind('s') # Βρίσκει την θέση/δείκτη της ΠΡΩΤΗΣ ΦΟΡΑΣ ΑΠΟ ΔΕΞΙΑ που συναντά το 's'"
   ]
  },
  {
   "cell_type": "markdown",
   "metadata": {},
   "source": [
    "### Απομάκρυνση συμβόλων από την αρχή ΚΑΙ το τέλος με το strip (όλων)"
   ]
  },
  {
   "cell_type": "code",
   "execution_count": 55,
   "metadata": {
    "collapsed": false
   },
   "outputs": [
    {
     "name": "stdout",
     "output_type": "stream",
     "text": [
      "Mississippi\n",
      "Mississipp\n",
      "ississippi\n",
      "Mississippi\n",
      "11\n",
      "16\n",
      "Mississippi 11\n"
     ]
    }
   ],
   "source": [
    "print f.strip('p')\n",
    "print f.strip('i')\n",
    "print f.strip('M')\n",
    "print f.strip('m')\n",
    "ff = '  Mississippi   '\n",
    "print len(f)\n",
    "print len(ff)\n",
    "print ff.strip(), len(ff.strip())"
   ]
  },
  {
   "cell_type": "code",
   "execution_count": null,
   "metadata": {
    "collapsed": true
   },
   "outputs": [],
   "source": []
  }
 ],
 "metadata": {
  "kernelspec": {
   "display_name": "Python 2",
   "language": "python",
   "name": "python2"
  },
  "language_info": {
   "codemirror_mode": {
    "name": "ipython",
    "version": 2
   },
   "file_extension": ".py",
   "mimetype": "text/x-python",
   "name": "python",
   "nbconvert_exporter": "python",
   "pygments_lexer": "ipython2",
   "version": "2.7.11"
  }
 },
 "nbformat": 4,
 "nbformat_minor": 0
}
