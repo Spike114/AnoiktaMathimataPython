{
 "cells": [
  {
   "cell_type": "markdown",
   "metadata": {},
   "source": [
    "# PYTHON ΣΕ ΤΕΣΣΕΡΑ ΜΑΘΗΜΑΤΑ"
   ]
  },
  {
   "cell_type": "markdown",
   "metadata": {},
   "source": [
    "# ΜΑΘΗΜΑ 3: Πλειάδες και Λεξικά"
   ]
  },
  {
   "cell_type": "markdown",
   "metadata": {},
   "source": [
    "[3.1 Πλειάδες](#3.1)\n",
    "* [Θέσεις/δείκτες](#3.1.1)\n",
    "* [Έλεγχοι διάταξης και συμμετοχής](#3.1.2)\n",
    "* [Αναλλοίωτα Στοιχεία](#3.1.3)\n",
    "* [Προσθέσεις, επαναλήψεις](#3.1.4)\n",
    "* [Ταξινόμηση με sorted](#3.1.5)\n",
    "* [Ταυτόχρονη καταχώρηση τιμών σε πολλές μεταβλητές](#3.1.6)\n",
    "\n",
    "[3.2 Λεξικά](#3.2)\n",
    "* [Έλεγχοι διάταξης και συμμετοχής](#3.2.1)\n",
    "* [Λίστες κλειδιών-τιμών](#3.2.2)\n",
    "* [Μετατροπή λιστών πλειάδων σε λεξικά](#3.2.3)\n",
    "* [Πρόσβαση](#3.2.4)\n",
    "* [get](#3.2.5)\n",
    "* [Τροποποιήσεις](#3.2.6)"
   ]
  },
  {
   "cell_type": "markdown",
   "metadata": {},
   "source": [
    "<a id='3.1'></a>\n",
    "## 3.1 Πλειάδες"
   ]
  },
  {
   "cell_type": "markdown",
   "metadata": {},
   "source": [
    "### Πλειάδα (tuple) = 'συλλογή' στοιχείων/αντικειμένων, που  είναι:\n",
    "* **Διατεταγμένη** (τα στοιχεία μιας πλειάδας έχουν μια συγκεκριμένη σειρά, κρατούν θέσεις/δείκτες)\n",
    "* **Αμετάβλητη** (τα στοιχεία μιας πλειάδας ΔΕΝ μπορούν να αλλάξουν!)\n",
    "\n",
    "Επιπλέον, τα στοιχεία μιας πλειάδας μπορούν να είναι:\n",
    "* **Πολλαπλά** (δηλαδή, το ίδιο στοιχείο μπορεί να επαναλαμβάνεται μέσα σε μια πλειάδα)\n",
    "* **Δεδομένα διάφορων τύπων**:\n",
    "    - αριθμοί - ακέραιοι ή πραγματικοί \n",
    "    - συμβολοσειρές\n",
    "    - λίστες, σύνολα, πλειάδες, λεξικά\n",
    "    \n",
    "### Μια πλειάδα γράφεται ως tuple = (element1, element2, ..., elementn) ή (και χωρίς παρενθέσεις)  element1, element2, ..., elementn\n",
    "* **Άδεια πλειάδα**: **empty_tuple = ( )** ή **empty_tuple = tuple()**\n",
    "* **Πλειάδα με ένα (μοναδικό) στοιχείο**: **tuple1elem = (element,)** ή **tuple1elem = element,**\n",
    "* **Μήκος πλειάδας**: **len(tuple)** = το πλήθος των στοιχείων της πλειάδας tuple"
   ]
  },
  {
   "cell_type": "code",
   "execution_count": 1,
   "metadata": {
    "collapsed": false
   },
   "outputs": [
    {
     "name": "stdout",
     "output_type": "stream",
     "text": [
      "('g', 7, 'g') <type 'tuple'>\n",
      "('g', 7, 'g') <type 'tuple'>\n",
      "True\n"
     ]
    },
    {
     "data": {
      "text/plain": [
       "True"
      ]
     },
     "execution_count": 1,
     "metadata": {},
     "output_type": "execute_result"
    }
   ],
   "source": [
    "tup = ('g',7,'g')\n",
    "print tup, type(tup)\n",
    "\n",
    "tup1 = ('G',)  # OXI ('G') xwris to ','\n",
    "\n",
    "tupz = 'g',7,'g'\n",
    "print tupz, type(tupz)\n",
    "\n",
    "tup1z = 'G',\n",
    "\n",
    "print tup == tupz\n",
    "tup1 == tup1z"
   ]
  },
  {
   "cell_type": "markdown",
   "metadata": {},
   "source": [
    "<a id='3.1.1'></a>\n",
    "### Θέσεις/δείκτες"
   ]
  },
  {
   "cell_type": "code",
   "execution_count": 2,
   "metadata": {
    "collapsed": false
   },
   "outputs": [
    {
     "name": "stdout",
     "output_type": "stream",
     "text": [
      "[0, 1, 2, 3, 4, 5]\n",
      "[0, 10, 2, 3, 4, 5]\n",
      "1\n"
     ]
    }
   ],
   "source": [
    "li = range(6)\n",
    "tu = tuple(li)\n",
    "print li\n",
    "li[1] = 10\n",
    "print li\n",
    "print tu[1]\n",
    "# tu[1] = 100"
   ]
  },
  {
   "cell_type": "code",
   "execution_count": 3,
   "metadata": {
    "collapsed": false
   },
   "outputs": [
    {
     "name": "stdout",
     "output_type": "stream",
     "text": [
      "0\n"
     ]
    },
    {
     "data": {
      "text/plain": [
       "1"
      ]
     },
     "execution_count": 3,
     "metadata": {},
     "output_type": "execute_result"
    }
   ],
   "source": [
    "# Ypostirizetai to index stis pleiades \n",
    "# (alla gia tin thesi tis prwtis emfanisis)\n",
    "\n",
    "xx = 21, 'a', 3, 21, 'a', 'a'\n",
    "print xx.index(21)\n",
    "xx.index('a')"
   ]
  },
  {
   "cell_type": "code",
   "execution_count": 4,
   "metadata": {
    "collapsed": false
   },
   "outputs": [
    {
     "name": "stdout",
     "output_type": "stream",
     "text": [
      "2\n"
     ]
    },
    {
     "data": {
      "text/plain": [
       "3"
      ]
     },
     "execution_count": 4,
     "metadata": {},
     "output_type": "execute_result"
    }
   ],
   "source": [
    "# Ypostirizetai to count stis pleiades \n",
    "\n",
    "print xx.count(21)\n",
    "xx.count('a')"
   ]
  },
  {
   "cell_type": "markdown",
   "metadata": {},
   "source": [
    "<a id='3.1.2'></a>\n",
    "### Έλεγχοι διάταξης και συμμετοχής"
   ]
  },
  {
   "cell_type": "code",
   "execution_count": 5,
   "metadata": {
    "collapsed": false
   },
   "outputs": [
    {
     "data": {
      "text/plain": [
       "False"
      ]
     },
     "execution_count": 5,
     "metadata": {},
     "output_type": "execute_result"
    }
   ],
   "source": [
    "xx = 21, 'a', 3, 21, 'a', 'a'\n",
    "xy = 'a', 3, 21, 'a', 21, 'a'\n",
    "\n",
    "xy == xx"
   ]
  },
  {
   "cell_type": "code",
   "execution_count": 6,
   "metadata": {
    "collapsed": false
   },
   "outputs": [
    {
     "name": "stdout",
     "output_type": "stream",
     "text": [
      "True\n"
     ]
    },
    {
     "data": {
      "text/plain": [
       "False"
      ]
     },
     "execution_count": 6,
     "metadata": {},
     "output_type": "execute_result"
    }
   ],
   "source": [
    "print 21 in xx\n",
    "210 in xx"
   ]
  },
  {
   "cell_type": "markdown",
   "metadata": {},
   "source": [
    "<a id='3.1.3'></a>\n",
    "### Αναλλοίωτα στοιχεία"
   ]
  },
  {
   "cell_type": "code",
   "execution_count": 7,
   "metadata": {
    "collapsed": false
   },
   "outputs": [
    {
     "name": "stdout",
     "output_type": "stream",
     "text": [
      "3\n"
     ]
    }
   ],
   "source": [
    "print xx[2]\n",
    "# xx[2] = 33"
   ]
  },
  {
   "cell_type": "markdown",
   "metadata": {},
   "source": [
    "<a id='3.1.4'></a>\n",
    "### Προσθέσεις και επαναλήψεις"
   ]
  },
  {
   "cell_type": "code",
   "execution_count": 8,
   "metadata": {
    "collapsed": false
   },
   "outputs": [
    {
     "name": "stdout",
     "output_type": "stream",
     "text": [
      "(21, 'a', 3, 21, 'a', 'a', 'k', 'o')\n",
      "(21, 'a', 3, 21, 'a', 'a', 'k')\n"
     ]
    },
    {
     "data": {
      "text/plain": [
       "('k', 'o', 'k', 'o', 'k', 'o', 'k', 'o', 'k', 'o')"
      ]
     },
     "execution_count": 8,
     "metadata": {},
     "output_type": "execute_result"
    }
   ],
   "source": [
    "print xx + ('k','o')\n",
    "print xx + ('k',)\n",
    "('k','o')*5"
   ]
  },
  {
   "cell_type": "markdown",
   "metadata": {},
   "source": [
    "<a id='3.1.5'></a>\n",
    "### Ταξινόμηση με sorted"
   ]
  },
  {
   "cell_type": "code",
   "execution_count": 9,
   "metadata": {
    "collapsed": false
   },
   "outputs": [
    {
     "data": {
      "text/plain": [
       "[3, 21, 21, 'A', 'a', 'b']"
      ]
     },
     "execution_count": 9,
     "metadata": {},
     "output_type": "execute_result"
    }
   ],
   "source": [
    "xxx = (21, 'b', 3, 21, 'a', 'A')\n",
    "sorted(xxx)"
   ]
  },
  {
   "cell_type": "code",
   "execution_count": 10,
   "metadata": {
    "collapsed": false
   },
   "outputs": [],
   "source": [
    "# xxx.sort()"
   ]
  },
  {
   "cell_type": "markdown",
   "metadata": {},
   "source": [
    "#### Εφαρμογή ταξινόμησης σε λίστες με στοιχεία πλειάδες"
   ]
  },
  {
   "cell_type": "code",
   "execution_count": 11,
   "metadata": {
    "collapsed": false
   },
   "outputs": [
    {
     "data": {
      "text/plain": [
       "[(3, 2, 1), (5,), (10, 20), ('a', 100)]"
      ]
     },
     "execution_count": 11,
     "metadata": {},
     "output_type": "execute_result"
    }
   ],
   "source": [
    "ff = [(10,20),('a',100),(3,2,1),(5,)]\n",
    "sorted(ff)"
   ]
  },
  {
   "cell_type": "markdown",
   "metadata": {},
   "source": [
    "\n",
    "<a id='3.1.6'></a>\n",
    "### Ταυτόχρονη καταχώρηση τιμών σε πολλές μεταβλητές"
   ]
  },
  {
   "cell_type": "code",
   "execution_count": 12,
   "metadata": {
    "collapsed": false
   },
   "outputs": [
    {
     "name": "stdout",
     "output_type": "stream",
     "text": [
      "23:34 1.78 70\n",
      "23:34 70 1.78\n",
      "10 30\n",
      "30 10\n"
     ]
    }
   ],
   "source": [
    "# time = '23:34'\n",
    "# hight = 1.78\n",
    "# weight = 70\n",
    "\n",
    "time, height, weight = '23:34', 1.78, 70\n",
    "print time, height, weight\n",
    "\n",
    "weight, height = height, weight\n",
    "print time, height, weight\n",
    "\n",
    "x, y = 10, 30\n",
    "print x, y\n",
    "x, y = y, x\n",
    "print x, y"
   ]
  },
  {
   "cell_type": "markdown",
   "metadata": {},
   "source": [
    "<a id='3.2'></a>\n",
    "## 3.2 Λεξικά"
   ]
  },
  {
   "cell_type": "markdown",
   "metadata": {},
   "source": [
    "### Λεξικό (dictionary) = 'συλλογή' στοιχείων/αντικειμένων, που  είναι:\n",
    "* **Ζευγάρια** (πλειάδες δυο στοιχείων): τα πρώτα ονομάζονται **κλειδιά** (**keys**) και τα δεύτερα ονομάζονται **τιμές** (**values**). \n",
    "* **Χωρίς διάταξη** (τα στοιχεία του λεξικού ΔΕΝ έχουν καμία σειρά, δεν κρατούν θέσεις/δείκτες)\n",
    "* **Μεταβλητά** (τα στοιχεία ενός λεξικού μπορούν να αλλάξουν: να προστεθούν, να αφαιρεθούν ή να αντικατασταθούν)\n",
    "\n",
    "Επιπλέον, τα **κλειδιά** ενός λεξικού πρέπει να είναι:\n",
    "* **Μοναδικά** (δηλαδή, το ίδιο κλειδί ΔΕΝ μπορεί να επαναλαμβάνεται μέσα σε ένα λεξικό)\n",
    "* **Δεδομένα μόνο των εξής τύπων**:\n",
    "    - αριθμοί - ακέραιοι ή πραγματικοί \n",
    "    - συμβολοσειρές\n",
    "    - πλειάδες\n",
    "    \n",
    "ενώ οι **τιμές** ενός λεξικού μπορούν να είναι:\n",
    "* **Επαναλαμβανόμενες/Πολλαπλές** (δηλαδή, η ίδια τιμή μπορεί να καταχωρείται σε περισσότερα του ενός κλειδιά)\n",
    "* **Δεδομένα διάφορων τύπων**:\n",
    "    - αριθμοί - ακέραιοι ή πραγματικοί \n",
    "    - συμβολοσειρές\n",
    "    - λίστες, σύνολα, πλειάδες, λεξικά\n",
    "    \n",
    "### Ένα λεξικό γράφεται ως dictionary = {key1:value1, key2:value2, ..., keyn:valuen} ή dictionary = dict(key1=value1, key2=value2, ..., keyn=valuen)\n",
    "* **Άδειο λεξικό**: **empty_dictionary = { }** ή **empty_list = dict()**\n",
    "* **Μήκος λεξικού**: **len(dictionary)** = το πλήθος των στοιχείων του λεξικού dictionary"
   ]
  },
  {
   "cell_type": "code",
   "execution_count": 13,
   "metadata": {
    "collapsed": false
   },
   "outputs": [
    {
     "name": "stdout",
     "output_type": "stream",
     "text": [
      "True\n"
     ]
    }
   ],
   "source": [
    "ddd1 = {'Mary':19,'Jane':16,'John':20}\n",
    "ddd2 = dict(Mary=19,Jane=16,John=20)\n",
    "\n",
    "print ddd1 == ddd2"
   ]
  },
  {
   "cell_type": "markdown",
   "metadata": {},
   "source": [
    "<a id='3.2.1'></a>\n",
    "### Έλεγχοι διάταξης και συμμετοχής"
   ]
  },
  {
   "cell_type": "code",
   "execution_count": 14,
   "metadata": {
    "collapsed": false
   },
   "outputs": [
    {
     "name": "stdout",
     "output_type": "stream",
     "text": [
      "True\n",
      "True\n",
      "False\n"
     ]
    },
    {
     "data": {
      "text/plain": [
       "False"
      ]
     },
     "execution_count": 14,
     "metadata": {},
     "output_type": "execute_result"
    }
   ],
   "source": [
    "d1 = {'a':23,'b':'B'}\n",
    "d2 = {'b':'B','a':23}\n",
    "print d1 == d2\n",
    "\n",
    "# PROSOXH! H symmetoxi (membership) me to \"in\" elegxei mono kleidia (oxi times)!\n",
    "print 'b' in d1\n",
    "print '23' in d2\n",
    "'c' in d1"
   ]
  },
  {
   "cell_type": "markdown",
   "metadata": {},
   "source": [
    "<a id='3.2.2'></a>\n",
    "### Λίστες κλειδιών-τιμών"
   ]
  },
  {
   "cell_type": "code",
   "execution_count": 2,
   "metadata": {
    "collapsed": false
   },
   "outputs": [
    {
     "name": "stdout",
     "output_type": "stream",
     "text": [
      "['Jane', 'Paul', 'John', 'Mary'] <type 'list'>\n",
      "John <type 'str'>\n",
      "[16, 17, 20, 19] <type 'list'>\n",
      "17 <type 'int'>\n",
      "[('Jane', 16), ('Paul', 17), ('John', 20), ('Mary', 19)] <type 'list'>\n",
      "('Jane', 16) <type 'tuple'>\n"
     ]
    }
   ],
   "source": [
    "dd = {'Mary':19,'Jane':16,'John':20,'Paul':17}\n",
    "\n",
    "print dd.keys(), type(dd.keys())\n",
    "print dd.keys()[2], type(dd.keys()[2])\n",
    "\n",
    "print dd.values(), type(dd.values())\n",
    "print dd.values()[1], type(dd.values()[1])\n",
    "\n",
    "print dd.items(), type(dd.items())\n",
    "print dd.items()[0], type(dd.items()[0])"
   ]
  },
  {
   "cell_type": "markdown",
   "metadata": {},
   "source": [
    "<a id='3.2.3'></a>\n",
    "### Μετατροπή λιστών πλειάδων σε λεξικά"
   ]
  },
  {
   "cell_type": "code",
   "execution_count": 1,
   "metadata": {
    "collapsed": false
   },
   "outputs": [
    {
     "data": {
      "text/plain": [
       "True"
      ]
     },
     "execution_count": 1,
     "metadata": {},
     "output_type": "execute_result"
    }
   ],
   "source": [
    "dd = {'Mary':19,'Jane':16,'John':20,'Paul':17}\n",
    "\n",
    "ltt = [('Mary',19),('Jane',16),('John',20),('Paul', 17)]\n",
    "# ltt = {('Mary',19),('Jane',16),('John',20),('Paul', 17)}\n",
    "ddd = dict(ltt)\n",
    "\n",
    "ddd == dd"
   ]
  },
  {
   "cell_type": "markdown",
   "metadata": {},
   "source": [
    "<a id='3.2.4'></a>\n",
    "### Πρόσβαση"
   ]
  },
  {
   "cell_type": "code",
   "execution_count": 17,
   "metadata": {
    "collapsed": false
   },
   "outputs": [
    {
     "name": "stdout",
     "output_type": "stream",
     "text": [
      "16\n",
      "16\n",
      "Jane\n",
      "16\n",
      "1.65\n"
     ]
    }
   ],
   "source": [
    "print dd['Jane']\n",
    "print dd.values()[dd.keys().index('Jane')]\n",
    "print dd.keys()[dd.values().index(16)]\n",
    "\n",
    "dda = {'Mary':(19,1.70),'Jane':(16,1.65),'John':(20,1.75),'Paul':(17,1.80)}\n",
    "print dda['Jane'][0]\n",
    "print dda['Jane'][1]"
   ]
  },
  {
   "cell_type": "markdown",
   "metadata": {},
   "source": [
    "<a id='3.2.5'></a>\n",
    "### get"
   ]
  },
  {
   "cell_type": "code",
   "execution_count": 4,
   "metadata": {
    "collapsed": false
   },
   "outputs": [
    {
     "name": "stdout",
     "output_type": "stream",
     "text": [
      "20\n",
      "20\n",
      "20\n",
      "None\n"
     ]
    }
   ],
   "source": [
    "print dd['John']\n",
    "print dd.get('John')\n",
    "print dd.get(dd.keys()[dd.values().index(20)])\n",
    "\n",
    "# print dd['Jack']\n",
    "print dd.get('Jack')\n",
    "# print dd.get(dd.keys()[dd.values().index(200)])"
   ]
  },
  {
   "cell_type": "markdown",
   "metadata": {},
   "source": [
    "<a id='3.2.6'></a>\n",
    "### Τροποποιήσεις"
   ]
  },
  {
   "cell_type": "code",
   "execution_count": 19,
   "metadata": {
    "collapsed": false
   },
   "outputs": [
    {
     "name": "stdout",
     "output_type": "stream",
     "text": [
      "{'Jane': 16, 'Paul': 17.5, 'John': 20, 'Mary': 19}\n",
      "{'Jane': 16, 'Paul': [17, 76], 'John': 20, 'Mary': 19}\n",
      "{'Jane': 16, ('Rose', 'Rick'): [19, 17], 'Paul': [17, 76], 'John': 20, 'Mary': 19}\n",
      "{'Jane': 16, ('Rose', 'Rick'): [19, 18], 'Paul': [17, 76], 'John': 20, 'Mary': 19}\n",
      "{'Jane': 16, ('Rose', 'Rick'): [19], 'Paul': [17, 76], 'John': 20, 'Mary': 19}\n",
      "{'Jane': 16, ('Rose', 'Rick'): 19, 'Paul': [17, 76], 'John': 20, 'Mary': 19}\n"
     ]
    }
   ],
   "source": [
    "dd = {'Mary':19,'Jane':16,'John':20,'Paul':17}\n",
    "dd['Paul'] = 17.5\n",
    "print dd\n",
    "\n",
    "dd['Paul'] = [17,76]\n",
    "print dd\n",
    "lll = dd.items()\n",
    "lll.append((('Rose','Rick'),[19,17]))\n",
    "# print lll\n",
    "dd = dict(lll)\n",
    "print dd\n",
    "\n",
    "# ltt = {('Mary',19),('Jane',16),('John',20),('Paul', [17,76])}\n",
    "# ltt.add((('Rose','Rick'),(19,17)))\n",
    "# dd = dict(ltt)\n",
    "# print dd\n",
    "\n",
    "# Ti einai to parakatw kai giati???\n",
    "dd.values()[dd.keys().index(('Rose','Rick'))][1]\n",
    "\n",
    "dd.values()[dd.keys().index(('Rose','Rick'))][1] = 18\n",
    "print dd\n",
    "\n",
    "dd[('Rose', 'Rick')].remove(18)\n",
    "print dd\n",
    "\n",
    "# Ti kanei to parakatw kai giati?\n",
    "dd[('Rose', 'Rick')] = int(''.join(str(e) for e in [19]))\n",
    "print dd"
   ]
  },
  {
   "cell_type": "code",
   "execution_count": null,
   "metadata": {
    "collapsed": true
   },
   "outputs": [],
   "source": []
  }
 ],
 "metadata": {
  "kernelspec": {
   "display_name": "Python 2",
   "language": "python",
   "name": "python2"
  },
  "language_info": {
   "codemirror_mode": {
    "name": "ipython",
    "version": 2
   },
   "file_extension": ".py",
   "mimetype": "text/x-python",
   "name": "python",
   "nbconvert_exporter": "python",
   "pygments_lexer": "ipython2",
   "version": "2.7.11"
  }
 },
 "nbformat": 4,
 "nbformat_minor": 0
}
