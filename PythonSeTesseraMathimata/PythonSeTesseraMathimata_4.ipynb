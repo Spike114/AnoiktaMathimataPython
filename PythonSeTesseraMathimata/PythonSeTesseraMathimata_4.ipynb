{
 "cells": [
  {
   "cell_type": "markdown",
   "metadata": {},
   "source": [
    "# PYTHON ΣΕ ΤΕΣΣΕΡΑ ΜΑΘΗΜΑΤΑ"
   ]
  },
  {
   "cell_type": "markdown",
   "metadata": {},
   "source": [
    "# ΜΑΘΗΜΑ 4: Βρόχοι και Συναρτήσεις"
   ]
  },
  {
   "cell_type": "markdown",
   "metadata": {},
   "source": [
    "[4.0 Λογικές συγκρίσεις (Πράξεις Boole)](#4.0)\n",
    "* [Έλεγχοι ισότητας-διαφορετικότητας: ==, != ή <>](#4.0.1)\n",
    "* [Έλεγχοι ανισοτήτων: <, >, <=, >=](#4.0.2)\n",
    "* [Λογική σύζευξη: and](#4.0.3)\n",
    "* [Λογική διάζευξη: or](#4.0.4)\n",
    "* [Λογική άρνηση: not](#4.0.5)\n",
    "* [Συμβολισμοί τροποποίησης καταχωρήσεων πράξεων](#4.0.6)\n",
    "\n",
    "[4.1 Βρόχοι](#4.1)\n",
    "* [Συνεπαγωγές: if, if...else, if...elif...else](#4.1.1)\n",
    "* [Επαναλήψεις: for](#4.1.2)\n",
    "* [Επαναλήψεις: while](#4.1.3)\n",
    "* [Συντομεύσεις (Comprehensions)](#4.1.4)\n",
    "\n",
    "[4.2 Συναρτήσεις](#4.2)\n",
    "* [Κανένα ή ένα όρισμα](#4.2.1)\n",
    "* [Πολλαπλά ορίσματα](#4.2.2)\n",
    "* [Αντικειμενοστρεφότητα συναρτήσεων](#4.2.3)\n",
    "* [Ανώνυμες συναρτήσεις (lambda)](#4.2.4)"
   ]
  },
  {
   "cell_type": "markdown",
   "metadata": {},
   "source": [
    "<a id='4.0'></a>\n",
    "## 4.0 Λογικές συγκρίσεις (Πράξεις Boole)"
   ]
  },
  {
   "cell_type": "markdown",
   "metadata": {},
   "source": [
    "Οι λογικές συγκρίσεις ή **πράξεις του Boole** είναι έλεγχοι της **ισότητας** ή **ανισότητας** μεταξύ δυο αριθμών ή της **αλήθειας** ή **ψεύδους** μιας πρότασης/συνθήκης/έκφρασης (της Python). Δίνουν ως απότελεσμα είτε **True** (**Αληθές**) ή **False** (**Ψευδές**). "
   ]
  },
  {
   "cell_type": "markdown",
   "metadata": {},
   "source": [
    "<a id='4.0.1'></a>\n",
    "### Έλεγχοι ισότητας-διαφορετικότητας: ==, != ή <>"
   ]
  },
  {
   "cell_type": "code",
   "execution_count": 1,
   "metadata": {
    "collapsed": true
   },
   "outputs": [],
   "source": [
    "a, b, c = 10, 10, 10.\n",
    "d = 2"
   ]
  },
  {
   "cell_type": "code",
   "execution_count": 2,
   "metadata": {
    "collapsed": false
   },
   "outputs": [
    {
     "name": "stdout",
     "output_type": "stream",
     "text": [
      "'a == b' is True\n",
      "'a == c' is True\n",
      "'a == d' is False\n",
      "'a != b' is False\n",
      "'a <> c' is False\n",
      "'a != d' is True\n",
      "'a <> d' is True\n"
     ]
    }
   ],
   "source": [
    "print \"'a == b' is\", a == b\n",
    "print \"'a == c' is\", a == c\n",
    "print \"'a == d' is\", a == d\n",
    "print \"'a != b' is\", a != b\n",
    "print \"'a <> c' is\", a <> c\n",
    "print \"'a != d' is\", a != d\n",
    "print \"'a <> d' is\", a <> d"
   ]
  },
  {
   "cell_type": "markdown",
   "metadata": {},
   "source": [
    "<a id='4.0.2'></a>\n",
    "### Έλεγχοι ανισοτήτων: <, >, <=, >="
   ]
  },
  {
   "cell_type": "code",
   "execution_count": 3,
   "metadata": {
    "collapsed": false
   },
   "outputs": [
    {
     "name": "stdout",
     "output_type": "stream",
     "text": [
      "'d < b' is True\n",
      "'d > b' is False\n",
      "'a > d' is True\n",
      "'a < d' is False\n",
      "'a <= b' is True\n",
      "'a <= d' is False\n",
      "'a >= d' is True\n",
      "'d >= b' is False\n"
     ]
    }
   ],
   "source": [
    "print \"'d < b' is\", d < b\n",
    "print \"'d > b' is\", d > b\n",
    "print \"'a > d' is\", a > d\n",
    "print \"'a < d' is\", a < d\n",
    "print \"'a <= b' is\", a <= b\n",
    "print \"'a <= d' is\", a <= d\n",
    "print \"'a >= d' is\", a >= d\n",
    "print \"'d >= b' is\", d >= b"
   ]
  },
  {
   "cell_type": "markdown",
   "metadata": {},
   "source": [
    "<a id='4.0.3'></a>\n",
    "### Λογική σύζευξη: and"
   ]
  },
  {
   "cell_type": "code",
   "execution_count": 4,
   "metadata": {
    "collapsed": false
   },
   "outputs": [
    {
     "name": "stdout",
     "output_type": "stream",
     "text": [
      "'a == b' is True\n",
      "'a == c' is True\n",
      "'a == b and a == c' is True\n"
     ]
    }
   ],
   "source": [
    "print \"'a == b' is\", a == b\n",
    "print \"'a == c' is\", a == c\n",
    "print \"'a == b and a == c' is\", a == b and a == c"
   ]
  },
  {
   "cell_type": "markdown",
   "metadata": {},
   "source": [
    "<a id='4.0.4'></a>\n",
    "### Λογική διάζευξη: or"
   ]
  },
  {
   "cell_type": "code",
   "execution_count": 5,
   "metadata": {
    "collapsed": false
   },
   "outputs": [
    {
     "name": "stdout",
     "output_type": "stream",
     "text": [
      "'a == b' is True\n",
      "'a == d' is False\n",
      "'a == b or a == d' is True\n"
     ]
    }
   ],
   "source": [
    "print \"'a == b' is\", a == b\n",
    "print \"'a == d' is\", a == d\n",
    "print \"'a == b or a == d' is\", a == b or a == d"
   ]
  },
  {
   "cell_type": "markdown",
   "metadata": {},
   "source": [
    "<a id='4.0.5'></a>\n",
    "### Λογική άρνηση: not"
   ]
  },
  {
   "cell_type": "code",
   "execution_count": 6,
   "metadata": {
    "collapsed": false
   },
   "outputs": [
    {
     "name": "stdout",
     "output_type": "stream",
     "text": [
      "'a == b' is True\n",
      "'a == c' is True\n",
      "'not(a == b and a == c)' is False\n"
     ]
    }
   ],
   "source": [
    "print \"'a == b' is\", a == b\n",
    "print \"'a == c' is\", a == c\n",
    "print \"'not(a == b and a == c)' is\", not(a == b and a == c)"
   ]
  },
  {
   "cell_type": "markdown",
   "metadata": {},
   "source": [
    "<a id='4.0.6'></a>\n",
    "### Συμβολισμοί τροποποίησης καταχωρήσεων πράξεων"
   ]
  },
  {
   "cell_type": "code",
   "execution_count": 7,
   "metadata": {
    "collapsed": false
   },
   "outputs": [
    {
     "name": "stdout",
     "output_type": "stream",
     "text": [
      "20\n",
      "14\n",
      "51\n",
      "5\n",
      "2\n",
      "Hi there!\n"
     ]
    }
   ],
   "source": [
    "a = 17\n",
    "s = 'Hi'\n",
    "a += 3   # Ισοδυναμεί με a = a + 3\n",
    "print a\n",
    "a = 17\n",
    "a -= 3   # Ισοδυναμεί με a = a - 3\n",
    "print a\n",
    "a = 17\n",
    "a *= 3   # Ισοδυναμεί με a = a * 3\n",
    "print a\n",
    "a = 17\n",
    "a /= 3   # Ισοδυναμεί με a = a / 3\n",
    "print a\n",
    "a = 17\n",
    "a %= 3   # Ισοδυναμεί με a = a % 3\n",
    "print a\n",
    "a = 17\n",
    "s += ' there!'   # Ισοδυναμεί με s = s + ' there!'\n",
    "print s"
   ]
  },
  {
   "cell_type": "markdown",
   "metadata": {},
   "source": [
    "<a id='4.1'></a>\n",
    "## 4.1 Βρόχοι"
   ]
  },
  {
   "cell_type": "markdown",
   "metadata": {},
   "source": [
    "<a id='4.1.1'></a>\n",
    "### Συνεπαγωγές: if, if...else, if...elif...else"
   ]
  },
  {
   "cell_type": "markdown",
   "metadata": {
    "collapsed": true
   },
   "source": [
    "* Μια **συνεπαγωγή** στην Python είναι μια ακολουθία δυο (ή περισσότερων) δηλώσεων (τύπου Boole):\n",
    " - Η πρώτη δήλωση είναι μια έκφραση, η οποία ονομάζεται **υπόθεση** ή **συνθήκη** και αρχίζει με το **if**\n",
    " - Η δεύτερη δήλωση είναι το **συμπέρασμα** ή η **συνέπεια** της ισχύος της πρώτης δήλωσης και ορίζει την **υπό συνθήκη εκτέλεση** (κάποιων) **εντολών**, ως αποτέλεσμα της λογικής ισχύος της συνθήκης (αληθής ή ψευδής). \n",
    "* Ο έλεγχος της ισχύος της συνθήκης γίνεται με την αποτίμηση της αλήθειας ή του ψεύδους της έκφρασης αυτής:\n",
    "     * οι μη-μηδενικές ή μη κενές τιμές μιας έκφρασης θεωρούνται αληθείς\n",
    "     * οι μηδενικές ή κενές τιμές μιας έκφρασης θεωρούνται ψευδείς\n",
    "* Υπάρχουν 3 κατηγορίες συνεπαγωγών:\n",
    " 1. Άμεσες: **δηλώσεις if**\n",
    " 2. Εναλλακτικές: **δηλώσεις if...else** και **if...elif...else**\n",
    " 3. Εμμπερικλειόμενες (περιεχόμενες): συνεπαγωγές που είναι η μια μέσα στην άλλη (**nested**)"
   ]
  },
  {
   "cell_type": "markdown",
   "metadata": {
    "collapsed": true
   },
   "source": [
    "#### Η δομή του βρόχου if"
   ]
  },
  {
   "cell_type": "code",
   "execution_count": 8,
   "metadata": {
    "collapsed": true
   },
   "outputs": [],
   "source": [
    "if 'Boolean_Expression':\n",
    "    'Statement(s)'"
   ]
  },
  {
   "cell_type": "code",
   "execution_count": 9,
   "metadata": {
    "collapsed": false
   },
   "outputs": [
    {
     "name": "stdout",
     "output_type": "stream",
     "text": [
      "positive\n"
     ]
    }
   ],
   "source": [
    "x = 10\n",
    "\n",
    "if x > 0:\n",
    "    print 'positive'"
   ]
  },
  {
   "cell_type": "code",
   "execution_count": 2,
   "metadata": {
    "collapsed": false
   },
   "outputs": [
    {
     "name": "stdout",
     "output_type": "stream",
     "text": [
      "positive\n"
     ]
    }
   ],
   "source": [
    "x = 10\n",
    "\n",
    "if not x <= 0:\n",
    "    print 'positive'"
   ]
  },
  {
   "cell_type": "code",
   "execution_count": 1,
   "metadata": {
    "collapsed": true
   },
   "outputs": [],
   "source": [
    "# x = -10\n",
    "\n",
    "# if x > 0:\n",
    "#     print 'positive'"
   ]
  },
  {
   "cell_type": "markdown",
   "metadata": {
    "collapsed": true
   },
   "source": [
    "#### Εμφωλιάσεις βρόχων if"
   ]
  },
  {
   "cell_type": "code",
   "execution_count": 11,
   "metadata": {
    "collapsed": false
   },
   "outputs": [
    {
     "name": "stdout",
     "output_type": "stream",
     "text": [
      "positive even\n"
     ]
    }
   ],
   "source": [
    "x = 10\n",
    "\n",
    "if x > 0:\n",
    "    if x % 2 == 0:\n",
    "        print 'positive even'"
   ]
  },
  {
   "cell_type": "code",
   "execution_count": 12,
   "metadata": {
    "collapsed": true
   },
   "outputs": [],
   "source": [
    "# x = 11\n",
    "\n",
    "# if x > 0:\n",
    "#     if x % 2 == 0:\n",
    "#         print 'positive even'"
   ]
  },
  {
   "cell_type": "markdown",
   "metadata": {
    "collapsed": true
   },
   "source": [
    "#### Η δομή του βρόχου if ... else"
   ]
  },
  {
   "cell_type": "code",
   "execution_count": 13,
   "metadata": {
    "collapsed": true
   },
   "outputs": [],
   "source": [
    "if 'Boolean_Expression':\n",
    "    'Statement(s)_1'\n",
    "else: \n",
    "    'Statement(s)_2'"
   ]
  },
  {
   "cell_type": "code",
   "execution_count": 14,
   "metadata": {
    "collapsed": false
   },
   "outputs": [
    {
     "name": "stdout",
     "output_type": "stream",
     "text": [
      "positive\n"
     ]
    }
   ],
   "source": [
    "x = 10\n",
    "\n",
    "if x > 0:\n",
    "    print 'positive'\n",
    "else:\n",
    "    print 'zero or negative'"
   ]
  },
  {
   "cell_type": "code",
   "execution_count": 15,
   "metadata": {
    "collapsed": false
   },
   "outputs": [
    {
     "name": "stdout",
     "output_type": "stream",
     "text": [
      "zero or negative\n"
     ]
    }
   ],
   "source": [
    "x = -10\n",
    "\n",
    "if x > 0:\n",
    "    print 'positive'\n",
    "else:\n",
    "    print 'zero or negative'"
   ]
  },
  {
   "cell_type": "markdown",
   "metadata": {},
   "source": [
    "#### Εμφωλιάσεις βρόχων if ... else"
   ]
  },
  {
   "cell_type": "code",
   "execution_count": 16,
   "metadata": {
    "collapsed": false
   },
   "outputs": [
    {
     "name": "stdout",
     "output_type": "stream",
     "text": [
      "3 < 5\n"
     ]
    }
   ],
   "source": [
    "a, b = 3, 5\n",
    "\n",
    "if a == b:\n",
    "    print a, '=', b\n",
    "else:\n",
    "    if a < b:\n",
    "        print a, '<', b\n",
    "    else:\n",
    "        print a, '>', b"
   ]
  },
  {
   "cell_type": "markdown",
   "metadata": {},
   "source": [
    "### Ο βρόχος if ... elif ... else"
   ]
  },
  {
   "cell_type": "code",
   "execution_count": 17,
   "metadata": {
    "collapsed": true
   },
   "outputs": [],
   "source": [
    "if 'BooleanExpression_1':  \n",
    "    'Statement(s)'\n",
    "elif 'BooleanExpression_2':\n",
    "    'Statement(s)'\n",
    "elif 'BooleanExpression_3':\n",
    "    'Statement(s)'\n",
    "else:\n",
    "    'Statement(s)'"
   ]
  },
  {
   "cell_type": "code",
   "execution_count": 7,
   "metadata": {
    "collapsed": false
   },
   "outputs": [
    {
     "name": "stdout",
     "output_type": "stream",
     "text": [
      "['abc', 12, [0, 1, 2, 3, 4, 5, 6, 7, 8, 9]]\n"
     ]
    },
    {
     "data": {
      "text/plain": [
       "['ABC', 48, [0, 1, 2, 3, 4, 5, 6, 7, 8]]"
      ]
     },
     "execution_count": 7,
     "metadata": {},
     "output_type": "execute_result"
    }
   ],
   "source": [
    "aList = ['abc',12,range(10)]\n",
    "print aList\n",
    "if isinstance(aList[0],str):\n",
    "    aList[0] = aList[0].upper()\n",
    "if isinstance(aList[1],int):\n",
    "    aList[1] *= 4\n",
    "if isinstance(aList[2],list):\n",
    "    aList[2].pop()\n",
    "aList"
   ]
  },
  {
   "cell_type": "code",
   "execution_count": 18,
   "metadata": {
    "collapsed": false
   },
   "outputs": [
    {
     "name": "stdout",
     "output_type": "stream",
     "text": [
      "3 < 5\n"
     ]
    }
   ],
   "source": [
    "a, b = 3, 5\n",
    "\n",
    "if a < b:\n",
    "    print a, '<', b\n",
    "elif a > b:\n",
    "    print a, '>', b\n",
    "else:\n",
    "    print a, '=', b"
   ]
  },
  {
   "cell_type": "markdown",
   "metadata": {},
   "source": [
    "<a id='4.1.2'></a>\n",
    "### Επαναλήψεις: for"
   ]
  },
  {
   "cell_type": "markdown",
   "metadata": {
    "collapsed": true
   },
   "source": [
    "#### Η δομή του βρόχου for"
   ]
  },
  {
   "cell_type": "code",
   "execution_count": 19,
   "metadata": {
    "collapsed": false
   },
   "outputs": [],
   "source": [
    "for element in 'aList':\n",
    "   'statement_1'\n",
    "   'statement_2'\n",
    "   'statement_N'"
   ]
  },
  {
   "cell_type": "code",
   "execution_count": 9,
   "metadata": {
    "collapsed": false
   },
   "outputs": [
    {
     "name": "stdout",
     "output_type": "stream",
     "text": [
      "APPLE\n",
      "BANANA\n",
      "CHERRY\n"
     ]
    }
   ],
   "source": [
    "fruits = ['apple','banana','cherry']\n",
    "\n",
    "# for i in range(len(fruits)):\n",
    "#     print fruits[i].upper()\n",
    "\n",
    "for fruit in fruits:\n",
    "    print fruit.upper()"
   ]
  },
  {
   "cell_type": "code",
   "execution_count": 12,
   "metadata": {
    "collapsed": false
   },
   "outputs": [
    {
     "name": "stdout",
     "output_type": "stream",
     "text": [
      "93326215443944152681699238856266700490715968264381621468592963895217599993229915608941463976156518286253697920827223758251185210916864000000000000000000000000\n"
     ]
    },
    {
     "data": {
      "text/plain": [
       "9.332621544394415e+157"
      ]
     },
     "execution_count": 12,
     "metadata": {},
     "output_type": "execute_result"
    }
   ],
   "source": [
    "# Χρησιμοποιούμε το xrange (αντί του range) όταν κάνουμε μεγάλο αριθμό επαναλήψεων (για να αποφύγουμε\n",
    "# την αποθήκευση μεγάλων λιστών στη μνήμη).\n",
    "\n",
    "n = 100\n",
    "factorial = 1 # το παραγοντικού του 1\n",
    "for i in xrange(1,n+1):\n",
    "    factorial *= i\n",
    "print factorial\n",
    "float(factorial)"
   ]
  },
  {
   "cell_type": "markdown",
   "metadata": {
    "collapsed": true
   },
   "source": [
    "#### Διπλές (ταυτόχρονες) επαναλήψεις με for δύο λιστών χρησιμοποιώντας το enumerate"
   ]
  },
  {
   "cell_type": "code",
   "execution_count": 13,
   "metadata": {
    "collapsed": false
   },
   "outputs": [
    {
     "data": {
      "text/plain": [
       "[(0, 'Peter'), (1, 'Marge'), (2, 'Mary'), (3, 'Jack')]"
      ]
     },
     "execution_count": 13,
     "metadata": {},
     "output_type": "execute_result"
    }
   ],
   "source": [
    "persons = ['Peter','Marge','Mary','Jack']\n",
    "list(enumerate(persons))"
   ]
  },
  {
   "cell_type": "code",
   "execution_count": 22,
   "metadata": {
    "collapsed": false
   },
   "outputs": [
    {
     "name": "stdout",
     "output_type": "stream",
     "text": [
      "dad Peter\n",
      "mom Marge\n",
      "daughter Mary\n",
      "son Jack\n"
     ]
    }
   ],
   "source": [
    "persons = ['Peter','Marge','Mary','Jack']\n",
    "kin = ['dad','mom','daughter','son']\n",
    "\n",
    "for i, person in enumerate(persons):\n",
    "    print kin[i], person"
   ]
  },
  {
   "cell_type": "markdown",
   "metadata": {},
   "source": [
    "#### Διπλές (ταυτόχρονες) επαναλήψεις με for ενός λεξικού"
   ]
  },
  {
   "cell_type": "code",
   "execution_count": 23,
   "metadata": {
    "collapsed": false
   },
   "outputs": [
    {
     "name": "stdout",
     "output_type": "stream",
     "text": [
      "dad Peter\n",
      "kids ['Mary', 'Jack']\n",
      "mom Marge\n"
     ]
    }
   ],
   "source": [
    "family = {'dad':'Peter','mom':'Marge','kids':['Mary','Jack']}  \n",
    "\n",
    "for key, value in family.items():\n",
    "    print key, value"
   ]
  },
  {
   "cell_type": "markdown",
   "metadata": {
    "collapsed": true
   },
   "source": [
    "#### Εμφωλίαση δυο βρόχων for"
   ]
  },
  {
   "cell_type": "code",
   "execution_count": 24,
   "metadata": {
    "collapsed": false
   },
   "outputs": [
    {
     "name": "stdout",
     "output_type": "stream",
     "text": [
      "dad Peter\n",
      "kids[0] Mary\n",
      "kids[1] Jack\n",
      "mom Marge\n"
     ]
    }
   ],
   "source": [
    "for key, value in family.items():\n",
    "    if isinstance(value, list):\n",
    "        for i in range(len(value)):\n",
    "            print key+'['+str(i)+']', value[i]\n",
    "    else:\n",
    "        print key, value"
   ]
  },
  {
   "cell_type": "markdown",
   "metadata": {
    "collapsed": true
   },
   "source": [
    "#### Ο βρόχος for με την εντολή try ... except"
   ]
  },
  {
   "cell_type": "code",
   "execution_count": 25,
   "metadata": {
    "collapsed": false
   },
   "outputs": [],
   "source": [
    "# Η εντολή try ... except χρησιμοποιείται για την παράκαμψη εμφανιζόμενων λαθών.\n",
    "# Η δομή της εντολής αυτής είναι η εξής:\n",
    "# \n",
    "# try:\n",
    "#     <statements>\n",
    "# except <exception type>:\n",
    "#     <statements>"
   ]
  },
  {
   "cell_type": "code",
   "execution_count": 26,
   "metadata": {
    "collapsed": false
   },
   "outputs": [
    {
     "name": "stdout",
     "output_type": "stream",
     "text": [
      "a is not convertible to a float\n",
      "1.0 is a float decimal\n",
      "54.1 is a float decimal\n",
      "43.a is not convertible to a float\n"
     ]
    }
   ],
   "source": [
    "ttt = ('a', '1', '54.1', '43.a')\n",
    "for i in ttt:\n",
    "    try:\n",
    "        print float(i), 'is a float decimal' \n",
    "    except Exception,e:\n",
    "        print i, 'is not convertible to a float' "
   ]
  },
  {
   "cell_type": "markdown",
   "metadata": {
    "collapsed": true
   },
   "source": [
    "#### Ο βρόχος for ... if"
   ]
  },
  {
   "cell_type": "code",
   "execution_count": 14,
   "metadata": {
    "collapsed": false
   },
   "outputs": [
    {
     "name": "stdout",
     "output_type": "stream",
     "text": [
      "[ 2.16425055  0.41554377 -0.27762218 -1.02299432  0.4849241  -2.18784902\n",
      " -0.09850168 -0.24684097 -0.45303025 -0.30050529  0.48634875  2.09149007\n",
      " -0.55530018  0.00702088 -1.76503698]\n",
      "1 -0.27762218046\n",
      "2 -1.0229943235\n",
      "3 -2.18784901679\n",
      "4 -0.0985016772617\n",
      "5 -0.246840972583\n",
      "6 -0.453030250041\n",
      "7 -0.300505291882\n",
      "8 -0.555300175256\n",
      "9 -1.76503698251\n"
     ]
    }
   ],
   "source": [
    "# Η συνάρτηση np.random.randn(n) δίνει μια λίστα n δειγματικών τιμών \n",
    "# της τυπικής κανονικής κατανομής.\n",
    "\n",
    "import numpy as np\n",
    "n = 15\n",
    "sample = np.random.randn(n)\n",
    "print sample\n",
    "\n",
    "# Θέλουμε να απαριθμήσουμε τις αρνητικές τιμές της λίστας values\n",
    "\n",
    "count = 0\n",
    "for value in sample:\n",
    "    if value < 0:\n",
    "        count += 1\n",
    "        print count, value"
   ]
  },
  {
   "cell_type": "markdown",
   "metadata": {},
   "source": [
    "#### Τερματισμός βρόχου for ... if με break"
   ]
  },
  {
   "cell_type": "code",
   "execution_count": 24,
   "metadata": {
    "collapsed": false
   },
   "outputs": [
    {
     "name": "stdout",
     "output_type": "stream",
     "text": [
      "There is a value = 1.05153072322 outside [-1,1]\n"
     ]
    }
   ],
   "source": [
    "sample = np.random.randn(n)\n",
    "\n",
    "for value in sample:\n",
    "    if value < -1 or value > 1:\n",
    "        print 'There is a value =', value, 'outside [-1,1]' \n",
    "        break  # Έξοδος από τον βρόχο if και τερματισμός του βρόχου for \n",
    "               # χωρίς εκτέλεση του επόμενου μπλοκ (του else)\n",
    "else:\n",
    "    print \"Can't find anything outside [-1,1]\" \n",
    "        "
   ]
  },
  {
   "cell_type": "markdown",
   "metadata": {},
   "source": [
    "#### Διακοπή βρόχου for ... if με continue"
   ]
  },
  {
   "cell_type": "code",
   "execution_count": 33,
   "metadata": {
    "collapsed": false
   },
   "outputs": [
    {
     "name": "stdout",
     "output_type": "stream",
     "text": [
      "1.03728049164 is inside [-1.5,+1.5]\n",
      "0.496993200407 is inside [-1.5,+1.5]\n",
      "0.610513796887 is inside [-1.5,+1.5]\n",
      "0.075740919463 is inside [-1.5,+1.5]\n",
      "0.0741689026877 is inside [-1.5,+1.5]\n",
      "-0.771175185949 is inside [-1.5,+1.5]\n",
      "0.611420465831 is inside [-1.5,+1.5]\n",
      "-0.308177878152 is inside [-1.5,+1.5]\n",
      "0.392675965099 is inside [-1.5,+1.5]\n",
      "1.05451263398 is inside [-1.5,+1.5]\n",
      "-1.47125610531 is inside [-1.5,+1.5]\n",
      "-1.38678817333 is inside [-1.5,+1.5]\n",
      "[-1.6941271335081596, 3.4966315407236279, -2.2208043683818848]\n"
     ]
    }
   ],
   "source": [
    "sample1 = np.random.randn(n)\n",
    "# print sample1\n",
    "\n",
    "flist=[]\n",
    "for value in sample1:\n",
    "    if value < -1.5 or value > 1.5:\n",
    "        flist.append(value)\n",
    "        continue # Διακοπή της βρόχου if και συνέχιση με την επόμενη επανάηψη του βρόχου for\n",
    "    print value,'is inside [-1.5,+1.5]' \n",
    "print flist\n",
    "# print sample"
   ]
  },
  {
   "cell_type": "markdown",
   "metadata": {},
   "source": [
    "#### Αντί για continue, το else δημιουργεί το ίδιο αποτέλεσμα"
   ]
  },
  {
   "cell_type": "code",
   "execution_count": 35,
   "metadata": {
    "collapsed": false
   },
   "outputs": [
    {
     "name": "stdout",
     "output_type": "stream",
     "text": [
      "1.03728049164 is inside [-1.5,+1.5]\n",
      "0.496993200407 is inside [-1.5,+1.5]\n",
      "0.610513796887 is inside [-1.5,+1.5]\n",
      "0.075740919463 is inside [-1.5,+1.5]\n",
      "0.0741689026877 is inside [-1.5,+1.5]\n",
      "-0.771175185949 is inside [-1.5,+1.5]\n",
      "0.611420465831 is inside [-1.5,+1.5]\n",
      "-0.308177878152 is inside [-1.5,+1.5]\n",
      "0.392675965099 is inside [-1.5,+1.5]\n",
      "1.05451263398 is inside [-1.5,+1.5]\n",
      "-1.47125610531 is inside [-1.5,+1.5]\n",
      "-1.38678817333 is inside [-1.5,+1.5]\n",
      "[-1.6941271335081596, 3.4966315407236279, -2.2208043683818848]\n"
     ]
    }
   ],
   "source": [
    "flist=[]\n",
    "for value in sample1:\n",
    "    if value < -1.5 or value > 1.5:\n",
    "        flist.append(value)\n",
    "    else:\n",
    "        print value,'is inside [-1.5,+1.5]' \n",
    "print flist"
   ]
  },
  {
   "cell_type": "markdown",
   "metadata": {},
   "source": [
    "#### Αδράνεια βρόχου με pass"
   ]
  },
  {
   "cell_type": "code",
   "execution_count": 30,
   "metadata": {
    "collapsed": false
   },
   "outputs": [],
   "source": [
    "for i in xrange(10**7):\n",
    "    pass     # Δεν εκτελείται τίποτε (null operation)"
   ]
  },
  {
   "cell_type": "markdown",
   "metadata": {},
   "source": [
    "<a id='4.1.3'></a>\n",
    "### Επαναλήψεις: while"
   ]
  },
  {
   "cell_type": "markdown",
   "metadata": {
    "collapsed": true
   },
   "source": [
    "#### Η δομή του βρόχου while"
   ]
  },
  {
   "cell_type": "code",
   "execution_count": 31,
   "metadata": {
    "collapsed": false
   },
   "outputs": [],
   "source": [
    "# while 'logical condition':\n",
    "#     'Code to run'  \n",
    "#     'Update logical condition'"
   ]
  },
  {
   "cell_type": "code",
   "execution_count": 32,
   "metadata": {
    "collapsed": false
   },
   "outputs": [
    {
     "name": "stdout",
     "output_type": "stream",
     "text": [
      "906604\n",
      "906604 has 6 digits\n"
     ]
    }
   ],
   "source": [
    "# Μέτρηση ψηφίων ενός ακέραιου αριθμού\n",
    "\n",
    "import random\n",
    "a = random.randrange(1000000) # Επιλογή τυχαίου ακέραιου από 0 ως 1000000\n",
    "print a\n",
    "\n",
    "count = 0\n",
    "b = a\n",
    "while b:\n",
    "    b /= 10\n",
    "    count += 1   \n",
    "print a, 'has', count, 'digits'"
   ]
  },
  {
   "cell_type": "code",
   "execution_count": 33,
   "metadata": {
    "collapsed": false
   },
   "outputs": [
    {
     "name": "stdout",
     "output_type": "stream",
     "text": [
      "0 23\n",
      "1 38\n",
      "2 53\n",
      "3 68\n",
      "4 83\n",
      "5 98\n",
      "6 113\n"
     ]
    }
   ],
   "source": [
    "# Διαδοχική προσαύξηση ενός αριθμού κατά μια ποσότητα μέχρις ενός ορίου\n",
    "\n",
    "number = 23\n",
    "max = 100\n",
    "increment = 15\n",
    "count = 0\n",
    "\n",
    "print count, number\n",
    "\n",
    "while number < max:\n",
    "    count += 1\n",
    "    number += increment\n",
    "    print count, number"
   ]
  },
  {
   "cell_type": "markdown",
   "metadata": {},
   "source": [
    "#### Ισοδυναμία βρόχου while με έναν βρόχο for"
   ]
  },
  {
   "cell_type": "code",
   "execution_count": 34,
   "metadata": {
    "collapsed": false
   },
   "outputs": [
    {
     "name": "stdout",
     "output_type": "stream",
     "text": [
      "0 23\n",
      "1 38\n",
      "2 53\n",
      "3 68\n",
      "4 83\n",
      "5 98\n",
      "6 113\n"
     ]
    }
   ],
   "source": [
    "number = 23\n",
    "count = 0\n",
    "max = 100\n",
    "increment = 15\n",
    "print count, number\n",
    "\n",
    "for i in range(number,max,increment):\n",
    "    count += 1\n",
    "    i += increment\n",
    "    print count, i"
   ]
  },
  {
   "cell_type": "markdown",
   "metadata": {},
   "source": [
    "#### Παράδειγμα βρόχου while που ΔΕΝ μπορεί να γραφεί ως βρόχος for"
   ]
  },
  {
   "cell_type": "code",
   "execution_count": 35,
   "metadata": {
    "collapsed": false
   },
   "outputs": [
    {
     "name": "stdout",
     "output_type": "stream",
     "text": [
      "0 66.1910631309\n",
      "1 65.3418142915\n",
      "2 33.0374607434\n",
      "3 10.8273637\n",
      "4 2.89140845152\n",
      "5 0.253619869365\n"
     ]
    }
   ],
   "source": [
    "mu = abs(100*np.random.randn(1))\n",
    "i = 0\n",
    "print i, float(mu)\n",
    "\n",
    "while abs(mu) > 1:\n",
    "    mu = (mu + np.random.randn(1))/(i+1)\n",
    "    i += 1\n",
    "    print i, float(mu)"
   ]
  },
  {
   "cell_type": "markdown",
   "metadata": {},
   "source": [
    "<a id='4.1.4'></a>\n",
    "### Συντομεύσεις (Comprehensions)"
   ]
  },
  {
   "cell_type": "markdown",
   "metadata": {
    "collapsed": true
   },
   "source": [
    "#### Συντομεύσεις (Comprehensions) λιστών με βρόχο for"
   ]
  },
  {
   "cell_type": "code",
   "execution_count": 36,
   "metadata": {
    "collapsed": false
   },
   "outputs": [
    {
     "name": "stdout",
     "output_type": "stream",
     "text": [
      "[0, 1, 4, 9, 16]\n",
      "[0, 1, 4, 9, 16]\n"
     ]
    }
   ],
   "source": [
    "z = []\n",
    "for i in range(5):\n",
    "    z.append(i**2)\n",
    "print z\n",
    "\n",
    "# Είναι ισοδύναμο με την συντόμευση λίστας:\n",
    "\n",
    "z = [range(5)[i]**2 for i in range(5)]\n",
    "print z"
   ]
  },
  {
   "cell_type": "markdown",
   "metadata": {
    "collapsed": true
   },
   "source": [
    "#### Συντομεύσεις (Comprehensions) λιστών με βρόχο for ... if"
   ]
  },
  {
   "cell_type": "code",
   "execution_count": 39,
   "metadata": {
    "collapsed": false
   },
   "outputs": [
    {
     "name": "stdout",
     "output_type": "stream",
     "text": [
      "[0, 3, 6, 9, 12, 15, 18, 21, 24, 27, 30, 33, 36, 39, 42, 45, 48, 51, 54, 57, 60, 63, 66, 69]\n",
      "[0, 3, 6, 9, 12, 15, 18, 21, 24, 27, 30, 33, 36, 39, 42, 45, 48, 51, 54, 57, 60, 63, 66, 69]\n"
     ]
    }
   ],
   "source": [
    "z = []\n",
    "for i in range(70):\n",
    "    if i%3 == 0:\n",
    "        z.append(i)\n",
    "print z\n",
    "\n",
    "z = [range(70)[i] for i in range(70) if i%3 == 0]\n",
    "print z"
   ]
  },
  {
   "cell_type": "code",
   "execution_count": 37,
   "metadata": {
    "collapsed": false
   },
   "outputs": [
    {
     "name": "stdout",
     "output_type": "stream",
     "text": [
      "[0, 1, 4, 9]\n",
      "[0, 1, 4, 9]\n"
     ]
    }
   ],
   "source": [
    "z = []\n",
    "for i in range(5):\n",
    "    for j in range(4):\n",
    "        if i==j:\n",
    "            z.append(i*j)\n",
    "print z\n",
    "\n",
    "# Είναι ισοδύναμο με την συντόμευση λίστας:\n",
    "\n",
    "z = [range(5)[i]*range(4)[j] for i in range(5) for j in range(4) if i==j]\n",
    "print z"
   ]
  },
  {
   "cell_type": "markdown",
   "metadata": {
    "collapsed": true
   },
   "source": [
    "#### Συντομεύσεις (Comprehensions) λεξικών με βρόχο for"
   ]
  },
  {
   "cell_type": "code",
   "execution_count": 38,
   "metadata": {
    "collapsed": false
   },
   "outputs": [
    {
     "name": "stdout",
     "output_type": "stream",
     "text": [
      "{0: 0, 1: 1, 2: 8, 3: 27, 4: 64}\n",
      "{0: 0, 1: 1, 2: 8, 3: 27, 4: 64}\n"
     ]
    }
   ],
   "source": [
    "z = {}\n",
    "for i in range(5):\n",
    "    z[i] = i**3\n",
    "print z\n",
    "\n",
    "# Είναι ισοδύναμο με την συντόμευση λεξικού:\n",
    "\n",
    "z = {i:i**3 for i in range(5)}\n",
    "print z"
   ]
  },
  {
   "cell_type": "markdown",
   "metadata": {
    "collapsed": true
   },
   "source": [
    "#### Συντομεύσεις (Comprehensions) πλειάδων με βρόχο for"
   ]
  },
  {
   "cell_type": "code",
   "execution_count": 39,
   "metadata": {
    "collapsed": false
   },
   "outputs": [
    {
     "name": "stdout",
     "output_type": "stream",
     "text": [
      "(0, 1, 8, 27, 64)\n",
      "(0, 1, 8, 27, 64)\n"
     ]
    }
   ],
   "source": [
    "z = []\n",
    "for i in range(5):\n",
    "    z.append(i**3)\n",
    "z = tuple(z)\n",
    "print z\n",
    "\n",
    "# Είναι ισοδύναμο με την συντόμευση πλειάδας:\n",
    "\n",
    "z = tuple(i**3 for i in range(5))\n",
    "print z"
   ]
  },
  {
   "cell_type": "markdown",
   "metadata": {},
   "source": [
    "<a id='4.2'></a>\n",
    "## 4.2 Συναρτήσεις"
   ]
  },
  {
   "cell_type": "markdown",
   "metadata": {},
   "source": [
    "Μια **συνάρτηση** έχει: \n",
    "\n",
    "* ένα **όνομα** (με τους περιορισμούς για τα ονόματα μεταβλητών),\n",
    "* δέχεται ένα input (αποτελούμενο από **ορίσματα**-**argumnents**), που μπορεί να είναι κενό\n",
    "* και βγάζει ένα **αποτέλεσμα**-**output**, το οποίο μπορεί να είναι:\n",
    "    * έξοδος με το **print**\n",
    "    * έξοδος με το **return**\n",
    "    * καμία έξοδος, **None**\n",
    "\n",
    "Μια συνάρτηση ορίζεται ως:"
   ]
  },
  {
   "cell_type": "code",
   "execution_count": 40,
   "metadata": {
    "collapsed": true
   },
   "outputs": [],
   "source": [
    "# def someFunction(arguments):\n",
    "#     [Optional docstring]\n",
    "#     Blocks of statements\n",
    "#     Output statement (print, return, none)"
   ]
  },
  {
   "cell_type": "markdown",
   "metadata": {},
   "source": [
    "Τα προαιρετικά **σχόλια**-**docstrings** μιας συνάρτησης γράφονται πάντα στην αρχή μετά τον ορισμό και περικλείονται ή σε μονά-διπλά εισαγωγικά, όταν πιάνουν μια γραμμή, ή σε τριπλά εισαγωγικά για περισσότερες της μιας γραμμές.\n",
    "\n",
    "Η συνάρτηση **εκτελείται** ή **τυπώνεται** γράφοντας το όνομά της και δίνοντας τα ορίσματά της:"
   ]
  },
  {
   "cell_type": "code",
   "execution_count": 41,
   "metadata": {
    "collapsed": true
   },
   "outputs": [],
   "source": [
    "# someFunction(arguments)\n",
    "# ή\n",
    "# print someFunction(arguments)"
   ]
  },
  {
   "cell_type": "markdown",
   "metadata": {},
   "source": [
    "<a id='4.2.1'></a>\n",
    "### Κανένα ή ένα όρισμα"
   ]
  },
  {
   "cell_type": "markdown",
   "metadata": {},
   "source": [
    "#### Συναρτήσεις χωρίς όρισμα"
   ]
  },
  {
   "cell_type": "code",
   "execution_count": 42,
   "metadata": {
    "collapsed": true
   },
   "outputs": [],
   "source": [
    "def ti_mera_einai():\n",
    "    return 'Paraskevi'"
   ]
  },
  {
   "cell_type": "code",
   "execution_count": 43,
   "metadata": {
    "collapsed": false
   },
   "outputs": [
    {
     "name": "stdout",
     "output_type": "stream",
     "text": [
      "Paraskevi\n"
     ]
    },
    {
     "data": {
      "text/plain": [
       "'Paraskevi'"
      ]
     },
     "execution_count": 43,
     "metadata": {},
     "output_type": "execute_result"
    }
   ],
   "source": [
    "print ti_mera_einai()\n",
    "ti_mera_einai()"
   ]
  },
  {
   "cell_type": "code",
   "execution_count": 44,
   "metadata": {
    "collapsed": true
   },
   "outputs": [],
   "source": [
    "def print_ti_mera_einai():\n",
    "    print 'Paraskevi'"
   ]
  },
  {
   "cell_type": "code",
   "execution_count": 45,
   "metadata": {
    "collapsed": false
   },
   "outputs": [
    {
     "name": "stdout",
     "output_type": "stream",
     "text": [
      "Paraskevi\n"
     ]
    }
   ],
   "source": [
    "print_ti_mera_einai()"
   ]
  },
  {
   "cell_type": "code",
   "execution_count": 46,
   "metadata": {
    "collapsed": false
   },
   "outputs": [
    {
     "name": "stdout",
     "output_type": "stream",
     "text": [
      "Paraskevi\n",
      "None\n"
     ]
    }
   ],
   "source": [
    "# PROSOXH!\n",
    "\n",
    "print print_ti_mera_einai()"
   ]
  },
  {
   "cell_type": "code",
   "execution_count": 47,
   "metadata": {
    "collapsed": false
   },
   "outputs": [],
   "source": [
    "def none_ti_mera_einai():\n",
    "    'Paraskevi'"
   ]
  },
  {
   "cell_type": "code",
   "execution_count": 48,
   "metadata": {
    "collapsed": true
   },
   "outputs": [],
   "source": [
    "none_ti_mera_einai()"
   ]
  },
  {
   "cell_type": "code",
   "execution_count": 49,
   "metadata": {
    "collapsed": false
   },
   "outputs": [
    {
     "data": {
      "text/plain": [
       "NoneType"
      ]
     },
     "execution_count": 49,
     "metadata": {},
     "output_type": "execute_result"
    }
   ],
   "source": [
    "type(none_ti_mera_einai())"
   ]
  },
  {
   "cell_type": "markdown",
   "metadata": {},
   "source": [
    "#### *Ποια είναι η διαφορά της εξόδου με ή χωρίς το return;*\n",
    "\n",
    "**Όταν μια συνάρτηση δεν καλεί το return στην έξοδό της, βγάζει None με το print!**"
   ]
  },
  {
   "cell_type": "markdown",
   "metadata": {},
   "source": [
    "#### Συναρτήσεις με ένα όρισμα"
   ]
  },
  {
   "cell_type": "code",
   "execution_count": 40,
   "metadata": {
    "collapsed": true
   },
   "outputs": [],
   "source": [
    "def what_is_this(x):\n",
    "    return x"
   ]
  },
  {
   "cell_type": "code",
   "execution_count": 51,
   "metadata": {
    "collapsed": false
   },
   "outputs": [
    {
     "name": "stdout",
     "output_type": "stream",
     "text": [
      "3\n"
     ]
    },
    {
     "data": {
      "text/plain": [
       "3"
      ]
     },
     "execution_count": 51,
     "metadata": {},
     "output_type": "execute_result"
    }
   ],
   "source": [
    "print what_is_this(3)\n",
    "what_is_this(3)"
   ]
  },
  {
   "cell_type": "code",
   "execution_count": 42,
   "metadata": {
    "collapsed": false
   },
   "outputs": [
    {
     "name": "stdout",
     "output_type": "stream",
     "text": [
      "Hi!\n"
     ]
    },
    {
     "data": {
      "text/plain": [
       "'Hi!'"
      ]
     },
     "execution_count": 42,
     "metadata": {},
     "output_type": "execute_result"
    }
   ],
   "source": [
    "print what_is_this(\"Hi!\")\n",
    "what_is_this(\"Hi!\")"
   ]
  },
  {
   "cell_type": "code",
   "execution_count": 52,
   "metadata": {
    "collapsed": false
   },
   "outputs": [],
   "source": [
    "# what_is_this(x)"
   ]
  },
  {
   "cell_type": "code",
   "execution_count": 53,
   "metadata": {
    "collapsed": true
   },
   "outputs": [],
   "source": [
    "def print_what_is_this(x):\n",
    "    print x"
   ]
  },
  {
   "cell_type": "code",
   "execution_count": 54,
   "metadata": {
    "collapsed": false
   },
   "outputs": [
    {
     "name": "stdout",
     "output_type": "stream",
     "text": [
      "3\n"
     ]
    }
   ],
   "source": [
    "print_what_is_this(3)"
   ]
  },
  {
   "cell_type": "code",
   "execution_count": 55,
   "metadata": {
    "collapsed": false
   },
   "outputs": [
    {
     "name": "stdout",
     "output_type": "stream",
     "text": [
      "3\n",
      "None\n"
     ]
    }
   ],
   "source": [
    "# PROSOXH!\n",
    "\n",
    "print print_what_is_this(3)"
   ]
  },
  {
   "cell_type": "markdown",
   "metadata": {},
   "source": [
    "#### **Το αποτέλεσμα μιας συνάρτησης (αν δεν είναι έξοδος εκτύπωσης) μπορεί απλώς να καταχωρείται σε μια μεταβλητή (χωρίς να εκτελείται τότε)!**"
   ]
  },
  {
   "cell_type": "code",
   "execution_count": 56,
   "metadata": {
    "collapsed": false
   },
   "outputs": [],
   "source": [
    "this = what_is_this(30)"
   ]
  },
  {
   "cell_type": "code",
   "execution_count": 57,
   "metadata": {
    "collapsed": false
   },
   "outputs": [
    {
     "data": {
      "text/plain": [
       "40"
      ]
     },
     "execution_count": 57,
     "metadata": {},
     "output_type": "execute_result"
    }
   ],
   "source": [
    "10 + this"
   ]
  },
  {
   "cell_type": "markdown",
   "metadata": {},
   "source": [
    "#### Η συνάρτηση Fibonacci"
   ]
  },
  {
   "cell_type": "code",
   "execution_count": 58,
   "metadata": {
    "collapsed": false
   },
   "outputs": [
    {
     "data": {
      "text/plain": [
       "[0, 1, 1, 2, 3, 5, 8, 13, 21, 34, 55, 89]"
      ]
     },
     "execution_count": 58,
     "metadata": {},
     "output_type": "execute_result"
    }
   ],
   "source": [
    "def fib(n):    \n",
    "    result = []\n",
    "    a, b = 0, 1\n",
    "    while a < n:\n",
    "        result.append(a)\n",
    "        a, b = b, a+b\n",
    "    return result\n",
    "\n",
    "fib(101)"
   ]
  },
  {
   "cell_type": "markdown",
   "metadata": {},
   "source": [
    "#### Μέτρηση του μήκους μιας συμβολοσειράς"
   ]
  },
  {
   "cell_type": "code",
   "execution_count": 59,
   "metadata": {
    "collapsed": false
   },
   "outputs": [
    {
     "name": "stdout",
     "output_type": "stream",
     "text": [
      "H lexi Mississippi exei 11 xaraktires\n",
      "H lexi Mississippi exei 11 xaraktires\n"
     ]
    }
   ],
   "source": [
    "def count_length(string):\n",
    "    count = 0\n",
    "    for i in string:\n",
    "        count += 1\n",
    "    return count\n",
    "\n",
    "string = 'Mississippi'\n",
    "print 'H lexi', string, 'exei', count_length(string), 'xaraktires'\n",
    "# Diaforetika grammeno me to %\n",
    "print 'H lexi %s exei %i xaraktires' %(string,count_length(string))"
   ]
  },
  {
   "cell_type": "markdown",
   "metadata": {},
   "source": [
    "#### Εύρεση φωνηέντων μιας λέξης (σε λατινικά γράμματα)"
   ]
  },
  {
   "cell_type": "code",
   "execution_count": 60,
   "metadata": {
    "collapsed": false
   },
   "outputs": [
    {
     "name": "stdout",
     "output_type": "stream",
     "text": [
      "['a', 'o', 'e', 'i']\n"
     ]
    }
   ],
   "source": [
    "def find_vowels(word):\n",
    "    all_vowels = 'aeiou'\n",
    "    found_vowels = []\n",
    "    for i in word:\n",
    "        if i in all_vowels:\n",
    "            found_vowels.append(i)\n",
    "    return found_vowels\n",
    "\n",
    "word = \"another city\"\n",
    "vo = find_vowels(word)\n",
    "print vo\n"
   ]
  },
  {
   "cell_type": "markdown",
   "metadata": {},
   "source": [
    "<a id='4.2.2'></a>\n",
    "### Πολλαπλά ορίσματα"
   ]
  },
  {
   "cell_type": "markdown",
   "metadata": {
    "collapsed": true
   },
   "source": [
    "**Τα ορίσματα των συναρτήσεων είναι δυο τύπων:**\n",
    "* **Ανοικτά (επί τόπου) ορίσματα (Positional Arguments)**\n",
    "* **Ορίσματα με λέξεις κλειδιά (Keyward Arguments)**"
   ]
  },
  {
   "cell_type": "markdown",
   "metadata": {
    "collapsed": true
   },
   "source": [
    "#### Ανοικτά (επί τόπου) ορίσματα: \n",
    "***Η σειρά τοποθέτησης παίζει ρόλο, όταν αυτά καλούνται (εκτελούνται)!***"
   ]
  },
  {
   "cell_type": "code",
   "execution_count": 45,
   "metadata": {
    "collapsed": false
   },
   "outputs": [
    {
     "name": "stdout",
     "output_type": "stream",
     "text": [
      "{'dessert': 'frouta', 'entree': 'moussaka', 'wine': 'retsina'}\n"
     ]
    }
   ],
   "source": [
    "# Μια συνάρτηση που επιστρέφει ένα λεξικό\n",
    "\n",
    "def menu(wine, entree, dessert):\n",
    "    return {'wine':wine, 'entree':entree, 'dessert':dessert}\n",
    "\n",
    "print menu('retsina','moussaka','frouta')\n",
    "\n",
    "# ALLA!!!!\n",
    "# menu('soublaki','krema','bira')"
   ]
  },
  {
   "cell_type": "markdown",
   "metadata": {
    "collapsed": true
   },
   "source": [
    "#### Μικτά ανοικτά (επι τόπου) και ορίσματα με λέξεις κλειδιά: \n",
    "\n",
    "**Τα ανοικτά (επί τόπου) ορίσματα πρέπει να ΓΡΑΦΟΝΤΑΙ ΠΡΩΤΑ!**"
   ]
  },
  {
   "cell_type": "code",
   "execution_count": 48,
   "metadata": {
    "collapsed": false
   },
   "outputs": [
    {
     "name": "stdout",
     "output_type": "stream",
     "text": [
      "{'dessert': 'krema', 'entree': 'soublaki', 'wine': 'bira'}\n",
      "{'dessert': 'krema', 'entree': 'soublaki', 'wine': 'bira'}\n"
     ]
    }
   ],
   "source": [
    "def menu(wine, entree='soublaki', dessert='krema'):\n",
    "    return {'wine':wine, 'entree':entree, 'dessert':dessert}\n",
    "\n",
    "print menu('bira', entree='soublaki', dessert='krema')\n",
    "print menu('bira') #, entree='soublaki', dessert='krema')"
   ]
  },
  {
   "cell_type": "code",
   "execution_count": 63,
   "metadata": {
    "collapsed": true
   },
   "outputs": [],
   "source": [
    "# ΑΛΛΑ με ανακατεμένη σειρά παίρνουμε λάθος!!!!\n",
    "\n",
    "# menu(wine='retsina', entree='moussaka', 'frouta')"
   ]
  },
  {
   "cell_type": "markdown",
   "metadata": {
    "collapsed": true
   },
   "source": [
    "#### Τα ορίσματα με λέξεις κλειδιά είναι ΠΡΟΚΑΘΟΡΙΣΜΕΝΑ (DEFAULT)!¶"
   ]
  },
  {
   "cell_type": "code",
   "execution_count": 64,
   "metadata": {
    "collapsed": false
   },
   "outputs": [
    {
     "name": "stdout",
     "output_type": "stream",
     "text": [
      "{'dessert': 'glyko', 'entree': 'makaronada', 'wine': 'Agioritiko'}\n"
     ]
    },
    {
     "data": {
      "text/plain": [
       "{'dessert': 'glyko', 'entree': 'makaronada', 'wine': 'ouzo'}"
      ]
     },
     "execution_count": 64,
     "metadata": {},
     "output_type": "execute_result"
    }
   ],
   "source": [
    "def menu1(entree, dessert, wine='Agioritiko'):\n",
    "    return {'wine':wine, 'entree':entree, 'dessert':dessert}\n",
    "\n",
    "print menu1('makaronada','glyko')\n",
    "menu1('makaronada','glyko','ouzo')"
   ]
  },
  {
   "cell_type": "markdown",
   "metadata": {
    "collapsed": true
   },
   "source": [
    "#### Συγκέντρωση όλων των ανοικτών (επί τόπου) ορισμάτων με *args σε πλειάδα "
   ]
  },
  {
   "cell_type": "code",
   "execution_count": 65,
   "metadata": {
    "collapsed": false
   },
   "outputs": [
    {
     "data": {
      "text/plain": [
       "(1, 2, 3, 'd', 'e')"
      ]
     },
     "execution_count": 65,
     "metadata": {},
     "output_type": "execute_result"
    }
   ],
   "source": [
    "# Έστω ότι έχουμε την εξής συνάρτηση κατασκευής μιας πλειάδας:\n",
    "\n",
    "def make_tuple(arg1, arg2, arg3, arg4, arg5):\n",
    "    return (arg1, arg2, arg3, arg4, arg5)\n",
    "\n",
    "make_tuple(1, 2, 3, 'd', 'e')"
   ]
  },
  {
   "cell_type": "code",
   "execution_count": 66,
   "metadata": {
    "collapsed": false
   },
   "outputs": [
    {
     "name": "stdout",
     "output_type": "stream",
     "text": [
      "(1, 2, 3, 'd', 'e')\n"
     ]
    }
   ],
   "source": [
    "# Σε συντομία μια τέτοια συνάρτηση γράφεται ως εξής με *args\n",
    "\n",
    "def make_tuple(*args):\n",
    "    return args\n",
    "\n",
    "print make_tuple(1, 2, 3, 'd', 'e')"
   ]
  },
  {
   "cell_type": "markdown",
   "metadata": {},
   "source": [
    "#### Συγκέντρωση όλων των ορισμάτων με λέξεις κλειδιά με **kwargs σε λεξικά"
   ]
  },
  {
   "cell_type": "code",
   "execution_count": 67,
   "metadata": {
    "collapsed": false
   },
   "outputs": [
    {
     "data": {
      "text/plain": [
       "{'dessert': 'krema', 'entree': 'soublaki', 'wine': 'bira'}"
      ]
     },
     "execution_count": 67,
     "metadata": {},
     "output_type": "execute_result"
    }
   ],
   "source": [
    "# Έστω ότι έχουμε την εξής συνάρτηση κατασκευής ενός λεξικού:\n",
    "\n",
    "def make_dict(key1='entree',key2='dessert',key3='wine',\n",
    "              value1='soublaki',value2='krema',value3='bira'):\n",
    "    return {key1:value1,key2:value2,key3:value3}\n",
    "\n",
    "make_dict()"
   ]
  },
  {
   "cell_type": "code",
   "execution_count": 68,
   "metadata": {
    "collapsed": false
   },
   "outputs": [
    {
     "name": "stdout",
     "output_type": "stream",
     "text": [
      "{'dessert': 'krema', 'entree': 'soublaki', 'wine': 'bira'}\n"
     ]
    }
   ],
   "source": [
    "# Σε συντομία μια τέτοια συνάρτηση γράφεται ως εξής με **kargs\n",
    "\n",
    "def make_dict(**kwargs):\n",
    "    return kwargs\n",
    "\n",
    "print make_dict(entree='soublaki', dessert='krema', wine='bira')"
   ]
  },
  {
   "cell_type": "markdown",
   "metadata": {},
   "source": [
    "#### Ανάμειξη *args και **kwargs με τα *args ΠΑΝΤΑ πρώτα!"
   ]
  },
  {
   "cell_type": "code",
   "execution_count": 69,
   "metadata": {
    "collapsed": false
   },
   "outputs": [
    {
     "data": {
      "text/plain": [
       "((1, 2, 3, 'd', 'e'),\n",
       " {'dessert': 'krema', 'entree': 'soublaki', 'wine': 'bira'})"
      ]
     },
     "execution_count": 69,
     "metadata": {},
     "output_type": "execute_result"
    }
   ],
   "source": [
    "def make_tuple_dict(*args,**kwargs):\n",
    "    return args, kwargs\n",
    "\n",
    "make_tuple_dict(1, 2, 3, 'd', 'e', entree='soublaki', dessert='krema', wine='bira')"
   ]
  },
  {
   "cell_type": "markdown",
   "metadata": {},
   "source": [
    "<a id='4.2.3'></a>\n",
    "### Αντικειμενοστρεφότητα συναρτήσεων"
   ]
  },
  {
   "cell_type": "markdown",
   "metadata": {
    "collapsed": true
   },
   "source": [
    "#### Συνάρτηση με όρισμα μια άλλη συνάρτηση"
   ]
  },
  {
   "cell_type": "code",
   "execution_count": 70,
   "metadata": {
    "collapsed": false
   },
   "outputs": [
    {
     "data": {
      "text/plain": [
       "'Whatever'"
      ]
     },
     "execution_count": 70,
     "metadata": {},
     "output_type": "execute_result"
    }
   ],
   "source": [
    "# Mesa synartisi:\n",
    "\n",
    "def capitalizing(something):\n",
    "    return something.capitalize()\n",
    "\n",
    "# Exw synartisi:\n",
    "\n",
    "def cap(capitalizing,arg):\n",
    "#     if isinstance(arg,str):\n",
    "    if arg[0].isalpha():\n",
    "        return capitalizing(arg)\n",
    "    else:\n",
    "        print arg, 'is not a string'\n",
    "\n",
    "cap(capitalizing,'whatever')"
   ]
  },
  {
   "cell_type": "markdown",
   "metadata": {
    "collapsed": true
   },
   "source": [
    "#### Συνάρτηση στο εσωτερικό άλλης συνάρτησης"
   ]
  },
  {
   "cell_type": "code",
   "execution_count": 71,
   "metadata": {
    "collapsed": false
   },
   "outputs": [
    {
     "data": {
      "text/plain": [
       "58"
      ]
     },
     "execution_count": 71,
     "metadata": {},
     "output_type": "execute_result"
    }
   ],
   "source": [
    "def lin_comb(arg1,arg2,arg3,arg4):\n",
    "    \n",
    "    args = [arg1,arg2,arg3,arg4]\n",
    "    if args == [arg for arg in args if isinstance(arg, (int, long, float, complex))]:\n",
    "        \n",
    "        def addition(arg5,arg6):\n",
    "            return arg5 + arg6\n",
    "        def multiplication(arg7, arg8):\n",
    "            return arg7 * arg8\n",
    "        \n",
    "        return addition(multiplication(arg1,arg3),multiplication(arg2,arg4))\n",
    "    else:\n",
    "        print 'Sorry, all args have to be numbers.'\n",
    "    \n",
    "lin_comb(3,5,6,8)"
   ]
  },
  {
   "cell_type": "markdown",
   "metadata": {},
   "source": [
    "<a id='4.2.4'></a>\n",
    "### Ανώνυμες συναρτήσεις (lambda)"
   ]
  },
  {
   "cell_type": "markdown",
   "metadata": {
    "collapsed": true
   },
   "source": [
    "**Συνήθως, οι συναρτήσεις lambda(), χρησιμοποιούνται για συναρτήσεις που έχουν ένα όρισμα και καλούν μια απλή εσωτερική συνάρτηση, όπου \"απλή\" σημαίνει να εκτελείται σε μια γραμμή.** \n",
    "\n",
    "**Ακολουθούν δύο παραδείγματα:** \n",
    "\n",
    "**Στο πρώτο, πρώτα, γράφουμε την πλήρη συνάρτηση και μετά τη συντόμευσή της με μια συνάρτηση lambda(). Επιπλέον, χάρη συντομίας, δεν ελέγχουμε αν τα ορίσματα είναι αριθμητικά.**\n",
    "\n",
    "**Το δεύτερο παράδειγμα είναι η γραφή μέσω lambda της προηγούμενης συνάρτησης cap.**"
   ]
  },
  {
   "cell_type": "code",
   "execution_count": 72,
   "metadata": {
    "collapsed": false
   },
   "outputs": [
    {
     "data": {
      "text/plain": [
       "78125"
      ]
     },
     "execution_count": 72,
     "metadata": {},
     "output_type": "execute_result"
    }
   ],
   "source": [
    "# Πρώτο παράδειγμα: Μια συνάρτηση υπολογισμού δυνάμεων διωνύμων:\n",
    "\n",
    "def funct(x,n):\n",
    "    return x**n\n",
    "    \n",
    "def bincomp(x, y, n, funct):\n",
    "    def addition(x,y):\n",
    "        return x + y\n",
    "    return funct(addition(x,y),n)\n",
    "\n",
    "bincomp(2,3,7,funct)"
   ]
  },
  {
   "cell_type": "code",
   "execution_count": 73,
   "metadata": {
    "collapsed": false
   },
   "outputs": [
    {
     "data": {
      "text/plain": [
       "78125"
      ]
     },
     "execution_count": 73,
     "metadata": {},
     "output_type": "execute_result"
    }
   ],
   "source": [
    "# Μέσω συνάρτησης lambda(), δεν θα χρειαζόμασταν να ορίσουμε εξωτερικά την power:\n",
    "\n",
    "bincomp(2, 3, 7, lambda x,n: x**n)"
   ]
  },
  {
   "cell_type": "code",
   "execution_count": 74,
   "metadata": {
    "collapsed": false
   },
   "outputs": [
    {
     "data": {
      "text/plain": [
       "'Whatever'"
      ]
     },
     "execution_count": 74,
     "metadata": {},
     "output_type": "execute_result"
    }
   ],
   "source": [
    "# Δεύτερο παράδειγμα: Γραφή κεφαλαίου πρώτου γράμματος με τη συνάρτηση cap:\n",
    "\n",
    "cap(lambda arg: arg.capitalize(),'whatever')"
   ]
  },
  {
   "cell_type": "code",
   "execution_count": null,
   "metadata": {
    "collapsed": true
   },
   "outputs": [],
   "source": []
  }
 ],
 "metadata": {
  "kernelspec": {
   "display_name": "Python 2",
   "language": "python",
   "name": "python2"
  },
  "language_info": {
   "codemirror_mode": {
    "name": "ipython",
    "version": 2
   },
   "file_extension": ".py",
   "mimetype": "text/x-python",
   "name": "python",
   "nbconvert_exporter": "python",
   "pygments_lexer": "ipython2",
   "version": "2.7.11"
  }
 },
 "nbformat": 4,
 "nbformat_minor": 0
}
