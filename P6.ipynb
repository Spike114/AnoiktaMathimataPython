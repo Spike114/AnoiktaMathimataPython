{
 "cells": [
  {
   "cell_type": "markdown",
   "metadata": {},
   "source": [
    "# 6. ΓΕΝΙΚΑ ΓΙΑ ΔΟΜΕΣ ΔΕΔΟΜΕΝΩΝ"
   ]
  },
  {
   "cell_type": "markdown",
   "metadata": {},
   "source": [
    "[6.1 Λίστες](#6.1)\n",
    "\n",
    "[6.2 Πλειάδες (Tuples)](#6.2)\n",
    "\n",
    "[6.3 Λεξικά](#6.3)\n",
    "\n",
    "[6.4 Σύνολα](#6.4)\n",
    "\n",
    "[6.5 Τυχαίοι Αριθμοί](#6.5)"
   ]
  },
  {
   "cell_type": "markdown",
   "metadata": {},
   "source": [
    "<a id='6.1'></a>\n",
    "## 6.1 Λίστες"
   ]
  },
  {
   "cell_type": "markdown",
   "metadata": {
    "collapsed": true
   },
   "source": [
    "* **Λίστα** είναι ο τύπος μιας διατεταγμένης συλλογής (ή ακολουθίας) στοιχείων τέτοιας ώστε: \n",
    "* Τα στοιχεία αυτά μπορούν να είναι δεδομένα οποιουδήποτε τύπου, που **μπορούν να μεταβληθούν** (από την δράση διάφορων τελεστών).\n",
    "* Μια λίστα συμβολίζεται ως **[a, b, c, d, ...]**.\n",
    "* Η κενή λίστα είναι η **null_list = [ ]** και συνήθως χρησιμοποιείται για την κατασκευή μιας λίστας με διαδοχικές προσθήκες στοιχείων (μέσω append ή συνένωσης).\n",
    "* Το **μήκος** μιας λίστας **len(list)** είναι το πλήθος των στοιχείων της. (Προφανώς, len([ ]) = 0.)"
   ]
  },
  {
   "cell_type": "code",
   "execution_count": 33,
   "metadata": {
    "collapsed": false
   },
   "outputs": [
    {
     "data": {
      "text/plain": [
       "list"
      ]
     },
     "execution_count": 33,
     "metadata": {},
     "output_type": "execute_result"
    }
   ],
   "source": [
    "integer_list = [1, 2, 3]\n",
    "heterogeneous_list = [\"string\", 0.1, True]\n",
    "\n",
    "list_of_lists = [ integer_list, heterogeneous_list, [] ]\n",
    "list_length = len(integer_list) # equals 3 \n",
    "\n",
    "type(integer_list)"
   ]
  },
  {
   "cell_type": "markdown",
   "metadata": {
    "collapsed": true
   },
   "source": [
    "* Η συνεπτυγμένη μορφή **λίστας ακέραιων** είναι το **range(n)**"
   ]
  },
  {
   "cell_type": "code",
   "execution_count": 30,
   "metadata": {
    "collapsed": false
   },
   "outputs": [
    {
     "name": "stdout",
     "output_type": "stream",
     "text": [
      "The list range(3) is [0, 1, 2]\n",
      "The list range(1,4) is [1, 2, 3]\n",
      "The list range(0,10,2) is [0, 2, 4, 6, 8]\n",
      "The list range(1,11,3) is [1, 4, 7, 10]\n"
     ]
    }
   ],
   "source": [
    "print \"The list range(3) is\", range(3)\n",
    "print \"The list range(1,4) is\", range(1,4)\n",
    "print \"The list range(0,10,2) is\", range(0,10,2)\n",
    "print \"The list range(1,11,3) is\", range(1,11,3)"
   ]
  },
  {
   "cell_type": "markdown",
   "metadata": {},
   "source": [
    "* Η **πρόσβαση στα στοιχεία** μιας λίστας γίνεται ακριβώς **όπως για τις συμβολοσειρές**"
   ]
  },
  {
   "cell_type": "code",
   "execution_count": 18,
   "metadata": {
    "collapsed": false
   },
   "outputs": [
    {
     "name": "stdout",
     "output_type": "stream",
     "text": [
      "\n",
      "'x[-2]' is of <type 'int'>\n",
      "'x[1:8]' is of <type 'list'>\n",
      "x[2] = 2\n",
      "True\n",
      "True\n",
      "True\n",
      "True\n",
      "True\n",
      "<type 'int'>\n",
      "False\n"
     ]
    }
   ],
   "source": [
    "x = range(10)   \n",
    "zero = x[0]     \n",
    "one = x[1]      \n",
    "nine = x[-1] \n",
    "eight = x[-2]\n",
    "first_three = x[:3]               \n",
    "three_to_end = x[3:]              \n",
    "one_to_four = x[1:8] \n",
    "odds_between_one_and_seven = x[1:8:2]\n",
    "last_three = x[-3:]\n",
    "all_list = x[:]\n",
    "a_all_list = x[::]\n",
    "print\n",
    "print \"'x[-2]' is of\", type(x[-2])\n",
    "print \"'x[1:8]' is of\", type(x[1:8])\n",
    "\n",
    "# List membership control:\n",
    "print 'x[2] =', x[2]\n",
    "print 2 in x\n",
    "print 2. in x\n",
    "print 5/2 in x\n",
    "print x[2] == 2.\n",
    "print x[2] == 5/2\n",
    "print type(x[2])\n",
    "print 15 in x"
   ]
  },
  {
   "cell_type": "markdown",
   "metadata": {},
   "source": [
    "* Αλλαγές στα στοιχεία λίστας με:\n",
    " - Συνένωση δυο λιστών με **list1 + list2**\n",
    " - Προσθήκη **ενός** στοιχείου με **list.append()**\n",
    " - Επέκταση **πολλών** στοιχείων με **list.extend()**"
   ]
  },
  {
   "cell_type": "code",
   "execution_count": 51,
   "metadata": {
    "collapsed": false
   },
   "outputs": [
    {
     "name": "stdout",
     "output_type": "stream",
     "text": [
      "X = ['a', 'b', 'c']\n",
      "Y = ['d', 'e']\n",
      "X+Y = ['a', 'b', 'c', 'd', 'e']\n",
      "X.append('z') = ['a', 'b', 'c', 'z']\n",
      "X.extend(Y) = ['a', 'b', 'c', 'z', 'd', 'e']\n",
      "\"X[1] = 'B'\" makes X = ['a', 'B', 'c', 'z', 'd', 'e']\n"
     ]
    }
   ],
   "source": [
    "X = ['a', 'b', 'c']\n",
    "print 'X =', X\n",
    "Y = ['d', 'e']\n",
    "print 'Y =', Y\n",
    "X + Y\n",
    "print 'X+Y =', X+Y\n",
    "X.append('z')\n",
    "print \"X.append('z') =\", X\n",
    "X.extend(Y)\n",
    "print \"X.extend(Y) =\", X\n",
    "X[1] = 'B'\n",
    "print '''\"X[1] = 'B'\" makes X =''', X"
   ]
  },
  {
   "cell_type": "markdown",
   "metadata": {},
   "source": [
    "* Αλλαγές στα στοιχεία λίστας με:\n",
    " - Αφαίρεση μόνο **ενός στοιχείου** με **del**, **remove**, **pop** (η αρχική λίστα **μεταβάλεται**) \n",
    " - Αφαίρεση **ενός ή πολλών** στοιχείων με τεμαχισμό (slicing) **[:]** μεταξύ **δεικτών** (η αρχική λίστα μένει **αμετάβλητη**)\n",
    " - Αντικατάσταση μόνο **ενός στοιχείου** με **[ ]** (η αρχική λίστα **μεταβάλεται**)\n",
    " - Παρεμβολή μόνο **ενός στοιχείου** με **insert** (η αρχική λίστα **μεταβάλεται**)"
   ]
  },
  {
   "cell_type": "code",
   "execution_count": 77,
   "metadata": {
    "collapsed": false
   },
   "outputs": [
    {
     "name": "stdout",
     "output_type": "stream",
     "text": [
      "X = [1, 2, 3]\n",
      "'del X[1]' makes X = [1, 3]\n",
      "X = [1, 2, 3]\n",
      "'X.remove('b')' makes X = [1, 3]\n",
      "X = [1, 2, 3]\n",
      "'X.pop(1)' makes X = [1, 3]\n",
      "X = [1, 2, 3]\n",
      "'X.pop() == X.pop(-1)' makes X = [1, 2]\n",
      "X = [1, 2, 3]\n",
      "'list(X[0:1]) + [X[-1]]' makes X = [1, 3]\n",
      "X = [1, 2, 3]\n",
      "'X[1] = 222' makes X = [1, 222, 3]\n",
      "'X.insert(1,'z')' makes X = [1, 'z', 222, 3]\n",
      "\n",
      "['a', 'b']\n",
      "['a', 'b']\n",
      "True False\n",
      "['a', 'b']\n",
      "True False\n"
     ]
    }
   ],
   "source": [
    "X = range(1,4)\n",
    "print 'X =', X\n",
    "del X[1]\n",
    "print \"'del X[1]' makes X =\", X\n",
    "X = range(1,4)\n",
    "print 'X =', X\n",
    "X.remove(2)\n",
    "print \"'X.remove('b')' makes X =\", X\n",
    "X = range(1,4)\n",
    "print 'X =', X\n",
    "X.pop(1)\n",
    "print \"'X.pop(1)' makes X =\", X\n",
    "X = range(1,4)\n",
    "print 'X =', X\n",
    "X.pop()\n",
    "print \"'X.pop() == X.pop(-1)' makes X =\", X\n",
    "X = range(1,4)\n",
    "print 'X =', X\n",
    "print \"'list(X[0:1]) + [X[-1]]' makes X =\", list(X[0:1]) + [X[-1]]\n",
    "print 'X =', X\n",
    "X[1] = 222\n",
    "print \"'X[1] = 222' makes X =\", X\n",
    "X.insert(1,'z')\n",
    "print \"'X.insert(1,'z')' makes X =\", X\n",
    "print\n",
    "\n",
    "Y = []\n",
    "Y.append('a')\n",
    "Y.append('b')\n",
    "Z = Y\n",
    "print Z\n",
    "Y = []\n",
    "Y += ['a']\n",
    "Y += ['b']\n",
    "print Y\n",
    "print Y == Z, id(Y) == id(Z)\n",
    "Y = []\n",
    "Y.extend(['a','b'])\n",
    "print Y\n",
    "print Y == Z, id(Y) == id(Z)"
   ]
  },
  {
   "cell_type": "markdown",
   "metadata": {},
   "source": [
    "<a id='6.2'></a>\n",
    "## 6.2 Πλειάδες (Tuples)"
   ]
  },
  {
   "cell_type": "markdown",
   "metadata": {},
   "source": [
    "* **Πλειάδα (tuple)** είναι ο τύπος μιας διατεταγμένης συλλογής (ή ακολουθίας) στοιχείων τέτοιας ώστε: \n",
    "* Τα στοιχεία αυτά μπορούν να είναι δεδομένα οποιουδήποτε τύπου, που **ΔΕΝ μπορούν να μεταβληθούν** (από την δράση διάφορων τελεστών).\n",
    "* Μια πλειάδα συμβολίζεται ως **(a, b, c, d, ...) ή a, b, c, d, ...**.\n",
    "* Η κενή πλειάδα είναι η **null_tuple = ()** και συνήθως χρησιμοποιείται για την κατασκευή μιας λίστας με διαδοχικές προσθήκες στοιχείων (μέσω συνενώσεων μόνο).\n",
    "* Το **μήκος** μιας πλειάδας **len(tuple)** είναι το πλήθος των στοιχείων της. (Προφανώς, len(()) = 0.)"
   ]
  },
  {
   "cell_type": "code",
   "execution_count": 38,
   "metadata": {
    "collapsed": false
   },
   "outputs": [
    {
     "name": "stdout",
     "output_type": "stream",
     "text": [
      "\n",
      "x is of  <type 'tuple'>\n",
      "x[-2] is of <type 'int'>\n",
      "x[1:8] is of <type 'tuple'>\n",
      "x[2] = 2\n",
      "True\n",
      "True\n",
      "True\n",
      "True\n",
      "True\n",
      "<type 'int'>\n",
      "False\n"
     ]
    }
   ],
   "source": [
    "x = tuple(range(10))   \n",
    "zero = x[0]     \n",
    "one = x[1] \n",
    "nine = x[-1] \n",
    "eight = x[-2]\n",
    "first_three = x[:3]               \n",
    "three_to_end = x[3:]              \n",
    "one_to_four = x[1:8] \n",
    "odds_between_one_and_seven = x[1:8:2]\n",
    "last_three = x[-3:]\n",
    "all_list = x[:]\n",
    "a_all_list = x[::]\n",
    "print\n",
    "print \"x is of \", type(x)\n",
    "print \"x[-2] is of\", type(x[-2])\n",
    "print \"x[1:8] is of\", type(x[1:8])\n",
    "\n",
    "# Tuple membership control:\n",
    "print 'x[2] =', x[2]\n",
    "print 2 in x\n",
    "print 2. in x\n",
    "print 5/2 in x\n",
    "print x[2] == 2.\n",
    "print x[2] == 5/2\n",
    "print type(x[2])\n",
    "print 15 in x"
   ]
  },
  {
   "cell_type": "markdown",
   "metadata": {},
   "source": [
    "### Όσοι τελεστές δεν μεταβάλουν τα στοιχεία μιας λίστας ισχύουν και πάνω σε πλειάδες"
   ]
  },
  {
   "cell_type": "markdown",
   "metadata": {},
   "source": [
    "* Οι συνενώσεις πλειάδων και ο τεμαχισμός (slicing) δουλεύουν όπως στις λίστες\n",
    "* Τα append, extend, del, remove, pop, insert, αντικαταστάσεις στοιχείων ΔΕΝ δουλεύουν για πλειάδες!\n",
    "* Όταν θέλουμε να θεωρήσουμε μια πλειάδα με ΕΝΑ ΜΟΝΟ στοιχείο βάζουμε ',' μετά το στοιχείο"
   ]
  },
  {
   "cell_type": "code",
   "execution_count": 79,
   "metadata": {
    "collapsed": false
   },
   "outputs": [
    {
     "name": "stdout",
     "output_type": "stream",
     "text": [
      "(1, 2, 3)\n",
      "()\n",
      "(1, 2, 3)\n",
      "False\n"
     ]
    }
   ],
   "source": [
    "x = 1, 2, 3\n",
    "y = 4, 5\n",
    "x + y\n",
    "z = 4,\n",
    "w = x + z\n",
    "t = w[-1],\n",
    "w[0:2] + t\n",
    "\n",
    "nt = ()\n",
    "print nt + (1,) + (2,) + (3,)\n",
    "print nt\n",
    "nnt = nt + (1,) + (2,) + (3,)\n",
    "print nnt\n",
    "print id(nt) == id(nnt)"
   ]
  },
  {
   "cell_type": "markdown",
   "metadata": {},
   "source": [
    "<a id='6.3'></a>\n",
    "## 6.3 Λεξικά"
   ]
  },
  {
   "cell_type": "markdown",
   "metadata": {},
   "source": [
    "* **Λεξικό** είναι ο τύπος μιας διατεταγμένης συλλογής στοιχείων, τα οποία είναι δομημένα ως ζευγάρια **κλειδιών**-**τιμών**, τέτοια ώστε κάθε κλειδί να αντιστοιχεί σε μια τιμή και: \n",
    "* Τα κλειδιά πρέπει να είναι μόνο δεδομένα αμετάβλητου τύπου (όπως συμβολοσειρές, αριθμοί ή πλειάδες), αλλά οι τιμές μπορεί να είναι δεδομένα οποιουδήποτε τύπου. \n",
    "* Ένα λεξικό συμβολίζεται ως **{key_1: value_1, key_2: value_2, ...}**.\n",
    "* Το κενό λεξικό είναι το **null_dictionary = {}** ή **dict()** και συνήθως χρησιμοποιείται για την κατασκευή ενός λεξικού με διαδοχικές προσθήκες στοιχείων (μέσω dictionary[key] = value).\n",
    "* Το **μήκος** ενός λεξικού **len(dictionary)** είναι το πλήθος των στοιχείων του. (Προφανώς, len({}) = 0.)"
   ]
  },
  {
   "cell_type": "markdown",
   "metadata": {},
   "source": [
    "* **Πρόσβαση στην τιμή** ενός κλειδιού ή **αντικατάσταση της τιμής** αυτής με [ ]"
   ]
  },
  {
   "cell_type": "code",
   "execution_count": 24,
   "metadata": {
    "collapsed": false
   },
   "outputs": [
    {
     "name": "stdout",
     "output_type": "stream",
     "text": [
      "Greece\n",
      "Hellas\n",
      "{'Takis': 1.85, 'John': 1.82, 'Pierre': 1.9, 'Johan': 1.8}\n",
      "d['Pierre'] = France\n",
      "True\n",
      "False\n",
      "False\n"
     ]
    }
   ],
   "source": [
    "d = {'Takis': 'Greece', 'John': 'Canada', 'Pierre': 'France', 'Johan': 'Sweden'}\n",
    "print d['Takis']\n",
    "d['Takis'] = 'Hellas'\n",
    "print d['Takis']\n",
    "h = dict()         # Less common than h = {}\n",
    "h['Takis'] = 1.85\n",
    "h['John'] = 1.82\n",
    "h['Pierre'] = 1.90\n",
    "h['Johan'] = 1.80\n",
    "print h\n",
    "\n",
    "# List membership control:\n",
    "print \"d['Pierre'] =\", d['Pierre']\n",
    "print 'Pierre' in d\n",
    "print 'pierre' in d\n",
    "print 'France' in d"
   ]
  },
  {
   "cell_type": "markdown",
   "metadata": {},
   "source": [
    "* Πρόσβαση στη λίστα όλων των κλειδιών με **dictionary.keys()**\n",
    "* Πρόσβαση στη λίστα όλων των τιμών με **dictionary.values()**\n",
    "* Πρόσβαση στην πλειάδα όλων των κλειδιών-τιμών με **dictionary.items()**"
   ]
  },
  {
   "cell_type": "code",
   "execution_count": 153,
   "metadata": {
    "collapsed": false
   },
   "outputs": [
    {
     "name": "stdout",
     "output_type": "stream",
     "text": [
      "d is <type 'dict'>\n",
      "d.keys() = ['Takis', 'John', 'Pierre', 'Johan']\n",
      "d.keys() is <type 'list'>\n",
      "d.values() = ['Hellas', 'Canada', 'France', 'Sweden']\n",
      "d.values() = <type 'list'>\n",
      "d.items() = [('Takis', 'Hellas'), ('John', 'Canada'), ('Pierre', 'France'), ('Johan', 'Sweden')]\n",
      "d.items() is <type 'list'>\n",
      "d.items()[1] = ('John', 'Canada')\n",
      "d.items()[1] is <type 'tuple'>\n"
     ]
    }
   ],
   "source": [
    "print 'd is', type(d)\n",
    "print 'd.keys() =', d.keys()\n",
    "print 'd.keys() is', type(d.keys())\n",
    "print 'd.values() =', d.values()\n",
    "print 'd.values() =', type(d.values())\n",
    "print 'd.items() =', d.items()\n",
    "print 'd.items() is', type(d.items())\n",
    "print 'd.items()[1] =', d.items()[1]\n",
    "print 'd.items()[1] is', type(d.items()[1])"
   ]
  },
  {
   "cell_type": "markdown",
   "metadata": {},
   "source": [
    "* Παράδειγμα ενός ενσωματωμένου λεξικού: \n",
    " * **Counter**: αρίθμηση πολλαπλότητας στοιχείων μιας λίστας"
   ]
  },
  {
   "cell_type": "code",
   "execution_count": 139,
   "metadata": {
    "collapsed": false
   },
   "outputs": [
    {
     "name": "stdout",
     "output_type": "stream",
     "text": [
      "Counter({'a': 2, 'c': 1, 'b': 1})\n",
      "<class 'collections.Counter'>\n",
      "['a', 'c', 'b']\n",
      "[2, 1, 1]\n",
      "[('a', 2), ('c', 1), ('b', 1)]\n"
     ]
    }
   ],
   "source": [
    "from collections import Counter\n",
    "c = Counter(['a','b','a','c'])\n",
    "print c\n",
    "print type(c)\n",
    "print c.keys()\n",
    "print c.values()\n",
    "print c.items()"
   ]
  },
  {
   "cell_type": "markdown",
   "metadata": {
    "collapsed": true
   },
   "source": [
    "<a id='6.4'></a>\n",
    "## 6.4 Σύνολα"
   ]
  },
  {
   "cell_type": "markdown",
   "metadata": {},
   "source": [
    "* **Σύνολο** είναι ο τύπος μιας **ΜΗ διατεταγμένης** συλλογής (ή ακολουθίας) **διακριτών** στοιχείων τέτοιας ώστε: \n",
    "* Τα στοιχεία αυτά μπορούν να είναι δεδομένα οποιουδήποτε τύπου, που **μπορούν να μεταβληθούν** (από την δράση διάφορων τελεστών).\n",
    "* Ένα σύνολο συμβολίζεται ως **set([a, b, c, d, ...])**.\n",
    "* Το κενό σύνολο είναι η **null_set = set()** και συνήθως χρησιμοποιείται για την κατασκευή ενός λεξικού με διαδοχικές προσθήκες στοιχείων (μέσω add ή update).\n",
    "* Το **μήκος** ενός συνόλου **len(list)** είναι το πλήθος των στοιχείων του. (Προφανώς, len(set() = 0.)"
   ]
  },
  {
   "cell_type": "markdown",
   "metadata": {},
   "source": [
    "### Τα σύνολα ΔΕΝ υποστηρίζουν δείκτες (πρόσβαση στα στοιχεία τους με [ ])!"
   ]
  },
  {
   "cell_type": "code",
   "execution_count": 98,
   "metadata": {
    "collapsed": false
   },
   "outputs": [
    {
     "name": "stdout",
     "output_type": "stream",
     "text": [
      "set([1, 2, 3])\n"
     ]
    },
    {
     "ename": "TypeError",
     "evalue": "'set' object does not support indexing",
     "output_type": "error",
     "traceback": [
      "\u001b[0;31m---------------------------------------------------------------------------\u001b[0m",
      "\u001b[0;31mTypeError\u001b[0m                                 Traceback (most recent call last)",
      "\u001b[0;32m<ipython-input-98-7c8aa96b1953>\u001b[0m in \u001b[0;36m<module>\u001b[0;34m()\u001b[0m\n\u001b[1;32m      2\u001b[0m \u001b[0;32mprint\u001b[0m \u001b[0maset\u001b[0m\u001b[0;34m\u001b[0m\u001b[0m\n\u001b[1;32m      3\u001b[0m \u001b[0;34m\u001b[0m\u001b[0m\n\u001b[0;32m----> 4\u001b[0;31m \u001b[0;32mprint\u001b[0m \u001b[0maset\u001b[0m\u001b[0;34m[\u001b[0m\u001b[0;36m1\u001b[0m\u001b[0;34m]\u001b[0m\u001b[0;34m\u001b[0m\u001b[0m\n\u001b[0m",
      "\u001b[0;31mTypeError\u001b[0m: 'set' object does not support indexing"
     ]
    }
   ],
   "source": [
    "aset = set(range(1,4))\n",
    "print aset\n",
    "\n",
    "print aset[1]"
   ]
  },
  {
   "cell_type": "markdown",
   "metadata": {},
   "source": [
    "### Η πρόσβαση στα στοιχεία συνόλου γίνεται μέσω της αντίστοιχης λίστας"
   ]
  },
  {
   "cell_type": "code",
   "execution_count": 99,
   "metadata": {
    "collapsed": false
   },
   "outputs": [
    {
     "name": "stdout",
     "output_type": "stream",
     "text": [
      "[1, 2, 3]\n",
      "2\n"
     ]
    }
   ],
   "source": [
    "laset = list(aset)\n",
    "print laset\n",
    "print laset[1]"
   ]
  },
  {
   "cell_type": "markdown",
   "metadata": {},
   "source": [
    "* Αλλαγές στα στοιχεία συνόλου με:\n",
    " - Προσθήκη **ενός** στοιχείου με **set.add**\n",
    " - Προσθήκη **πολλών** στοιχείων με **set.update**\n",
    " - Αφαίρεση στοιχείων με **set.discard**, **set.remove** και **set.clear**"
   ]
  },
  {
   "cell_type": "code",
   "execution_count": 92,
   "metadata": {
    "collapsed": false
   },
   "outputs": [
    {
     "name": "stdout",
     "output_type": "stream",
     "text": [
      "set([1])\n",
      "set([1])\n",
      "set([1, 2, 3, 4])\n",
      "set([1, 2, 3, 4])\n",
      "True\n",
      "\n",
      "set([1, 2, 4])\n",
      "set([1, 2, 4])\n",
      "True\n",
      "\n",
      "True\n",
      "\n",
      "set([1, 2, 4])\n"
     ]
    },
    {
     "ename": "KeyError",
     "evalue": "3",
     "output_type": "error",
     "traceback": [
      "\u001b[0;31m---------------------------------------------------------------------------\u001b[0m",
      "\u001b[0;31mKeyError\u001b[0m                                  Traceback (most recent call last)",
      "\u001b[0;32m<ipython-input-92-f95d6485b04f>\u001b[0m in \u001b[0;36m<module>\u001b[0;34m()\u001b[0m\n\u001b[1;32m     30\u001b[0m \u001b[0mns\u001b[0m\u001b[0;34m.\u001b[0m\u001b[0mdiscard\u001b[0m\u001b[0;34m(\u001b[0m\u001b[0;36m3\u001b[0m\u001b[0;34m)\u001b[0m\u001b[0;34m\u001b[0m\u001b[0m\n\u001b[1;32m     31\u001b[0m \u001b[0;32mprint\u001b[0m \u001b[0mns\u001b[0m\u001b[0;34m\u001b[0m\u001b[0m\n\u001b[0;32m---> 32\u001b[0;31m \u001b[0mns\u001b[0m\u001b[0;34m.\u001b[0m\u001b[0mremove\u001b[0m\u001b[0;34m(\u001b[0m\u001b[0;36m3\u001b[0m\u001b[0;34m)\u001b[0m\u001b[0;34m\u001b[0m\u001b[0m\n\u001b[0m",
      "\u001b[0;31mKeyError\u001b[0m: 3"
     ]
    }
   ],
   "source": [
    "ns = set()\n",
    "ns.add(1)\n",
    "print ns\n",
    "ns.add(1.)\n",
    "print ns\n",
    "ns.add(2)\n",
    "ns.add(3)\n",
    "ns.add(4)\n",
    "ms = ns\n",
    "print ms\n",
    "ns = set()\n",
    "ns.update([1,2])\n",
    "ns.update([3,4])\n",
    "print ns\n",
    "print ms == ns\n",
    "print\n",
    "\n",
    "ns.discard(3)\n",
    "print ns\n",
    "ms.remove(3)\n",
    "print ms\n",
    "print ns == ms\n",
    "print\n",
    "\n",
    "ns.clear()\n",
    "print ns == set()\n",
    "print\n",
    "\n",
    "ns = set([1, 2, 4])\n",
    "ns.discard(3)\n",
    "print ns\n",
    "ns.remove(3)"
   ]
  },
  {
   "cell_type": "markdown",
   "metadata": {},
   "source": [
    "<a id='6.5'></a>\n",
    "## 6.5 Τυχαίοι Αριθμοί"
   ]
  },
  {
   "cell_type": "markdown",
   "metadata": {},
   "source": [
    "Η επιλογή τυχαίων αριθμών γίνεται με την βιβλιοθήκη **random** (**import random**)\n",
    "\n",
    "* **random.random()**: επιλέγει (ομοιόμορφα) τυχαία έναν πραγματικό αριθμό στο διάστημα (0,1)\n",
    "* **random.randrange(n)**: επιλέγει (ομοιόμορφα) τυχαία έναν ακέραιο στο διάστημα (0,n-1)\n",
    "* **random.randrange(k,n)**: επιλέγει (ομοιόμορφα) τυχαία έναν ακέραιο στο διάστημα (k,n-1)\n",
    "* **random.shuffle(list)**: αναδιατάσσει τυχαία τα στοιχεία μιας λίστας\n",
    "* **random.choice(list)**: επιλέγει τυχαία ένα από τα στοιχεία της λίστας\n",
    "* **random.sample(list,k)**: επιλέγει τυχαία ένα δείγμα k διαφορετικών στοιχείων μιας λίστας (χωρίς επανατοποθέτηση)"
   ]
  },
  {
   "cell_type": "code",
   "execution_count": 117,
   "metadata": {
    "collapsed": false
   },
   "outputs": [
    {
     "name": "stdout",
     "output_type": "stream",
     "text": [
      "0.896029864801\n",
      "6\n",
      "145\n",
      "[1, 6, 4, 9, 0, 3, 7, 8, 5, 2]\n",
      "d\n",
      "['c', 'd', 'e']\n",
      "['b', 'e', 'b']\n"
     ]
    }
   ],
   "source": [
    "import random\n",
    "\n",
    "print random.random()\n",
    "print random.randrange(10)\n",
    "print random.randrange(100,200)\n",
    "l10 = range(10)\n",
    "random.shuffle(l10)\n",
    "print l10\n",
    "print random.choice(['a','b','c','d','e'])\n",
    "print random.sample(['a','b','c','d','e'],3)\n",
    "\n",
    "ll = []\n",
    "for _ in range(3):\n",
    "    ll.append(random.choice(['a','b','c','d','e']))\n",
    "print ll\n"
   ]
  },
  {
   "cell_type": "code",
   "execution_count": null,
   "metadata": {
    "collapsed": true
   },
   "outputs": [],
   "source": []
  }
 ],
 "metadata": {
  "kernelspec": {
   "display_name": "Python 2",
   "language": "python",
   "name": "python2"
  },
  "language_info": {
   "codemirror_mode": {
    "name": "ipython",
    "version": 2
   },
   "file_extension": ".py",
   "mimetype": "text/x-python",
   "name": "python",
   "nbconvert_exporter": "python",
   "pygments_lexer": "ipython2",
   "version": "2.7.10"
  }
 },
 "nbformat": 4,
 "nbformat_minor": 0
}
