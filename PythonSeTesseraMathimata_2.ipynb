{
 "cells": [
  {
   "cell_type": "markdown",
   "metadata": {},
   "source": [
    "# PYTHON ΣΕ ΤΕΣΣΕΡΑ ΜΑΘΗΜΑΤΑ"
   ]
  },
  {
   "cell_type": "markdown",
   "metadata": {},
   "source": [
    "# ΜΑΘΗΜΑ 2: Λίστες και Σύνολα"
   ]
  },
  {
   "cell_type": "markdown",
   "metadata": {},
   "source": [
    "[2.1 Λίστες](#2.1)\n",
    "* [Θέσεις/δείκτες](#2.1.1)\n",
    "* [Έλεγχοι διάταξης και συμμετοχής](#2.1.2)\n",
    "* [range](#2.1.3)\n",
    "* [append](#2.1.4)\n",
    "* [Προσθέσεις, επαναλήψεις](#2.1.5)\n",
    "* [insert](#2.1.6)\n",
    "* [remove](#2.1.7)\n",
    "* [pop](#2.1.8)\n",
    "* [del](#2.1.9)\n",
    "* [Τεμαχισμοί](#2.1.10)\n",
    "* [sort, sorted](#2.1.11)\n",
    "* [Μετατροπές λιστών-συμβολοσειρών](#2.1.12)\n",
    "\n",
    "[2.2 Σύνολα](#2.2)\n",
    "* [Μετατροπές λιστών-συνόλων](#2.2.1)\n",
    "* [add](#2.2.2)\n",
    "* [update](#2.2.3)\n",
    "* [remove](#2.2.4)\n",
    "* [discard](#2.2.5)\n",
    "* [pop](#2.2.6)\n",
    "* [clear](#2.2.7)\n",
    "* [Ένωση](#2.2.8)\n",
    "* [Τομή](#2.2.9)\n",
    "* [Διαφορά](#2.2.10)\n",
    "* [Συμμετρική διαφορά](#2.2.11)"
   ]
  },
  {
   "cell_type": "markdown",
   "metadata": {},
   "source": [
    "<a id='2.1'></a>\n",
    "## 2.1 Λίστες"
   ]
  },
  {
   "cell_type": "markdown",
   "metadata": {},
   "source": [
    "### Λίστα = 'συλλογή' στοιχείων/αντικειμένων, που  είναι:\n",
    "* **Διατεταγμένη** (τα στοιχεία της λίστας έχουν μια συγκεκριμένη σειρά, κρατούν θέσεις/δείκτες)\n",
    "* **Μεταβλητή** (τα στοιχεία της λίστας μπορούν να αλλάξουν: να προστεθούν, να αφαιρεθούν ή να αντικατασταθούν)\n",
    "\n",
    "Επιπλέον, τα στοιχεία μιας λίστας μπορούν να είναι:\n",
    "* **Πολλαπλά** (δηλαδή, το ίδιο στοιχείο μπορεί να επαναλαμβάνεται μέσα σε μια λίστα)\n",
    "* **Δεδομένα διάφορων τύπων**:\n",
    "    - αριθμοί - ακέραιοι ή πραγματικοί \n",
    "    - συμβολοσειρές\n",
    "    - μεταβλητές\n",
    "    - λίστες (σύνολα, λεξικά, πλειάδες)\n",
    "    \n",
    "### Μια λίστα γράφεται ως list = [element1, element2, ..., elementn]\n",
    "* **Άδεια λίστα**: **empty_list = [ ]** ή **empty_list = list()**\n",
    "* **Μήκος λίστας**: **len(list)** = το πλήθος των στοιχείων της λίστας list"
   ]
  },
  {
   "cell_type": "code",
   "execution_count": 1,
   "metadata": {
    "collapsed": false
   },
   "outputs": [
    {
     "data": {
      "text/plain": [
       "[1, 'abc xyz', 2.3, [1, 2.3, 2.25], 2.25, 'Athens']"
      ]
     },
     "execution_count": 1,
     "metadata": {},
     "output_type": "execute_result"
    }
   ],
   "source": [
    "listA = [1, 2.3, 4.5/2]\n",
    "city = 'Athens'\n",
    "listB = [1, 'abc xyz', 2.3, listA, 4.5/2, city]\n",
    "listB"
   ]
  },
  {
   "cell_type": "code",
   "execution_count": 2,
   "metadata": {
    "collapsed": false
   },
   "outputs": [
    {
     "name": "stdout",
     "output_type": "stream",
     "text": [
      "[1, 2.3, 2.25] [1, 'abc xyz', 2.3, [1, 2.3, 2.25], 2.25, 'Athens'] <type 'list'> <type 'list'>\n"
     ]
    }
   ],
   "source": [
    "print listA, listB, type(listA), type(listB)"
   ]
  },
  {
   "cell_type": "markdown",
   "metadata": {},
   "source": [
    "<a id='2.1.1'></a>\n",
    "### Πρόσβαση (ταυτοποίηση) στα στοιχεία μιας λίστας με τις θέσεις/δείκτες τους με list[index]"
   ]
  },
  {
   "cell_type": "code",
   "execution_count": 3,
   "metadata": {
    "collapsed": false
   },
   "outputs": [
    {
     "name": "stdout",
     "output_type": "stream",
     "text": [
      "2.25 Athens 1.0 3 6 <type 'list'> 3\n"
     ]
    }
   ],
   "source": [
    "print listA[2], listB[-1], float(listA[0]), len(listA), len(listB), type(listB[3]), len(listB[3])"
   ]
  },
  {
   "cell_type": "markdown",
   "metadata": {},
   "source": [
    "### Εύρεση της πρώτης θέσης/δείκτη που κατέχει ένα στοιχείο μιας λίστας με το index"
   ]
  },
  {
   "cell_type": "code",
   "execution_count": 4,
   "metadata": {
    "collapsed": false
   },
   "outputs": [
    {
     "name": "stdout",
     "output_type": "stream",
     "text": [
      "1 4\n"
     ]
    }
   ],
   "source": [
    "x = [1,3,2,3,5,3,1,5]\n",
    "print x.index(3), x.index(5)"
   ]
  },
  {
   "cell_type": "markdown",
   "metadata": {},
   "source": [
    "### Εύρεση ΟΛΩΝ των θέσεων/δεικτών που κατέχει ένα στοιχείο μιας λίστας με το enumerate και ενός αναδρομικού βρόχου"
   ]
  },
  {
   "cell_type": "code",
   "execution_count": 5,
   "metadata": {
    "collapsed": false
   },
   "outputs": [
    {
     "name": "stdout",
     "output_type": "stream",
     "text": [
      "[(0, 1), (1, 3), (2, 2), (3, 3), (4, 5), (5, 3), (6, 1), (7, 5)]\n",
      "1\n",
      "3\n",
      "5\n"
     ]
    }
   ],
   "source": [
    "print list(enumerate(x)) # Epistrefei mia lista apo zevgaria (a,b) - legontai pleiades/tuples, \n",
    "                         # opws tha doume sti synexeia, opou to a dinei tin thesi/deikti \n",
    "                         # tou stoixeiou b (ta stoixeia paratithentai sti seira tis listas)\n",
    "\n",
    "# Gia na broume OLES tis theseis/deiktes tou stoixeiou 3, ekteloume ton eksis broxo:\n",
    "for index, element in enumerate(x):\n",
    "    if element == 3:\n",
    "        print index"
   ]
  },
  {
   "cell_type": "code",
   "execution_count": 6,
   "metadata": {
    "collapsed": false
   },
   "outputs": [
    {
     "name": "stdout",
     "output_type": "stream",
     "text": [
      "[1, 3, 5]\n"
     ]
    }
   ],
   "source": [
    "# Gia na paroume mia lista olwn twn thesewν/deiktwn tou stoixeiou 3:\n",
    "ind_3 = []\n",
    "for index, element in enumerate(x):\n",
    "    if element == 3:\n",
    "        ind_3.append(index)\n",
    "print ind_3"
   ]
  },
  {
   "cell_type": "markdown",
   "metadata": {},
   "source": [
    "<a id='2.1.2'></a>\n",
    "### Έλεγχος διάταξης λίστας"
   ]
  },
  {
   "cell_type": "code",
   "execution_count": 7,
   "metadata": {
    "collapsed": false
   },
   "outputs": [
    {
     "data": {
      "text/plain": [
       "False"
      ]
     },
     "execution_count": 7,
     "metadata": {},
     "output_type": "execute_result"
    }
   ],
   "source": [
    "list1 = [1,2,3]\n",
    "list2 = [1,3,2]\n",
    "list1 == list2 "
   ]
  },
  {
   "cell_type": "markdown",
   "metadata": {},
   "source": [
    "### Έλεγχος συμμετοχής-membership (αν κάποιο στοιχείο ανήκει ή όχι σε μια λίστα) με το in"
   ]
  },
  {
   "cell_type": "code",
   "execution_count": 8,
   "metadata": {
    "collapsed": false
   },
   "outputs": [
    {
     "data": {
      "text/plain": [
       "True"
      ]
     },
     "execution_count": 8,
     "metadata": {},
     "output_type": "execute_result"
    }
   ],
   "source": [
    "list=range(1,4)\n",
    "2 in list"
   ]
  },
  {
   "cell_type": "code",
   "execution_count": 9,
   "metadata": {
    "collapsed": false
   },
   "outputs": [
    {
     "data": {
      "text/plain": [
       "False"
      ]
     },
     "execution_count": 9,
     "metadata": {},
     "output_type": "execute_result"
    }
   ],
   "source": [
    "20 in list"
   ]
  },
  {
   "cell_type": "markdown",
   "metadata": {},
   "source": [
    "<a id='2.1.3'></a>\n",
    "### Αριθμητικές λίστες με το range"
   ]
  },
  {
   "cell_type": "code",
   "execution_count": 10,
   "metadata": {
    "collapsed": false
   },
   "outputs": [
    {
     "data": {
      "text/plain": [
       "[0, 1, 2, 3, 4, 5, 6, 7, 8, 9]"
      ]
     },
     "execution_count": 10,
     "metadata": {},
     "output_type": "execute_result"
    }
   ],
   "source": [
    "n = range(10) #kataskevazei tin lista twn akeraiwn apo 0 ws 9 = 10-1\n",
    "n"
   ]
  },
  {
   "cell_type": "code",
   "execution_count": 11,
   "metadata": {
    "collapsed": false
   },
   "outputs": [
    {
     "data": {
      "text/plain": [
       "[1, 2, 3, 4, 5, 6, 7, 8, 9, 10]"
      ]
     },
     "execution_count": 11,
     "metadata": {},
     "output_type": "execute_result"
    }
   ],
   "source": [
    "n1 = range(1,11)\n",
    "n1"
   ]
  },
  {
   "cell_type": "code",
   "execution_count": 12,
   "metadata": {
    "collapsed": false
   },
   "outputs": [
    {
     "data": {
      "text/plain": [
       "[1, 3, 5, 7, 9]"
      ]
     },
     "execution_count": 12,
     "metadata": {},
     "output_type": "execute_result"
    }
   ],
   "source": [
    "n3 = range(1,11,2)\n",
    "n3"
   ]
  },
  {
   "cell_type": "markdown",
   "metadata": {},
   "source": [
    "<a id='2.1.4'></a>\n",
    "### Προσθήκη (στο τέλος) ενός στοιχείου σε μια λίστα με το append"
   ]
  },
  {
   "cell_type": "code",
   "execution_count": 13,
   "metadata": {
    "collapsed": false
   },
   "outputs": [
    {
     "data": {
      "text/plain": [
       "[1, 2, 3, 4]"
      ]
     },
     "execution_count": 13,
     "metadata": {},
     "output_type": "execute_result"
    }
   ],
   "source": [
    "list1.append(4)\n",
    "list1"
   ]
  },
  {
   "cell_type": "code",
   "execution_count": 14,
   "metadata": {
    "collapsed": false
   },
   "outputs": [
    {
     "data": {
      "text/plain": [
       "[1, 2, 3, 4, [1, 3, 2]]"
      ]
     },
     "execution_count": 14,
     "metadata": {},
     "output_type": "execute_result"
    }
   ],
   "source": [
    "list1.append(list2)\n",
    "list1"
   ]
  },
  {
   "cell_type": "code",
   "execution_count": 15,
   "metadata": {
    "collapsed": false
   },
   "outputs": [
    {
     "data": {
      "text/plain": [
       "[1, 2, 3, 4, [1, 3, 2], 'Hello World!']"
      ]
     },
     "execution_count": 15,
     "metadata": {},
     "output_type": "execute_result"
    }
   ],
   "source": [
    "list1.append(\"Hello World!\")\n",
    "list1"
   ]
  },
  {
   "cell_type": "markdown",
   "metadata": {},
   "source": [
    "**ΠΡΟΣΟΧΗ! Κάθε φορά το append αλλάζει (προσθέτει) τη λίστα!**\n",
    "\n",
    "**Αν θέλουμε να κάνουμε αλλαγές κρατώντας την αρχική λίστα αναλλοίωτη, προχωράμε ως εξής:**"
   ]
  },
  {
   "cell_type": "code",
   "execution_count": 16,
   "metadata": {
    "collapsed": false
   },
   "outputs": [
    {
     "data": {
      "text/plain": [
       "True"
      ]
     },
     "execution_count": 16,
     "metadata": {},
     "output_type": "execute_result"
    }
   ],
   "source": [
    "originalList = ['a','b','c']\n",
    "# copiedList = list(originalList)\n",
    "copiedList = originalList[:]\n",
    "originalList == copiedList"
   ]
  },
  {
   "cell_type": "code",
   "execution_count": 17,
   "metadata": {
    "collapsed": false
   },
   "outputs": [
    {
     "name": "stdout",
     "output_type": "stream",
     "text": [
      "['a', 'b', 'c', 'd'] ['a', 'b', 'c']\n"
     ]
    }
   ],
   "source": [
    "copiedList.append('d')\n",
    "print copiedList, originalList"
   ]
  },
  {
   "cell_type": "markdown",
   "metadata": {},
   "source": [
    "#### Προσθήκη (στο τέλος) περισσοτέρων του ενός στοιχείων σε μια λίστα με το extend"
   ]
  },
  {
   "cell_type": "code",
   "execution_count": 18,
   "metadata": {
    "collapsed": false
   },
   "outputs": [
    {
     "data": {
      "text/plain": [
       "[1, 'b', 4.3478260869565215, 'Patra', 32768, [8, 9, 10]]"
      ]
     },
     "execution_count": 18,
     "metadata": {},
     "output_type": "execute_result"
    }
   ],
   "source": [
    "listX = [1, 'b', 100/23.]\n",
    "listX.extend(['Patra',2**15,[8,9,10]])\n",
    "listX"
   ]
  },
  {
   "cell_type": "markdown",
   "metadata": {},
   "source": [
    "<a id='2.1.5'></a>\n",
    "### Πρόσθεση/συνένωση (concatenation) δυο λιστών"
   ]
  },
  {
   "cell_type": "code",
   "execution_count": 19,
   "metadata": {
    "collapsed": false
   },
   "outputs": [
    {
     "name": "stdout",
     "output_type": "stream",
     "text": [
      "[0, 1, 2, 3, 4, 5, 6, 7, 8, 9, 10, 11, 12, 13, 14, 15, 16, 17, 18, 19, 20]\n"
     ]
    },
    {
     "data": {
      "text/plain": [
       "[10, 11, 12, 13, 14, 15, 16, 17, 18, 19, 20, 0, 1, 2, 3, 4, 5, 6, 7, 8, 9]"
      ]
     },
     "execution_count": 19,
     "metadata": {},
     "output_type": "execute_result"
    }
   ],
   "source": [
    "ll = range(10)\n",
    "mm = range(10,21)\n",
    "print ll + mm\n",
    "mm + ll"
   ]
  },
  {
   "cell_type": "markdown",
   "metadata": {},
   "source": [
    "### Επανάληψη (πολλαπλασιασμός) των ίδιων στοιχείων μιας λίστας κάποιες φορές "
   ]
  },
  {
   "cell_type": "code",
   "execution_count": 20,
   "metadata": {
    "collapsed": false
   },
   "outputs": [
    {
     "data": {
      "text/plain": [
       "[0, 1, 2, 3, 0, 1, 2, 3, 0, 1, 2, 3, 0, 1, 2, 3]"
      ]
     },
     "execution_count": 20,
     "metadata": {},
     "output_type": "execute_result"
    }
   ],
   "source": [
    "nn = range(4)\n",
    "nn*4"
   ]
  },
  {
   "cell_type": "markdown",
   "metadata": {},
   "source": [
    "<a id='2.1.6'></a>\n",
    "### Παρεμβολή (στο τέλος) ενός στοιχείου σε συγκεκριμένη θέση/δείκτη μιας λίστας με το insert(index, element)"
   ]
  },
  {
   "cell_type": "code",
   "execution_count": 21,
   "metadata": {
    "collapsed": false
   },
   "outputs": [
    {
     "data": {
      "text/plain": [
       "[1, 'b', 4.3478260869565215, 'Patra', 'inserted here', 32768, [8, 9, 10]]"
      ]
     },
     "execution_count": 21,
     "metadata": {},
     "output_type": "execute_result"
    }
   ],
   "source": [
    "listX.insert(4, 'inserted here')\n",
    "listX"
   ]
  },
  {
   "cell_type": "markdown",
   "metadata": {},
   "source": [
    "#### Παρεμβολές πολλών στοιχείων μέσα σε μια λίστα: διαδοχικά (αναδρομικά)"
   ]
  },
  {
   "cell_type": "code",
   "execution_count": 22,
   "metadata": {
    "collapsed": false
   },
   "outputs": [
    {
     "data": {
      "text/plain": [
       "[9, 5, 'A', 11, 'B', 7, 3, 'C']"
      ]
     },
     "execution_count": 22,
     "metadata": {},
     "output_type": "execute_result"
    }
   ],
   "source": [
    "a = [9,5,11,7,3]\n",
    "# Theloume na parembaloume:\n",
    "# to 'A' meta to 5\n",
    "# to 'B' meta to 11\n",
    "# to 'C' sto telos\n",
    "a.insert(2,'A')\n",
    "a.insert(4,'B')\n",
    "a.append('C')\n",
    "a"
   ]
  },
  {
   "cell_type": "code",
   "execution_count": 23,
   "metadata": {
    "collapsed": false
   },
   "outputs": [
    {
     "data": {
      "text/plain": [
       "[9, 5, 'A', 11, 'B', 7, 3, 'C']"
      ]
     },
     "execution_count": 23,
     "metadata": {},
     "output_type": "execute_result"
    }
   ],
   "source": [
    "a = [9,5,11,7,3]\n",
    "a.append('C')\n",
    "a.insert(3,'B')\n",
    "a.insert(2,'A')\n",
    "a"
   ]
  },
  {
   "cell_type": "markdown",
   "metadata": {},
   "source": [
    "<a id='2.1.7'></a>\n",
    "### Αφαίρεση ενός στοιχείου μιας λίστας με το remove(element)"
   ]
  },
  {
   "cell_type": "code",
   "execution_count": 24,
   "metadata": {
    "collapsed": false
   },
   "outputs": [
    {
     "data": {
      "text/plain": [
       "[9, 5, 11, 7, 3]"
      ]
     },
     "execution_count": 24,
     "metadata": {},
     "output_type": "execute_result"
    }
   ],
   "source": [
    "a.remove('C')\n",
    "a.remove('A')\n",
    "a.remove('B')\n",
    "a"
   ]
  },
  {
   "cell_type": "markdown",
   "metadata": {},
   "source": [
    "<a id='2.1.8'></a>\n",
    "### Αφαίρεση ενός στοιχείου μιας λίστας με το pop"
   ]
  },
  {
   "cell_type": "markdown",
   "metadata": {},
   "source": [
    "#### Αφαίρεση του τελευταίου στοιχείου μιας λίστας με το pop()"
   ]
  },
  {
   "cell_type": "code",
   "execution_count": 25,
   "metadata": {
    "collapsed": false
   },
   "outputs": [
    {
     "data": {
      "text/plain": [
       "3"
      ]
     },
     "execution_count": 25,
     "metadata": {},
     "output_type": "execute_result"
    }
   ],
   "source": [
    "a.pop()"
   ]
  },
  {
   "cell_type": "code",
   "execution_count": 26,
   "metadata": {
    "collapsed": false
   },
   "outputs": [
    {
     "data": {
      "text/plain": [
       "[9, 5, 11, 7]"
      ]
     },
     "execution_count": 26,
     "metadata": {},
     "output_type": "execute_result"
    }
   ],
   "source": [
    "a"
   ]
  },
  {
   "cell_type": "markdown",
   "metadata": {},
   "source": [
    "#### Αφαίρεση του στοιχείου στη θέση/δείκτη i  με το pop(i)"
   ]
  },
  {
   "cell_type": "code",
   "execution_count": 27,
   "metadata": {
    "collapsed": false
   },
   "outputs": [
    {
     "data": {
      "text/plain": [
       "11"
      ]
     },
     "execution_count": 27,
     "metadata": {},
     "output_type": "execute_result"
    }
   ],
   "source": [
    "a.pop(2)"
   ]
  },
  {
   "cell_type": "code",
   "execution_count": 28,
   "metadata": {
    "collapsed": false
   },
   "outputs": [
    {
     "data": {
      "text/plain": [
       "[9, 5, 7]"
      ]
     },
     "execution_count": 28,
     "metadata": {},
     "output_type": "execute_result"
    }
   ],
   "source": [
    "a"
   ]
  },
  {
   "cell_type": "markdown",
   "metadata": {},
   "source": [
    "<a id='2.1.9'></a>\n",
    "### Αφαίρεση ενός στοιχείου μιας λίστας με το del"
   ]
  },
  {
   "cell_type": "code",
   "execution_count": 29,
   "metadata": {
    "collapsed": true
   },
   "outputs": [],
   "source": [
    "a = [9, 5, 11, 7, 3]\n",
    "del a[2]"
   ]
  },
  {
   "cell_type": "code",
   "execution_count": 30,
   "metadata": {
    "collapsed": false
   },
   "outputs": [
    {
     "data": {
      "text/plain": [
       "[9, 5, 7, 3]"
      ]
     },
     "execution_count": 30,
     "metadata": {},
     "output_type": "execute_result"
    }
   ],
   "source": [
    "a"
   ]
  },
  {
   "cell_type": "code",
   "execution_count": 31,
   "metadata": {
    "collapsed": true
   },
   "outputs": [],
   "source": [
    "del a[-2]"
   ]
  },
  {
   "cell_type": "code",
   "execution_count": 32,
   "metadata": {
    "collapsed": false
   },
   "outputs": [
    {
     "data": {
      "text/plain": [
       "[9, 5, 3]"
      ]
     },
     "execution_count": 32,
     "metadata": {},
     "output_type": "execute_result"
    }
   ],
   "source": [
    "a"
   ]
  },
  {
   "cell_type": "markdown",
   "metadata": {},
   "source": [
    "#### Ενώ το pop επιστρέφει το αφαιρούμενο στοιχείο, το del δεν το επιστρέφει"
   ]
  },
  {
   "cell_type": "markdown",
   "metadata": {},
   "source": [
    "<a id='2.1.10'></a>\n",
    "### Τεμαχισμοί (Slicing) λίστας"
   ]
  },
  {
   "cell_type": "code",
   "execution_count": 33,
   "metadata": {
    "collapsed": false
   },
   "outputs": [],
   "source": [
    "weekDays = ['Mo','Tu','We','Th','Fr','Sa','Su']"
   ]
  },
  {
   "cell_type": "code",
   "execution_count": 34,
   "metadata": {
    "collapsed": false
   },
   "outputs": [
    {
     "name": "stdout",
     "output_type": "stream",
     "text": [
      "The fourth day of the week is Th\n"
     ]
    }
   ],
   "source": [
    "print 'The fourth day of the week is', weekDays[3]"
   ]
  },
  {
   "cell_type": "code",
   "execution_count": 35,
   "metadata": {
    "collapsed": false
   },
   "outputs": [
    {
     "data": {
      "text/plain": [
       "['We', 'Th', 'Fr']"
      ]
     },
     "execution_count": 35,
     "metadata": {},
     "output_type": "execute_result"
    }
   ],
   "source": [
    "weekDays[2:5]"
   ]
  },
  {
   "cell_type": "code",
   "execution_count": 36,
   "metadata": {
    "collapsed": false
   },
   "outputs": [
    {
     "data": {
      "text/plain": [
       "['We', 'Th', 'Fr', 'Sa', 'Su']"
      ]
     },
     "execution_count": 36,
     "metadata": {},
     "output_type": "execute_result"
    }
   ],
   "source": [
    "weekDays[2:]"
   ]
  },
  {
   "cell_type": "code",
   "execution_count": 37,
   "metadata": {
    "collapsed": false
   },
   "outputs": [
    {
     "data": {
      "text/plain": [
       "['Mo', 'Tu', 'We', 'Th', 'Fr']"
      ]
     },
     "execution_count": 37,
     "metadata": {},
     "output_type": "execute_result"
    }
   ],
   "source": [
    "weekDays[:5]"
   ]
  },
  {
   "cell_type": "code",
   "execution_count": 38,
   "metadata": {
    "collapsed": false
   },
   "outputs": [
    {
     "data": {
      "text/plain": [
       "['Mo', 'Tu', 'We', 'Th', 'Fr', 'Sa', 'Su']"
      ]
     },
     "execution_count": 38,
     "metadata": {},
     "output_type": "execute_result"
    }
   ],
   "source": [
    "weekDays[:]"
   ]
  },
  {
   "cell_type": "code",
   "execution_count": 39,
   "metadata": {
    "collapsed": false
   },
   "outputs": [
    {
     "data": {
      "text/plain": [
       "['We', 'Fr']"
      ]
     },
     "execution_count": 39,
     "metadata": {},
     "output_type": "execute_result"
    }
   ],
   "source": [
    "weekDays[2:-1:2]"
   ]
  },
  {
   "cell_type": "code",
   "execution_count": 40,
   "metadata": {
    "collapsed": true
   },
   "outputs": [],
   "source": [
    "aa = range(1,31)"
   ]
  },
  {
   "cell_type": "code",
   "execution_count": 41,
   "metadata": {
    "collapsed": false
   },
   "outputs": [
    {
     "data": {
      "text/plain": [
       "[5, 10, 15, 20, 25, 30]"
      ]
     },
     "execution_count": 41,
     "metadata": {},
     "output_type": "execute_result"
    }
   ],
   "source": [
    "aa[4:31:5]"
   ]
  },
  {
   "cell_type": "markdown",
   "metadata": {},
   "source": [
    "### Αντιστροφή σειράς στοιχείων λίστας"
   ]
  },
  {
   "cell_type": "code",
   "execution_count": 42,
   "metadata": {
    "collapsed": false
   },
   "outputs": [
    {
     "data": {
      "text/plain": [
       "['Su', 'Sa', 'Fr', 'Th', 'We', 'Tu', 'Mo']"
      ]
     },
     "execution_count": 42,
     "metadata": {},
     "output_type": "execute_result"
    }
   ],
   "source": [
    "weekDays[::-1]"
   ]
  },
  {
   "cell_type": "markdown",
   "metadata": {},
   "source": [
    "<a id='2.1.11'></a>\n",
    "### Ταξινόμηση με το sort"
   ]
  },
  {
   "cell_type": "code",
   "execution_count": 43,
   "metadata": {
    "collapsed": false
   },
   "outputs": [],
   "source": [
    "weekDays.sort() "
   ]
  },
  {
   "cell_type": "code",
   "execution_count": 44,
   "metadata": {
    "collapsed": false
   },
   "outputs": [
    {
     "data": {
      "text/plain": [
       "['Fr', 'Mo', 'Sa', 'Su', 'Th', 'Tu', 'We']"
      ]
     },
     "execution_count": 44,
     "metadata": {},
     "output_type": "execute_result"
    }
   ],
   "source": [
    "weekDays"
   ]
  },
  {
   "cell_type": "code",
   "execution_count": 45,
   "metadata": {
    "collapsed": true
   },
   "outputs": [],
   "source": [
    "weekDays.sort(reverse=True) "
   ]
  },
  {
   "cell_type": "code",
   "execution_count": 46,
   "metadata": {
    "collapsed": false
   },
   "outputs": [
    {
     "data": {
      "text/plain": [
       "['We', 'Tu', 'Th', 'Su', 'Sa', 'Mo', 'Fr']"
      ]
     },
     "execution_count": 46,
     "metadata": {},
     "output_type": "execute_result"
    }
   ],
   "source": [
    "weekDays"
   ]
  },
  {
   "cell_type": "code",
   "execution_count": 47,
   "metadata": {
    "collapsed": false
   },
   "outputs": [],
   "source": [
    "bb=['100','ab','f','12']\n",
    "bb.sort(key=len)"
   ]
  },
  {
   "cell_type": "code",
   "execution_count": 48,
   "metadata": {
    "collapsed": false
   },
   "outputs": [
    {
     "data": {
      "text/plain": [
       "['f', 'ab', '12', '100']"
      ]
     },
     "execution_count": 48,
     "metadata": {},
     "output_type": "execute_result"
    }
   ],
   "source": [
    "bb"
   ]
  },
  {
   "cell_type": "markdown",
   "metadata": {},
   "source": [
    "### Ταξινόμηση με το sorted: Διατηρεί αναλλοίωτη την αρχική λίστα"
   ]
  },
  {
   "cell_type": "code",
   "execution_count": 49,
   "metadata": {
    "collapsed": false
   },
   "outputs": [
    {
     "name": "stdout",
     "output_type": "stream",
     "text": [
      "['Mo', 'Tu', 'We', 'Th', 'Fr', 'Sa', 'Su']\n",
      "['Fr', 'Mo', 'Sa', 'Su', 'Th', 'Tu', 'We']\n",
      "['We', 'Tu', 'Th', 'Su', 'Sa', 'Mo', 'Fr']\n"
     ]
    }
   ],
   "source": [
    "weekDays = ['Mo','Tu','We','Th','Fr','Sa','Su']\n",
    "swd1 = sorted(weekDays)\n",
    "swd2 = sorted(weekDays,reverse=True)\n",
    "print weekDays\n",
    "print swd1\n",
    "print swd2"
   ]
  },
  {
   "cell_type": "markdown",
   "metadata": {
    "collapsed": true
   },
   "source": [
    "<a id='2.1.12'></a>\n",
    "### Μετατροπή συμβολοσειράς σε λίστα με στοιχεία τα σύμβολα της συμβολοσειράς"
   ]
  },
  {
   "cell_type": "code",
   "execution_count": 50,
   "metadata": {
    "collapsed": false
   },
   "outputs": [
    {
     "name": "stdout",
     "output_type": "stream",
     "text": [
      "['H', 'e', 'l', 'l', 'o', ' ', 'W', 'o', 'r', 'l', 'd', '!']\n",
      "['Hello', 'World!']\n"
     ]
    }
   ],
   "source": [
    "s = 'Hello World!'\n",
    "\n",
    "sList=[]\n",
    "for char in s:\n",
    "    sList.append(char)\n",
    "print sList\n",
    "\n",
    "sListW = s.split()\n",
    "print sListW"
   ]
  },
  {
   "cell_type": "markdown",
   "metadata": {
    "collapsed": true
   },
   "source": [
    "### Μετατροπή λίστας σε συμβολοσειρά αποτελούμενη από τα στοιχεία της λίστας χωρισμένα με κάποιο διαχωριστικό χαρακτήρα μέσω του join"
   ]
  },
  {
   "cell_type": "code",
   "execution_count": 51,
   "metadata": {
    "collapsed": false
   },
   "outputs": [
    {
     "name": "stdout",
     "output_type": "stream",
     "text": [
      "PatraAthinaKavala\n",
      "Patra Athina Kavala\n",
      "PatraXXXAthinaXXXKavala\n"
     ]
    },
    {
     "data": {
      "text/plain": [
       "'Hello World!'"
      ]
     },
     "execution_count": 51,
     "metadata": {},
     "output_type": "execute_result"
    }
   ],
   "source": [
    "ll = ['Patra','Athina','Kavala']\n",
    "print ''.join(ll)      #XWRIS kanena diaxwristiko\n",
    "print ' '.join(ll)     #Me ena keno ws diaxwristiko\n",
    "print 'XXX'.join(ll)   #Me to XXX ws diaxwristiko\n",
    "''.join(sList)"
   ]
  },
  {
   "cell_type": "markdown",
   "metadata": {},
   "source": [
    "<a id='2.2'></a>\n",
    "## 2.2 Σύνολα"
   ]
  },
  {
   "cell_type": "markdown",
   "metadata": {
    "collapsed": true
   },
   "source": [
    "### Σύνολο = 'συλλογή' στοιχείων/αντικειμένων, που  είναι:\n",
    "* **Μοναδικά** (τα στοιχεία ενός συνόλου ΔΕΝ μπορούν επαναλαμβάνονται)\n",
    "* **Χωρίς διάταξη** (τα στοιχεία ενός συνόλου ΔΕΝ έχουν καμιά σειρά, δεν κρατούν θέσεις/δείκτες)\n",
    "* **Μεταβλητά** (τα στοιχεία ενός συνόλου μπορούν να αλλάξουν: να προστεθούν, να αφαιρεθούν ή να αντικατασταθούν)\n",
    "* **Δεδομένα διάφορων τύπων**:\n",
    "    - αριθμοί - ακέραιοι ή πραγματικοί \n",
    "    - συμβολοσειρές\n",
    "    - μεταβλητές\n",
    "    - λίστες (σύνολα, λεξικά, πλειάδες)\n",
    "    \n",
    "### Ένα σύνολο γράφεται ως set = {element1, element2, ..., elementn} ή ως set = set([element1, element2, ..., elementn])\n",
    "* **Άδειο σύνολο**: **empty_set = set()**\n",
    "* **Μήκος συνόλου**: **len(set)** = το πλήθος των στοιχείων του συνόλου set"
   ]
  },
  {
   "cell_type": "markdown",
   "metadata": {
    "collapsed": true
   },
   "source": [
    "<a id='2.2.1'></a>\n",
    "### Μετατροπές λιστών-συνόλων"
   ]
  },
  {
   "cell_type": "code",
   "execution_count": 52,
   "metadata": {
    "collapsed": false
   },
   "outputs": [
    {
     "name": "stdout",
     "output_type": "stream",
     "text": [
      "['a', 45, 'G', -10.34, 'a', 'G'] <type 'list'>\n",
      "set(['a', 45, 'G', -10.34]) <type 'set'>\n",
      "['a', 45, 'G', -10.34] <type 'list'>\n"
     ]
    }
   ],
   "source": [
    "aList = ['a',45,'G',-10.34,'a','G']\n",
    "print aList, type(aList)\n",
    "aSet = set(aList)\n",
    "print aSet, type(aSet)\n",
    "# aaList = list(aSet)\n",
    "aaList = [i for i in iter(aSet)]\n",
    "print aaList, type(aaList)"
   ]
  },
  {
   "cell_type": "code",
   "execution_count": 53,
   "metadata": {
    "collapsed": false
   },
   "outputs": [
    {
     "data": {
      "text/plain": [
       "45"
      ]
     },
     "execution_count": 53,
     "metadata": {},
     "output_type": "execute_result"
    }
   ],
   "source": [
    "aaList[1]"
   ]
  },
  {
   "cell_type": "code",
   "execution_count": 54,
   "metadata": {
    "collapsed": false
   },
   "outputs": [],
   "source": [
    "# aSet[1]"
   ]
  },
  {
   "cell_type": "markdown",
   "metadata": {
    "collapsed": true
   },
   "source": [
    "<a id='2.2.2'></a>\n",
    "### Προσθήκη ενός στοιχείου σε σύνολο με το add"
   ]
  },
  {
   "cell_type": "code",
   "execution_count": 55,
   "metadata": {
    "collapsed": false
   },
   "outputs": [
    {
     "data": {
      "text/plain": [
       "{'C', 'R', 'java', 'python'}"
      ]
     },
     "execution_count": 55,
     "metadata": {},
     "output_type": "execute_result"
    }
   ],
   "source": [
    "languages = {'python','java','R'}\n",
    "languages.add('C')\n",
    "languages"
   ]
  },
  {
   "cell_type": "markdown",
   "metadata": {},
   "source": [
    "<a id='2.2.3'></a>\n",
    "### Προσθήκη περισσότερων του ενός στοιχείων σε σύνολο με το update"
   ]
  },
  {
   "cell_type": "code",
   "execution_count": 56,
   "metadata": {
    "collapsed": false
   },
   "outputs": [
    {
     "data": {
      "text/plain": [
       "{'C', 'C++', 'Perl', 'R', 'Ruby', 'java', 'python'}"
      ]
     },
     "execution_count": 56,
     "metadata": {},
     "output_type": "execute_result"
    }
   ],
   "source": [
    "languages.update({\"C++\",'Perl','Ruby'})\n",
    "languages"
   ]
  },
  {
   "cell_type": "code",
   "execution_count": 57,
   "metadata": {
    "collapsed": false
   },
   "outputs": [
    {
     "name": "stdout",
     "output_type": "stream",
     "text": [
      "set([0, 1, 2, 3, 4, 5, 6, 7, 8, 9, 10, 11, 12, 13, 14, 15, 16, 17, 18, 19, 20, 21, 22, 23, 24, 25, 26, 27, 28, 29, 40, 300])\n"
     ]
    }
   ],
   "source": [
    "nums = set(range(30))\n",
    "nums.update({300,40})\n",
    "print nums"
   ]
  },
  {
   "cell_type": "markdown",
   "metadata": {},
   "source": [
    "<a id='2.2.4'></a>\n",
    "### Αφαίρεση ενός στοιχείου συνόλου με το remove (δίνει λάθος αν δεν υπάρχει)"
   ]
  },
  {
   "cell_type": "code",
   "execution_count": 58,
   "metadata": {
    "collapsed": false
   },
   "outputs": [
    {
     "name": "stdout",
     "output_type": "stream",
     "text": [
      "set([0, 1, 2, 3, 4, 5, 6, 7, 8, 9, 10, 11, 12, 13, 14, 15, 16, 17, 18, 19, 20, 21, 22, 23, 24, 25, 26, 27, 28, 29, 300])\n"
     ]
    }
   ],
   "source": [
    "nums.remove(40)\n",
    "print nums"
   ]
  },
  {
   "cell_type": "code",
   "execution_count": 59,
   "metadata": {
    "collapsed": false
   },
   "outputs": [],
   "source": [
    "# languages.remove('javascript')"
   ]
  },
  {
   "cell_type": "markdown",
   "metadata": {},
   "source": [
    "<a id='2.2.5'></a>\n",
    "### Αφαίρεση ενός στοιχείου συνόλου με το discard (χωρίς λάθος αν δεν υπάρχει)"
   ]
  },
  {
   "cell_type": "code",
   "execution_count": 60,
   "metadata": {
    "collapsed": false
   },
   "outputs": [
    {
     "data": {
      "text/plain": [
       "{'C', 'C++', 'Perl', 'R', 'Ruby', 'java', 'python'}"
      ]
     },
     "execution_count": 60,
     "metadata": {},
     "output_type": "execute_result"
    }
   ],
   "source": [
    "languages.discard('javascript')\n",
    "languages"
   ]
  },
  {
   "cell_type": "code",
   "execution_count": 61,
   "metadata": {
    "collapsed": false
   },
   "outputs": [
    {
     "name": "stdout",
     "output_type": "stream",
     "text": [
      "set([0, 21, 22, 23, 24, 25, 26, 28, 29, 300])\n"
     ]
    }
   ],
   "source": [
    "nums.discard(27)\n",
    "for i in range(1,21):\n",
    "    nums.discard(i)\n",
    "print nums"
   ]
  },
  {
   "cell_type": "markdown",
   "metadata": {},
   "source": [
    "<a id='2.2.6'></a>\n",
    "### Αφαίρεση ενός ΤΥΧΑΙΟΥ στοιχείου συνόλου με το pop"
   ]
  },
  {
   "cell_type": "code",
   "execution_count": 62,
   "metadata": {
    "collapsed": false
   },
   "outputs": [
    {
     "data": {
      "text/plain": [
       "{21, 22, 23, 24, 25, 26, 28, 29, 300}"
      ]
     },
     "execution_count": 62,
     "metadata": {},
     "output_type": "execute_result"
    }
   ],
   "source": [
    "nums.pop()\n",
    "nums"
   ]
  },
  {
   "cell_type": "markdown",
   "metadata": {},
   "source": [
    "<a id='2.2.7'></a>\n",
    "### Αφαίρεση ΟΛΩΝ των στοιχείων συνόλου με το clear"
   ]
  },
  {
   "cell_type": "code",
   "execution_count": 63,
   "metadata": {
    "collapsed": false
   },
   "outputs": [
    {
     "data": {
      "text/plain": [
       "set()"
      ]
     },
     "execution_count": 63,
     "metadata": {},
     "output_type": "execute_result"
    }
   ],
   "source": [
    "nums.clear()\n",
    "nums"
   ]
  },
  {
   "cell_type": "markdown",
   "metadata": {},
   "source": [
    "<a id='2.2.8'></a>\n",
    "### Ένωση δυο συνόλων (x.union(y) ή x|y)"
   ]
  },
  {
   "cell_type": "code",
   "execution_count": 64,
   "metadata": {
    "collapsed": false
   },
   "outputs": [
    {
     "name": "stdout",
     "output_type": "stream",
     "text": [
      "set(['greek', 'R', 'java', 'python', 'arabic'])\n",
      "set(['greek', 'R', 'java', 'python', 'arabic'])\n"
     ]
    },
    {
     "data": {
      "text/plain": [
       "True"
      ]
     },
     "execution_count": 64,
     "metadata": {},
     "output_type": "execute_result"
    }
   ],
   "source": [
    "languages = {'python','java','R'}\n",
    "coffees = {'arabic','greek','java'}\n",
    "\n",
    "print languages.union(coffees)\n",
    "print languages | coffees\n",
    "\n",
    "languages | coffees == coffees | languages"
   ]
  },
  {
   "cell_type": "markdown",
   "metadata": {},
   "source": [
    "<a id='2.2.9'></a>\n",
    "### Τομή δυο συνόλων (x.intersection(y) ή x&y)"
   ]
  },
  {
   "cell_type": "code",
   "execution_count": 65,
   "metadata": {
    "collapsed": false
   },
   "outputs": [
    {
     "name": "stdout",
     "output_type": "stream",
     "text": [
      "set(['java'])\n",
      "set(['java'])\n"
     ]
    },
    {
     "data": {
      "text/plain": [
       "True"
      ]
     },
     "execution_count": 65,
     "metadata": {},
     "output_type": "execute_result"
    }
   ],
   "source": [
    "print languages.intersection(coffees)\n",
    "print languages & coffees\n",
    "\n",
    "languages & coffees == coffees & languages"
   ]
  },
  {
   "cell_type": "markdown",
   "metadata": {},
   "source": [
    "<a id='2.2.10'></a>\n",
    "### Διαφορά δυο συνόλων (x.difference(y) ή x-y)"
   ]
  },
  {
   "cell_type": "code",
   "execution_count": 66,
   "metadata": {
    "collapsed": false
   },
   "outputs": [
    {
     "name": "stdout",
     "output_type": "stream",
     "text": [
      "set(['python', 'R'])\n",
      "set(['python', 'R'])\n",
      "set(['greek', 'arabic'])\n"
     ]
    },
    {
     "data": {
      "text/plain": [
       "False"
      ]
     },
     "execution_count": 66,
     "metadata": {},
     "output_type": "execute_result"
    }
   ],
   "source": [
    "print languages.difference(coffees)\n",
    "print languages - coffees\n",
    "\n",
    "print coffees - languages\n",
    "\n",
    "languages - coffees == coffees - languages"
   ]
  },
  {
   "cell_type": "markdown",
   "metadata": {},
   "source": [
    "<a id='2.2.11'></a>\n",
    "### Συμμετρική διαφορά δυο συνόλων (x.symmetric_difference(y) ή x^y)"
   ]
  },
  {
   "cell_type": "code",
   "execution_count": 67,
   "metadata": {
    "collapsed": false
   },
   "outputs": [
    {
     "name": "stdout",
     "output_type": "stream",
     "text": [
      "set(['python', 'greek', 'arabic', 'R'])\n",
      "set(['python', 'greek', 'arabic', 'R'])\n"
     ]
    },
    {
     "data": {
      "text/plain": [
       "True"
      ]
     },
     "execution_count": 67,
     "metadata": {},
     "output_type": "execute_result"
    }
   ],
   "source": [
    "print languages.symmetric_difference(coffees)\n",
    "print languages ^ coffees\n",
    "\n",
    "languages ^ coffees == coffees ^ languages"
   ]
  },
  {
   "cell_type": "code",
   "execution_count": null,
   "metadata": {
    "collapsed": true
   },
   "outputs": [],
   "source": []
  }
 ],
 "metadata": {
  "kernelspec": {
   "display_name": "Python 2",
   "language": "python",
   "name": "python2"
  },
  "language_info": {
   "codemirror_mode": {
    "name": "ipython",
    "version": 2
   },
   "file_extension": ".py",
   "mimetype": "text/x-python",
   "name": "python",
   "nbconvert_exporter": "python",
   "pygments_lexer": "ipython2",
   "version": "2.7.11"
  }
 },
 "nbformat": 4,
 "nbformat_minor": 0
}
